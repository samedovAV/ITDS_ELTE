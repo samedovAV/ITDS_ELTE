{
 "cells": [
  {
   "cell_type": "code",
   "execution_count": 1,
   "outputs": [
    {
     "data": {
      "text/plain": "(7500, 20)"
     },
     "execution_count": 1,
     "metadata": {},
     "output_type": "execute_result"
    }
   ],
   "source": [
    "# importing module\n",
    "import pandas as pd\n",
    "\n",
    "# dataset\n",
    "dataset = pd.read_csv(\"../Datasets/Market_Basket_Optimisation.csv\")\n",
    "\n",
    "# printing the shape of the dataset\n",
    "dataset.shape"
   ],
   "metadata": {
    "collapsed": false
   }
  },
  {
   "cell_type": "code",
   "execution_count": 2,
   "outputs": [
    {
     "data": {
      "text/plain": "           shrimp    almonds     avocado    vegetables mix green grapes  \\\n0         burgers  meatballs        eggs               NaN          NaN   \n1         chutney        NaN         NaN               NaN          NaN   \n2          turkey    avocado         NaN               NaN          NaN   \n3   mineral water       milk  energy bar  whole wheat rice    green tea   \n4  low fat yogurt        NaN         NaN               NaN          NaN   \n\n  whole weat flour yams cottage cheese energy drink tomato juice  \\\n0              NaN  NaN            NaN          NaN          NaN   \n1              NaN  NaN            NaN          NaN          NaN   \n2              NaN  NaN            NaN          NaN          NaN   \n3              NaN  NaN            NaN          NaN          NaN   \n4              NaN  NaN            NaN          NaN          NaN   \n\n  low fat yogurt green tea honey salad mineral water salmon antioxydant juice  \\\n0            NaN       NaN   NaN   NaN           NaN    NaN               NaN   \n1            NaN       NaN   NaN   NaN           NaN    NaN               NaN   \n2            NaN       NaN   NaN   NaN           NaN    NaN               NaN   \n3            NaN       NaN   NaN   NaN           NaN    NaN               NaN   \n4            NaN       NaN   NaN   NaN           NaN    NaN               NaN   \n\n  frozen smoothie spinach  olive oil  \n0             NaN     NaN        NaN  \n1             NaN     NaN        NaN  \n2             NaN     NaN        NaN  \n3             NaN     NaN        NaN  \n4             NaN     NaN        NaN  ",
      "text/html": "<div>\n<style scoped>\n    .dataframe tbody tr th:only-of-type {\n        vertical-align: middle;\n    }\n\n    .dataframe tbody tr th {\n        vertical-align: top;\n    }\n\n    .dataframe thead th {\n        text-align: right;\n    }\n</style>\n<table border=\"1\" class=\"dataframe\">\n  <thead>\n    <tr style=\"text-align: right;\">\n      <th></th>\n      <th>shrimp</th>\n      <th>almonds</th>\n      <th>avocado</th>\n      <th>vegetables mix</th>\n      <th>green grapes</th>\n      <th>whole weat flour</th>\n      <th>yams</th>\n      <th>cottage cheese</th>\n      <th>energy drink</th>\n      <th>tomato juice</th>\n      <th>low fat yogurt</th>\n      <th>green tea</th>\n      <th>honey</th>\n      <th>salad</th>\n      <th>mineral water</th>\n      <th>salmon</th>\n      <th>antioxydant juice</th>\n      <th>frozen smoothie</th>\n      <th>spinach</th>\n      <th>olive oil</th>\n    </tr>\n  </thead>\n  <tbody>\n    <tr>\n      <th>0</th>\n      <td>burgers</td>\n      <td>meatballs</td>\n      <td>eggs</td>\n      <td>NaN</td>\n      <td>NaN</td>\n      <td>NaN</td>\n      <td>NaN</td>\n      <td>NaN</td>\n      <td>NaN</td>\n      <td>NaN</td>\n      <td>NaN</td>\n      <td>NaN</td>\n      <td>NaN</td>\n      <td>NaN</td>\n      <td>NaN</td>\n      <td>NaN</td>\n      <td>NaN</td>\n      <td>NaN</td>\n      <td>NaN</td>\n      <td>NaN</td>\n    </tr>\n    <tr>\n      <th>1</th>\n      <td>chutney</td>\n      <td>NaN</td>\n      <td>NaN</td>\n      <td>NaN</td>\n      <td>NaN</td>\n      <td>NaN</td>\n      <td>NaN</td>\n      <td>NaN</td>\n      <td>NaN</td>\n      <td>NaN</td>\n      <td>NaN</td>\n      <td>NaN</td>\n      <td>NaN</td>\n      <td>NaN</td>\n      <td>NaN</td>\n      <td>NaN</td>\n      <td>NaN</td>\n      <td>NaN</td>\n      <td>NaN</td>\n      <td>NaN</td>\n    </tr>\n    <tr>\n      <th>2</th>\n      <td>turkey</td>\n      <td>avocado</td>\n      <td>NaN</td>\n      <td>NaN</td>\n      <td>NaN</td>\n      <td>NaN</td>\n      <td>NaN</td>\n      <td>NaN</td>\n      <td>NaN</td>\n      <td>NaN</td>\n      <td>NaN</td>\n      <td>NaN</td>\n      <td>NaN</td>\n      <td>NaN</td>\n      <td>NaN</td>\n      <td>NaN</td>\n      <td>NaN</td>\n      <td>NaN</td>\n      <td>NaN</td>\n      <td>NaN</td>\n    </tr>\n    <tr>\n      <th>3</th>\n      <td>mineral water</td>\n      <td>milk</td>\n      <td>energy bar</td>\n      <td>whole wheat rice</td>\n      <td>green tea</td>\n      <td>NaN</td>\n      <td>NaN</td>\n      <td>NaN</td>\n      <td>NaN</td>\n      <td>NaN</td>\n      <td>NaN</td>\n      <td>NaN</td>\n      <td>NaN</td>\n      <td>NaN</td>\n      <td>NaN</td>\n      <td>NaN</td>\n      <td>NaN</td>\n      <td>NaN</td>\n      <td>NaN</td>\n      <td>NaN</td>\n    </tr>\n    <tr>\n      <th>4</th>\n      <td>low fat yogurt</td>\n      <td>NaN</td>\n      <td>NaN</td>\n      <td>NaN</td>\n      <td>NaN</td>\n      <td>NaN</td>\n      <td>NaN</td>\n      <td>NaN</td>\n      <td>NaN</td>\n      <td>NaN</td>\n      <td>NaN</td>\n      <td>NaN</td>\n      <td>NaN</td>\n      <td>NaN</td>\n      <td>NaN</td>\n      <td>NaN</td>\n      <td>NaN</td>\n      <td>NaN</td>\n      <td>NaN</td>\n      <td>NaN</td>\n    </tr>\n  </tbody>\n</table>\n</div>"
     },
     "execution_count": 2,
     "metadata": {},
     "output_type": "execute_result"
    }
   ],
   "source": [
    "# printing the columns and few rows using head\n",
    "dataset.head()"
   ],
   "metadata": {
    "collapsed": false
   }
  },
  {
   "cell_type": "code",
   "execution_count": 3,
   "outputs": [
    {
     "name": "stdout",
     "output_type": "stream",
     "text": [
      "['burgers' 'meatballs' 'eggs' ... 'nan' 'nan' 'nan']\n"
     ]
    }
   ],
   "source": [
    "# importing module\n",
    "import numpy as np\n",
    "\n",
    "# Gather All Items of Each Transactions into Numpy Array\n",
    "transaction = []\n",
    "for i in range(0, dataset.shape[0]):\n",
    "    for j in range(0, dataset.shape[1]):\n",
    "        transaction.append(dataset.values[i,j])\n",
    "\n",
    "# converting to numpy array\n",
    "transaction = np.array(transaction)\n",
    "print(transaction)"
   ],
   "metadata": {
    "collapsed": false
   }
  },
  {
   "cell_type": "code",
   "execution_count": 4,
   "outputs": [
    {
     "data": {
      "text/plain": "<pandas.io.formats.style.Styler at 0x7f1dfa998640>",
      "text/html": "<style type=\"text/css\">\n#T_55767_row0_col1 {\n  background-color: #08306b;\n  color: #f1f1f1;\n}\n#T_55767_row1_col1 {\n  background-color: #cde0f1;\n  color: #000000;\n}\n#T_55767_row2_col1 {\n  background-color: #dceaf6;\n  color: #000000;\n}\n#T_55767_row3_col1 {\n  background-color: #e5eff9;\n  color: #000000;\n}\n#T_55767_row4_col1 {\n  background-color: #f7fbff;\n  color: #000000;\n}\n</style>\n<table id=\"T_55767\">\n  <thead>\n    <tr>\n      <th class=\"blank level0\" >&nbsp;</th>\n      <th id=\"T_55767_level0_col0\" class=\"col_heading level0 col0\" >items</th>\n      <th id=\"T_55767_level0_col1\" class=\"col_heading level0 col1\" >incident_count</th>\n    </tr>\n  </thead>\n  <tbody>\n    <tr>\n      <th id=\"T_55767_level0_row0\" class=\"row_heading level0 row0\" >0</th>\n      <td id=\"T_55767_row0_col0\" class=\"data row0 col0\" >mineral water</td>\n      <td id=\"T_55767_row0_col1\" class=\"data row0 col1\" >1787</td>\n    </tr>\n    <tr>\n      <th id=\"T_55767_level0_row1\" class=\"row_heading level0 row1\" >1</th>\n      <td id=\"T_55767_row1_col0\" class=\"data row1 col0\" >eggs</td>\n      <td id=\"T_55767_row1_col1\" class=\"data row1 col1\" >1348</td>\n    </tr>\n    <tr>\n      <th id=\"T_55767_level0_row2\" class=\"row_heading level0 row2\" >2</th>\n      <td id=\"T_55767_row2_col0\" class=\"data row2 col0\" >spaghetti</td>\n      <td id=\"T_55767_row2_col1\" class=\"data row2 col1\" >1306</td>\n    </tr>\n    <tr>\n      <th id=\"T_55767_level0_row3\" class=\"row_heading level0 row3\" >3</th>\n      <td id=\"T_55767_row3_col0\" class=\"data row3 col0\" >french fries</td>\n      <td id=\"T_55767_row3_col1\" class=\"data row3 col1\" >1282</td>\n    </tr>\n    <tr>\n      <th id=\"T_55767_level0_row4\" class=\"row_heading level0 row4\" >4</th>\n      <td id=\"T_55767_row4_col0\" class=\"data row4 col0\" >chocolate</td>\n      <td id=\"T_55767_row4_col1\" class=\"data row4 col1\" >1230</td>\n    </tr>\n  </tbody>\n</table>\n"
     },
     "execution_count": 4,
     "metadata": {},
     "output_type": "execute_result"
    }
   ],
   "source": [
    "#  Transform Them a Pandas DataFrame\n",
    "df = pd.DataFrame(transaction, columns=[\"items\"])\n",
    "\n",
    "# Put 1 to Each Item For Making Countable Table, to be able to perform Group By\n",
    "df[\"incident_count\"] = 1\n",
    "\n",
    "#  Delete NaN Items from Dataset\n",
    "indexNames = df[df['items'] == \"nan\" ].index\n",
    "df.drop(indexNames , inplace=True)\n",
    "\n",
    "# Making a New Appropriate Pandas DataFrame for Visualizations\n",
    "df_table = df.groupby(\"items\").sum().sort_values(\"incident_count\", ascending=False).reset_index()\n",
    "\n",
    "#  Initial Visualizations\n",
    "df_table.head(5).style.background_gradient(cmap='Blues')"
   ],
   "metadata": {
    "collapsed": false
   }
  },
  {
   "cell_type": "code",
   "execution_count": 8,
   "outputs": [
    {
     "data": {
      "application/vnd.plotly.v1+json": {
       "data": [
        {
         "branchvalues": "total",
         "customdata": [
          [
           "avocado",
           249.0
          ],
          [
           "brownies",
           253.0
          ],
          [
           "burgers",
           654.0
          ],
          [
           "butter",
           226.0
          ],
          [
           "cake",
           608.0
          ],
          [
           "cereals",
           193.0
          ],
          [
           "champagne",
           351.0
          ],
          [
           "chicken",
           450.0
          ],
          [
           "chocolate",
           1230.0
          ],
          [
           "cookies",
           603.0
          ],
          [
           "cooking oil",
           383.0
          ],
          [
           "cottage cheese",
           238.0
          ],
          [
           "eggs",
           1348.0
          ],
          [
           "energy bar",
           203.0
          ],
          [
           "energy drink",
           199.0
          ],
          [
           "escalope",
           595.0
          ],
          [
           "french fries",
           1282.0
          ],
          [
           "french wine",
           169.0
          ],
          [
           "fresh bread",
           323.0
          ],
          [
           "fresh tuna",
           167.0
          ],
          [
           "frozen smoothie",
           474.0
          ],
          [
           "frozen vegetables",
           715.0
          ],
          [
           "grated cheese",
           393.0
          ],
          [
           "green tea",
           990.0
          ],
          [
           "ground beef",
           737.0
          ],
          [
           "ham",
           203.0
          ],
          [
           "herb & pepper",
           371.0
          ],
          [
           "honey",
           355.0
          ],
          [
           "hot dogs",
           243.0
          ],
          [
           "light mayo",
           204.0
          ],
          [
           "low fat yogurt",
           573.0
          ],
          [
           "milk",
           972.0
          ],
          [
           "mineral water",
           1787.0
          ],
          [
           "muffins",
           181.0
          ],
          [
           "oil",
           173.0
          ],
          [
           "olive oil",
           493.0
          ],
          [
           "pancakes",
           713.0
          ],
          [
           "pepper",
           199.0
          ],
          [
           "red wine",
           211.0
          ],
          [
           "salmon",
           318.0
          ],
          [
           "shrimp",
           535.0
          ],
          [
           "soup",
           379.0
          ],
          [
           "spaghetti",
           1306.0
          ],
          [
           "tomato juice",
           227.0
          ],
          [
           "tomatoes",
           513.0
          ],
          [
           "turkey",
           469.0
          ],
          [
           "vegetables mix",
           192.0
          ],
          [
           "whole wheat pasta",
           221.0
          ],
          [
           "whole wheat rice",
           439.0
          ],
          [
           "yogurt cake",
           205.0
          ],
          [
           "(?)",
           764.8014276973282
          ]
         ],
         "domain": {
          "x": [
           0.0,
           1.0
          ],
          "y": [
           0.0,
           1.0
          ]
         },
         "hovertemplate": "labels=%{label}<br>incident_count=%{value}<br>parent=%{parent}<br>id=%{id}<br>items=%{customdata[0]}<br>color=%{color}<extra></extra>",
         "ids": [
          "Top 50 items/avocado",
          "Top 50 items/brownies",
          "Top 50 items/burgers",
          "Top 50 items/butter",
          "Top 50 items/cake",
          "Top 50 items/cereals",
          "Top 50 items/champagne",
          "Top 50 items/chicken",
          "Top 50 items/chocolate",
          "Top 50 items/cookies",
          "Top 50 items/cooking oil",
          "Top 50 items/cottage cheese",
          "Top 50 items/eggs",
          "Top 50 items/energy bar",
          "Top 50 items/energy drink",
          "Top 50 items/escalope",
          "Top 50 items/french fries",
          "Top 50 items/french wine",
          "Top 50 items/fresh bread",
          "Top 50 items/fresh tuna",
          "Top 50 items/frozen smoothie",
          "Top 50 items/frozen vegetables",
          "Top 50 items/grated cheese",
          "Top 50 items/green tea",
          "Top 50 items/ground beef",
          "Top 50 items/ham",
          "Top 50 items/herb & pepper",
          "Top 50 items/honey",
          "Top 50 items/hot dogs",
          "Top 50 items/light mayo",
          "Top 50 items/low fat yogurt",
          "Top 50 items/milk",
          "Top 50 items/mineral water",
          "Top 50 items/muffins",
          "Top 50 items/oil",
          "Top 50 items/olive oil",
          "Top 50 items/pancakes",
          "Top 50 items/pepper",
          "Top 50 items/red wine",
          "Top 50 items/salmon",
          "Top 50 items/shrimp",
          "Top 50 items/soup",
          "Top 50 items/spaghetti",
          "Top 50 items/tomato juice",
          "Top 50 items/tomatoes",
          "Top 50 items/turkey",
          "Top 50 items/vegetables mix",
          "Top 50 items/whole wheat pasta",
          "Top 50 items/whole wheat rice",
          "Top 50 items/yogurt cake",
          "Top 50 items"
         ],
         "labels": [
          "avocado",
          "brownies",
          "burgers",
          "butter",
          "cake",
          "cereals",
          "champagne",
          "chicken",
          "chocolate",
          "cookies",
          "cooking oil",
          "cottage cheese",
          "eggs",
          "energy bar",
          "energy drink",
          "escalope",
          "french fries",
          "french wine",
          "fresh bread",
          "fresh tuna",
          "frozen smoothie",
          "frozen vegetables",
          "grated cheese",
          "green tea",
          "ground beef",
          "ham",
          "herb & pepper",
          "honey",
          "hot dogs",
          "light mayo",
          "low fat yogurt",
          "milk",
          "mineral water",
          "muffins",
          "oil",
          "olive oil",
          "pancakes",
          "pepper",
          "red wine",
          "salmon",
          "shrimp",
          "soup",
          "spaghetti",
          "tomato juice",
          "tomatoes",
          "turkey",
          "vegetables mix",
          "whole wheat pasta",
          "whole wheat rice",
          "yogurt cake",
          "Top 50 items"
         ],
         "marker": {
          "coloraxis": "coloraxis",
          "colors": [
           249.0,
           253.0,
           654.0,
           226.0,
           608.0,
           193.0,
           351.0,
           450.0,
           1230.0,
           603.0,
           383.0,
           238.0,
           1348.0,
           203.0,
           199.0,
           595.0,
           1282.0,
           169.0,
           323.0,
           167.0,
           474.0,
           715.0,
           393.0,
           990.0,
           737.0,
           203.0,
           371.0,
           355.0,
           243.0,
           204.0,
           573.0,
           972.0,
           1787.0,
           181.0,
           173.0,
           493.0,
           713.0,
           199.0,
           211.0,
           318.0,
           535.0,
           379.0,
           1306.0,
           227.0,
           513.0,
           469.0,
           192.0,
           221.0,
           439.0,
           205.0,
           764.8014276973282
          ]
         },
         "name": "",
         "parents": [
          "Top 50 items",
          "Top 50 items",
          "Top 50 items",
          "Top 50 items",
          "Top 50 items",
          "Top 50 items",
          "Top 50 items",
          "Top 50 items",
          "Top 50 items",
          "Top 50 items",
          "Top 50 items",
          "Top 50 items",
          "Top 50 items",
          "Top 50 items",
          "Top 50 items",
          "Top 50 items",
          "Top 50 items",
          "Top 50 items",
          "Top 50 items",
          "Top 50 items",
          "Top 50 items",
          "Top 50 items",
          "Top 50 items",
          "Top 50 items",
          "Top 50 items",
          "Top 50 items",
          "Top 50 items",
          "Top 50 items",
          "Top 50 items",
          "Top 50 items",
          "Top 50 items",
          "Top 50 items",
          "Top 50 items",
          "Top 50 items",
          "Top 50 items",
          "Top 50 items",
          "Top 50 items",
          "Top 50 items",
          "Top 50 items",
          "Top 50 items",
          "Top 50 items",
          "Top 50 items",
          "Top 50 items",
          "Top 50 items",
          "Top 50 items",
          "Top 50 items",
          "Top 50 items",
          "Top 50 items",
          "Top 50 items",
          "Top 50 items",
          ""
         ],
         "values": [
          249,
          253,
          654,
          226,
          608,
          193,
          351,
          450,
          1230,
          603,
          383,
          238,
          1348,
          203,
          199,
          595,
          1282,
          169,
          323,
          167,
          474,
          715,
          393,
          990,
          737,
          203,
          371,
          355,
          243,
          204,
          573,
          972,
          1787,
          181,
          173,
          493,
          713,
          199,
          211,
          318,
          535,
          379,
          1306,
          227,
          513,
          469,
          192,
          221,
          439,
          205,
          24515
         ],
         "type": "treemap"
        }
       ],
       "layout": {
        "template": {
         "data": {
          "histogram2dcontour": [
           {
            "type": "histogram2dcontour",
            "colorbar": {
             "outlinewidth": 0,
             "ticks": ""
            },
            "colorscale": [
             [
              0.0,
              "#0d0887"
             ],
             [
              0.1111111111111111,
              "#46039f"
             ],
             [
              0.2222222222222222,
              "#7201a8"
             ],
             [
              0.3333333333333333,
              "#9c179e"
             ],
             [
              0.4444444444444444,
              "#bd3786"
             ],
             [
              0.5555555555555556,
              "#d8576b"
             ],
             [
              0.6666666666666666,
              "#ed7953"
             ],
             [
              0.7777777777777778,
              "#fb9f3a"
             ],
             [
              0.8888888888888888,
              "#fdca26"
             ],
             [
              1.0,
              "#f0f921"
             ]
            ]
           }
          ],
          "choropleth": [
           {
            "type": "choropleth",
            "colorbar": {
             "outlinewidth": 0,
             "ticks": ""
            }
           }
          ],
          "histogram2d": [
           {
            "type": "histogram2d",
            "colorbar": {
             "outlinewidth": 0,
             "ticks": ""
            },
            "colorscale": [
             [
              0.0,
              "#0d0887"
             ],
             [
              0.1111111111111111,
              "#46039f"
             ],
             [
              0.2222222222222222,
              "#7201a8"
             ],
             [
              0.3333333333333333,
              "#9c179e"
             ],
             [
              0.4444444444444444,
              "#bd3786"
             ],
             [
              0.5555555555555556,
              "#d8576b"
             ],
             [
              0.6666666666666666,
              "#ed7953"
             ],
             [
              0.7777777777777778,
              "#fb9f3a"
             ],
             [
              0.8888888888888888,
              "#fdca26"
             ],
             [
              1.0,
              "#f0f921"
             ]
            ]
           }
          ],
          "heatmap": [
           {
            "type": "heatmap",
            "colorbar": {
             "outlinewidth": 0,
             "ticks": ""
            },
            "colorscale": [
             [
              0.0,
              "#0d0887"
             ],
             [
              0.1111111111111111,
              "#46039f"
             ],
             [
              0.2222222222222222,
              "#7201a8"
             ],
             [
              0.3333333333333333,
              "#9c179e"
             ],
             [
              0.4444444444444444,
              "#bd3786"
             ],
             [
              0.5555555555555556,
              "#d8576b"
             ],
             [
              0.6666666666666666,
              "#ed7953"
             ],
             [
              0.7777777777777778,
              "#fb9f3a"
             ],
             [
              0.8888888888888888,
              "#fdca26"
             ],
             [
              1.0,
              "#f0f921"
             ]
            ]
           }
          ],
          "heatmapgl": [
           {
            "type": "heatmapgl",
            "colorbar": {
             "outlinewidth": 0,
             "ticks": ""
            },
            "colorscale": [
             [
              0.0,
              "#0d0887"
             ],
             [
              0.1111111111111111,
              "#46039f"
             ],
             [
              0.2222222222222222,
              "#7201a8"
             ],
             [
              0.3333333333333333,
              "#9c179e"
             ],
             [
              0.4444444444444444,
              "#bd3786"
             ],
             [
              0.5555555555555556,
              "#d8576b"
             ],
             [
              0.6666666666666666,
              "#ed7953"
             ],
             [
              0.7777777777777778,
              "#fb9f3a"
             ],
             [
              0.8888888888888888,
              "#fdca26"
             ],
             [
              1.0,
              "#f0f921"
             ]
            ]
           }
          ],
          "contourcarpet": [
           {
            "type": "contourcarpet",
            "colorbar": {
             "outlinewidth": 0,
             "ticks": ""
            }
           }
          ],
          "contour": [
           {
            "type": "contour",
            "colorbar": {
             "outlinewidth": 0,
             "ticks": ""
            },
            "colorscale": [
             [
              0.0,
              "#0d0887"
             ],
             [
              0.1111111111111111,
              "#46039f"
             ],
             [
              0.2222222222222222,
              "#7201a8"
             ],
             [
              0.3333333333333333,
              "#9c179e"
             ],
             [
              0.4444444444444444,
              "#bd3786"
             ],
             [
              0.5555555555555556,
              "#d8576b"
             ],
             [
              0.6666666666666666,
              "#ed7953"
             ],
             [
              0.7777777777777778,
              "#fb9f3a"
             ],
             [
              0.8888888888888888,
              "#fdca26"
             ],
             [
              1.0,
              "#f0f921"
             ]
            ]
           }
          ],
          "surface": [
           {
            "type": "surface",
            "colorbar": {
             "outlinewidth": 0,
             "ticks": ""
            },
            "colorscale": [
             [
              0.0,
              "#0d0887"
             ],
             [
              0.1111111111111111,
              "#46039f"
             ],
             [
              0.2222222222222222,
              "#7201a8"
             ],
             [
              0.3333333333333333,
              "#9c179e"
             ],
             [
              0.4444444444444444,
              "#bd3786"
             ],
             [
              0.5555555555555556,
              "#d8576b"
             ],
             [
              0.6666666666666666,
              "#ed7953"
             ],
             [
              0.7777777777777778,
              "#fb9f3a"
             ],
             [
              0.8888888888888888,
              "#fdca26"
             ],
             [
              1.0,
              "#f0f921"
             ]
            ]
           }
          ],
          "mesh3d": [
           {
            "type": "mesh3d",
            "colorbar": {
             "outlinewidth": 0,
             "ticks": ""
            }
           }
          ],
          "scatter": [
           {
            "marker": {
             "line": {
              "color": "#283442"
             }
            },
            "type": "scatter"
           }
          ],
          "parcoords": [
           {
            "type": "parcoords",
            "line": {
             "colorbar": {
              "outlinewidth": 0,
              "ticks": ""
             }
            }
           }
          ],
          "scatterpolargl": [
           {
            "type": "scatterpolargl",
            "marker": {
             "colorbar": {
              "outlinewidth": 0,
              "ticks": ""
             }
            }
           }
          ],
          "bar": [
           {
            "error_x": {
             "color": "#f2f5fa"
            },
            "error_y": {
             "color": "#f2f5fa"
            },
            "marker": {
             "line": {
              "color": "rgb(17,17,17)",
              "width": 0.5
             },
             "pattern": {
              "fillmode": "overlay",
              "size": 10,
              "solidity": 0.2
             }
            },
            "type": "bar"
           }
          ],
          "scattergeo": [
           {
            "type": "scattergeo",
            "marker": {
             "colorbar": {
              "outlinewidth": 0,
              "ticks": ""
             }
            }
           }
          ],
          "scatterpolar": [
           {
            "type": "scatterpolar",
            "marker": {
             "colorbar": {
              "outlinewidth": 0,
              "ticks": ""
             }
            }
           }
          ],
          "histogram": [
           {
            "marker": {
             "pattern": {
              "fillmode": "overlay",
              "size": 10,
              "solidity": 0.2
             }
            },
            "type": "histogram"
           }
          ],
          "scattergl": [
           {
            "marker": {
             "line": {
              "color": "#283442"
             }
            },
            "type": "scattergl"
           }
          ],
          "scatter3d": [
           {
            "type": "scatter3d",
            "line": {
             "colorbar": {
              "outlinewidth": 0,
              "ticks": ""
             }
            },
            "marker": {
             "colorbar": {
              "outlinewidth": 0,
              "ticks": ""
             }
            }
           }
          ],
          "scattermapbox": [
           {
            "type": "scattermapbox",
            "marker": {
             "colorbar": {
              "outlinewidth": 0,
              "ticks": ""
             }
            }
           }
          ],
          "scatterternary": [
           {
            "type": "scatterternary",
            "marker": {
             "colorbar": {
              "outlinewidth": 0,
              "ticks": ""
             }
            }
           }
          ],
          "scattercarpet": [
           {
            "type": "scattercarpet",
            "marker": {
             "colorbar": {
              "outlinewidth": 0,
              "ticks": ""
             }
            }
           }
          ],
          "carpet": [
           {
            "aaxis": {
             "endlinecolor": "#A2B1C6",
             "gridcolor": "#506784",
             "linecolor": "#506784",
             "minorgridcolor": "#506784",
             "startlinecolor": "#A2B1C6"
            },
            "baxis": {
             "endlinecolor": "#A2B1C6",
             "gridcolor": "#506784",
             "linecolor": "#506784",
             "minorgridcolor": "#506784",
             "startlinecolor": "#A2B1C6"
            },
            "type": "carpet"
           }
          ],
          "table": [
           {
            "cells": {
             "fill": {
              "color": "#506784"
             },
             "line": {
              "color": "rgb(17,17,17)"
             }
            },
            "header": {
             "fill": {
              "color": "#2a3f5f"
             },
             "line": {
              "color": "rgb(17,17,17)"
             }
            },
            "type": "table"
           }
          ],
          "barpolar": [
           {
            "marker": {
             "line": {
              "color": "rgb(17,17,17)",
              "width": 0.5
             },
             "pattern": {
              "fillmode": "overlay",
              "size": 10,
              "solidity": 0.2
             }
            },
            "type": "barpolar"
           }
          ],
          "pie": [
           {
            "automargin": true,
            "type": "pie"
           }
          ]
         },
         "layout": {
          "autotypenumbers": "strict",
          "colorway": [
           "#636efa",
           "#EF553B",
           "#00cc96",
           "#ab63fa",
           "#FFA15A",
           "#19d3f3",
           "#FF6692",
           "#B6E880",
           "#FF97FF",
           "#FECB52"
          ],
          "font": {
           "color": "#f2f5fa"
          },
          "hovermode": "closest",
          "hoverlabel": {
           "align": "left"
          },
          "paper_bgcolor": "rgb(17,17,17)",
          "plot_bgcolor": "rgb(17,17,17)",
          "polar": {
           "bgcolor": "rgb(17,17,17)",
           "angularaxis": {
            "gridcolor": "#506784",
            "linecolor": "#506784",
            "ticks": ""
           },
           "radialaxis": {
            "gridcolor": "#506784",
            "linecolor": "#506784",
            "ticks": ""
           }
          },
          "ternary": {
           "bgcolor": "rgb(17,17,17)",
           "aaxis": {
            "gridcolor": "#506784",
            "linecolor": "#506784",
            "ticks": ""
           },
           "baxis": {
            "gridcolor": "#506784",
            "linecolor": "#506784",
            "ticks": ""
           },
           "caxis": {
            "gridcolor": "#506784",
            "linecolor": "#506784",
            "ticks": ""
           }
          },
          "coloraxis": {
           "colorbar": {
            "outlinewidth": 0,
            "ticks": ""
           }
          },
          "colorscale": {
           "sequential": [
            [
             0.0,
             "#0d0887"
            ],
            [
             0.1111111111111111,
             "#46039f"
            ],
            [
             0.2222222222222222,
             "#7201a8"
            ],
            [
             0.3333333333333333,
             "#9c179e"
            ],
            [
             0.4444444444444444,
             "#bd3786"
            ],
            [
             0.5555555555555556,
             "#d8576b"
            ],
            [
             0.6666666666666666,
             "#ed7953"
            ],
            [
             0.7777777777777778,
             "#fb9f3a"
            ],
            [
             0.8888888888888888,
             "#fdca26"
            ],
            [
             1.0,
             "#f0f921"
            ]
           ],
           "sequentialminus": [
            [
             0.0,
             "#0d0887"
            ],
            [
             0.1111111111111111,
             "#46039f"
            ],
            [
             0.2222222222222222,
             "#7201a8"
            ],
            [
             0.3333333333333333,
             "#9c179e"
            ],
            [
             0.4444444444444444,
             "#bd3786"
            ],
            [
             0.5555555555555556,
             "#d8576b"
            ],
            [
             0.6666666666666666,
             "#ed7953"
            ],
            [
             0.7777777777777778,
             "#fb9f3a"
            ],
            [
             0.8888888888888888,
             "#fdca26"
            ],
            [
             1.0,
             "#f0f921"
            ]
           ],
           "diverging": [
            [
             0,
             "#8e0152"
            ],
            [
             0.1,
             "#c51b7d"
            ],
            [
             0.2,
             "#de77ae"
            ],
            [
             0.3,
             "#f1b6da"
            ],
            [
             0.4,
             "#fde0ef"
            ],
            [
             0.5,
             "#f7f7f7"
            ],
            [
             0.6,
             "#e6f5d0"
            ],
            [
             0.7,
             "#b8e186"
            ],
            [
             0.8,
             "#7fbc41"
            ],
            [
             0.9,
             "#4d9221"
            ],
            [
             1,
             "#276419"
            ]
           ]
          },
          "xaxis": {
           "gridcolor": "#283442",
           "linecolor": "#506784",
           "ticks": "",
           "title": {
            "standoff": 15
           },
           "zerolinecolor": "#283442",
           "automargin": true,
           "zerolinewidth": 2
          },
          "yaxis": {
           "gridcolor": "#283442",
           "linecolor": "#506784",
           "ticks": "",
           "title": {
            "standoff": 15
           },
           "zerolinecolor": "#283442",
           "automargin": true,
           "zerolinewidth": 2
          },
          "scene": {
           "xaxis": {
            "backgroundcolor": "rgb(17,17,17)",
            "gridcolor": "#506784",
            "linecolor": "#506784",
            "showbackground": true,
            "ticks": "",
            "zerolinecolor": "#C8D4E3",
            "gridwidth": 2
           },
           "yaxis": {
            "backgroundcolor": "rgb(17,17,17)",
            "gridcolor": "#506784",
            "linecolor": "#506784",
            "showbackground": true,
            "ticks": "",
            "zerolinecolor": "#C8D4E3",
            "gridwidth": 2
           },
           "zaxis": {
            "backgroundcolor": "rgb(17,17,17)",
            "gridcolor": "#506784",
            "linecolor": "#506784",
            "showbackground": true,
            "ticks": "",
            "zerolinecolor": "#C8D4E3",
            "gridwidth": 2
           }
          },
          "shapedefaults": {
           "line": {
            "color": "#f2f5fa"
           }
          },
          "annotationdefaults": {
           "arrowcolor": "#f2f5fa",
           "arrowhead": 0,
           "arrowwidth": 1
          },
          "geo": {
           "bgcolor": "rgb(17,17,17)",
           "landcolor": "rgb(17,17,17)",
           "subunitcolor": "#506784",
           "showland": true,
           "showlakes": true,
           "lakecolor": "rgb(17,17,17)"
          },
          "title": {
           "x": 0.05
          },
          "updatemenudefaults": {
           "bgcolor": "#506784",
           "borderwidth": 0
          },
          "sliderdefaults": {
           "bgcolor": "#C8D4E3",
           "borderwidth": 1,
           "bordercolor": "rgb(17,17,17)",
           "tickwidth": 0
          },
          "mapbox": {
           "style": "dark"
          }
         }
        },
        "coloraxis": {
         "colorbar": {
          "title": {
           "text": "color"
          }
         },
         "colorscale": [
          [
           0.0,
           "rgb(247,251,255)"
          ],
          [
           0.125,
           "rgb(222,235,247)"
          ],
          [
           0.25,
           "rgb(198,219,239)"
          ],
          [
           0.375,
           "rgb(158,202,225)"
          ],
          [
           0.5,
           "rgb(107,174,214)"
          ],
          [
           0.625,
           "rgb(66,146,198)"
          ],
          [
           0.75,
           "rgb(33,113,181)"
          ],
          [
           0.875,
           "rgb(8,81,156)"
          ],
          [
           1.0,
           "rgb(8,48,107)"
          ]
         ]
        },
        "legend": {
         "tracegroupgap": 0
        },
        "margin": {
         "t": 60
        }
       },
       "config": {
        "plotlyServerURL": "https://plot.ly"
       }
      },
      "text/html": "<div>                            <div id=\"725523c4-5b03-48a1-a31f-e64c78100f29\" class=\"plotly-graph-div\" style=\"height:525px; width:100%;\"></div>            <script type=\"text/javascript\">                require([\"plotly\"], function(Plotly) {                    window.PLOTLYENV=window.PLOTLYENV || {};                                    if (document.getElementById(\"725523c4-5b03-48a1-a31f-e64c78100f29\")) {                    Plotly.newPlot(                        \"725523c4-5b03-48a1-a31f-e64c78100f29\",                        [{\"branchvalues\":\"total\",\"customdata\":[[\"avocado\",249.0],[\"brownies\",253.0],[\"burgers\",654.0],[\"butter\",226.0],[\"cake\",608.0],[\"cereals\",193.0],[\"champagne\",351.0],[\"chicken\",450.0],[\"chocolate\",1230.0],[\"cookies\",603.0],[\"cooking oil\",383.0],[\"cottage cheese\",238.0],[\"eggs\",1348.0],[\"energy bar\",203.0],[\"energy drink\",199.0],[\"escalope\",595.0],[\"french fries\",1282.0],[\"french wine\",169.0],[\"fresh bread\",323.0],[\"fresh tuna\",167.0],[\"frozen smoothie\",474.0],[\"frozen vegetables\",715.0],[\"grated cheese\",393.0],[\"green tea\",990.0],[\"ground beef\",737.0],[\"ham\",203.0],[\"herb & pepper\",371.0],[\"honey\",355.0],[\"hot dogs\",243.0],[\"light mayo\",204.0],[\"low fat yogurt\",573.0],[\"milk\",972.0],[\"mineral water\",1787.0],[\"muffins\",181.0],[\"oil\",173.0],[\"olive oil\",493.0],[\"pancakes\",713.0],[\"pepper\",199.0],[\"red wine\",211.0],[\"salmon\",318.0],[\"shrimp\",535.0],[\"soup\",379.0],[\"spaghetti\",1306.0],[\"tomato juice\",227.0],[\"tomatoes\",513.0],[\"turkey\",469.0],[\"vegetables mix\",192.0],[\"whole wheat pasta\",221.0],[\"whole wheat rice\",439.0],[\"yogurt cake\",205.0],[\"(?)\",764.8014276973282]],\"domain\":{\"x\":[0.0,1.0],\"y\":[0.0,1.0]},\"hovertemplate\":\"labels=%{label}<br>incident_count=%{value}<br>parent=%{parent}<br>id=%{id}<br>items=%{customdata[0]}<br>color=%{color}<extra></extra>\",\"ids\":[\"Top 50 items/avocado\",\"Top 50 items/brownies\",\"Top 50 items/burgers\",\"Top 50 items/butter\",\"Top 50 items/cake\",\"Top 50 items/cereals\",\"Top 50 items/champagne\",\"Top 50 items/chicken\",\"Top 50 items/chocolate\",\"Top 50 items/cookies\",\"Top 50 items/cooking oil\",\"Top 50 items/cottage cheese\",\"Top 50 items/eggs\",\"Top 50 items/energy bar\",\"Top 50 items/energy drink\",\"Top 50 items/escalope\",\"Top 50 items/french fries\",\"Top 50 items/french wine\",\"Top 50 items/fresh bread\",\"Top 50 items/fresh tuna\",\"Top 50 items/frozen smoothie\",\"Top 50 items/frozen vegetables\",\"Top 50 items/grated cheese\",\"Top 50 items/green tea\",\"Top 50 items/ground beef\",\"Top 50 items/ham\",\"Top 50 items/herb & pepper\",\"Top 50 items/honey\",\"Top 50 items/hot dogs\",\"Top 50 items/light mayo\",\"Top 50 items/low fat yogurt\",\"Top 50 items/milk\",\"Top 50 items/mineral water\",\"Top 50 items/muffins\",\"Top 50 items/oil\",\"Top 50 items/olive oil\",\"Top 50 items/pancakes\",\"Top 50 items/pepper\",\"Top 50 items/red wine\",\"Top 50 items/salmon\",\"Top 50 items/shrimp\",\"Top 50 items/soup\",\"Top 50 items/spaghetti\",\"Top 50 items/tomato juice\",\"Top 50 items/tomatoes\",\"Top 50 items/turkey\",\"Top 50 items/vegetables mix\",\"Top 50 items/whole wheat pasta\",\"Top 50 items/whole wheat rice\",\"Top 50 items/yogurt cake\",\"Top 50 items\"],\"labels\":[\"avocado\",\"brownies\",\"burgers\",\"butter\",\"cake\",\"cereals\",\"champagne\",\"chicken\",\"chocolate\",\"cookies\",\"cooking oil\",\"cottage cheese\",\"eggs\",\"energy bar\",\"energy drink\",\"escalope\",\"french fries\",\"french wine\",\"fresh bread\",\"fresh tuna\",\"frozen smoothie\",\"frozen vegetables\",\"grated cheese\",\"green tea\",\"ground beef\",\"ham\",\"herb & pepper\",\"honey\",\"hot dogs\",\"light mayo\",\"low fat yogurt\",\"milk\",\"mineral water\",\"muffins\",\"oil\",\"olive oil\",\"pancakes\",\"pepper\",\"red wine\",\"salmon\",\"shrimp\",\"soup\",\"spaghetti\",\"tomato juice\",\"tomatoes\",\"turkey\",\"vegetables mix\",\"whole wheat pasta\",\"whole wheat rice\",\"yogurt cake\",\"Top 50 items\"],\"marker\":{\"coloraxis\":\"coloraxis\",\"colors\":[249.0,253.0,654.0,226.0,608.0,193.0,351.0,450.0,1230.0,603.0,383.0,238.0,1348.0,203.0,199.0,595.0,1282.0,169.0,323.0,167.0,474.0,715.0,393.0,990.0,737.0,203.0,371.0,355.0,243.0,204.0,573.0,972.0,1787.0,181.0,173.0,493.0,713.0,199.0,211.0,318.0,535.0,379.0,1306.0,227.0,513.0,469.0,192.0,221.0,439.0,205.0,764.8014276973282]},\"name\":\"\",\"parents\":[\"Top 50 items\",\"Top 50 items\",\"Top 50 items\",\"Top 50 items\",\"Top 50 items\",\"Top 50 items\",\"Top 50 items\",\"Top 50 items\",\"Top 50 items\",\"Top 50 items\",\"Top 50 items\",\"Top 50 items\",\"Top 50 items\",\"Top 50 items\",\"Top 50 items\",\"Top 50 items\",\"Top 50 items\",\"Top 50 items\",\"Top 50 items\",\"Top 50 items\",\"Top 50 items\",\"Top 50 items\",\"Top 50 items\",\"Top 50 items\",\"Top 50 items\",\"Top 50 items\",\"Top 50 items\",\"Top 50 items\",\"Top 50 items\",\"Top 50 items\",\"Top 50 items\",\"Top 50 items\",\"Top 50 items\",\"Top 50 items\",\"Top 50 items\",\"Top 50 items\",\"Top 50 items\",\"Top 50 items\",\"Top 50 items\",\"Top 50 items\",\"Top 50 items\",\"Top 50 items\",\"Top 50 items\",\"Top 50 items\",\"Top 50 items\",\"Top 50 items\",\"Top 50 items\",\"Top 50 items\",\"Top 50 items\",\"Top 50 items\",\"\"],\"values\":[249,253,654,226,608,193,351,450,1230,603,383,238,1348,203,199,595,1282,169,323,167,474,715,393,990,737,203,371,355,243,204,573,972,1787,181,173,493,713,199,211,318,535,379,1306,227,513,469,192,221,439,205,24515],\"type\":\"treemap\"}],                        {\"template\":{\"data\":{\"histogram2dcontour\":[{\"type\":\"histogram2dcontour\",\"colorbar\":{\"outlinewidth\":0,\"ticks\":\"\"},\"colorscale\":[[0.0,\"#0d0887\"],[0.1111111111111111,\"#46039f\"],[0.2222222222222222,\"#7201a8\"],[0.3333333333333333,\"#9c179e\"],[0.4444444444444444,\"#bd3786\"],[0.5555555555555556,\"#d8576b\"],[0.6666666666666666,\"#ed7953\"],[0.7777777777777778,\"#fb9f3a\"],[0.8888888888888888,\"#fdca26\"],[1.0,\"#f0f921\"]]}],\"choropleth\":[{\"type\":\"choropleth\",\"colorbar\":{\"outlinewidth\":0,\"ticks\":\"\"}}],\"histogram2d\":[{\"type\":\"histogram2d\",\"colorbar\":{\"outlinewidth\":0,\"ticks\":\"\"},\"colorscale\":[[0.0,\"#0d0887\"],[0.1111111111111111,\"#46039f\"],[0.2222222222222222,\"#7201a8\"],[0.3333333333333333,\"#9c179e\"],[0.4444444444444444,\"#bd3786\"],[0.5555555555555556,\"#d8576b\"],[0.6666666666666666,\"#ed7953\"],[0.7777777777777778,\"#fb9f3a\"],[0.8888888888888888,\"#fdca26\"],[1.0,\"#f0f921\"]]}],\"heatmap\":[{\"type\":\"heatmap\",\"colorbar\":{\"outlinewidth\":0,\"ticks\":\"\"},\"colorscale\":[[0.0,\"#0d0887\"],[0.1111111111111111,\"#46039f\"],[0.2222222222222222,\"#7201a8\"],[0.3333333333333333,\"#9c179e\"],[0.4444444444444444,\"#bd3786\"],[0.5555555555555556,\"#d8576b\"],[0.6666666666666666,\"#ed7953\"],[0.7777777777777778,\"#fb9f3a\"],[0.8888888888888888,\"#fdca26\"],[1.0,\"#f0f921\"]]}],\"heatmapgl\":[{\"type\":\"heatmapgl\",\"colorbar\":{\"outlinewidth\":0,\"ticks\":\"\"},\"colorscale\":[[0.0,\"#0d0887\"],[0.1111111111111111,\"#46039f\"],[0.2222222222222222,\"#7201a8\"],[0.3333333333333333,\"#9c179e\"],[0.4444444444444444,\"#bd3786\"],[0.5555555555555556,\"#d8576b\"],[0.6666666666666666,\"#ed7953\"],[0.7777777777777778,\"#fb9f3a\"],[0.8888888888888888,\"#fdca26\"],[1.0,\"#f0f921\"]]}],\"contourcarpet\":[{\"type\":\"contourcarpet\",\"colorbar\":{\"outlinewidth\":0,\"ticks\":\"\"}}],\"contour\":[{\"type\":\"contour\",\"colorbar\":{\"outlinewidth\":0,\"ticks\":\"\"},\"colorscale\":[[0.0,\"#0d0887\"],[0.1111111111111111,\"#46039f\"],[0.2222222222222222,\"#7201a8\"],[0.3333333333333333,\"#9c179e\"],[0.4444444444444444,\"#bd3786\"],[0.5555555555555556,\"#d8576b\"],[0.6666666666666666,\"#ed7953\"],[0.7777777777777778,\"#fb9f3a\"],[0.8888888888888888,\"#fdca26\"],[1.0,\"#f0f921\"]]}],\"surface\":[{\"type\":\"surface\",\"colorbar\":{\"outlinewidth\":0,\"ticks\":\"\"},\"colorscale\":[[0.0,\"#0d0887\"],[0.1111111111111111,\"#46039f\"],[0.2222222222222222,\"#7201a8\"],[0.3333333333333333,\"#9c179e\"],[0.4444444444444444,\"#bd3786\"],[0.5555555555555556,\"#d8576b\"],[0.6666666666666666,\"#ed7953\"],[0.7777777777777778,\"#fb9f3a\"],[0.8888888888888888,\"#fdca26\"],[1.0,\"#f0f921\"]]}],\"mesh3d\":[{\"type\":\"mesh3d\",\"colorbar\":{\"outlinewidth\":0,\"ticks\":\"\"}}],\"scatter\":[{\"marker\":{\"line\":{\"color\":\"#283442\"}},\"type\":\"scatter\"}],\"parcoords\":[{\"type\":\"parcoords\",\"line\":{\"colorbar\":{\"outlinewidth\":0,\"ticks\":\"\"}}}],\"scatterpolargl\":[{\"type\":\"scatterpolargl\",\"marker\":{\"colorbar\":{\"outlinewidth\":0,\"ticks\":\"\"}}}],\"bar\":[{\"error_x\":{\"color\":\"#f2f5fa\"},\"error_y\":{\"color\":\"#f2f5fa\"},\"marker\":{\"line\":{\"color\":\"rgb(17,17,17)\",\"width\":0.5},\"pattern\":{\"fillmode\":\"overlay\",\"size\":10,\"solidity\":0.2}},\"type\":\"bar\"}],\"scattergeo\":[{\"type\":\"scattergeo\",\"marker\":{\"colorbar\":{\"outlinewidth\":0,\"ticks\":\"\"}}}],\"scatterpolar\":[{\"type\":\"scatterpolar\",\"marker\":{\"colorbar\":{\"outlinewidth\":0,\"ticks\":\"\"}}}],\"histogram\":[{\"marker\":{\"pattern\":{\"fillmode\":\"overlay\",\"size\":10,\"solidity\":0.2}},\"type\":\"histogram\"}],\"scattergl\":[{\"marker\":{\"line\":{\"color\":\"#283442\"}},\"type\":\"scattergl\"}],\"scatter3d\":[{\"type\":\"scatter3d\",\"line\":{\"colorbar\":{\"outlinewidth\":0,\"ticks\":\"\"}},\"marker\":{\"colorbar\":{\"outlinewidth\":0,\"ticks\":\"\"}}}],\"scattermapbox\":[{\"type\":\"scattermapbox\",\"marker\":{\"colorbar\":{\"outlinewidth\":0,\"ticks\":\"\"}}}],\"scatterternary\":[{\"type\":\"scatterternary\",\"marker\":{\"colorbar\":{\"outlinewidth\":0,\"ticks\":\"\"}}}],\"scattercarpet\":[{\"type\":\"scattercarpet\",\"marker\":{\"colorbar\":{\"outlinewidth\":0,\"ticks\":\"\"}}}],\"carpet\":[{\"aaxis\":{\"endlinecolor\":\"#A2B1C6\",\"gridcolor\":\"#506784\",\"linecolor\":\"#506784\",\"minorgridcolor\":\"#506784\",\"startlinecolor\":\"#A2B1C6\"},\"baxis\":{\"endlinecolor\":\"#A2B1C6\",\"gridcolor\":\"#506784\",\"linecolor\":\"#506784\",\"minorgridcolor\":\"#506784\",\"startlinecolor\":\"#A2B1C6\"},\"type\":\"carpet\"}],\"table\":[{\"cells\":{\"fill\":{\"color\":\"#506784\"},\"line\":{\"color\":\"rgb(17,17,17)\"}},\"header\":{\"fill\":{\"color\":\"#2a3f5f\"},\"line\":{\"color\":\"rgb(17,17,17)\"}},\"type\":\"table\"}],\"barpolar\":[{\"marker\":{\"line\":{\"color\":\"rgb(17,17,17)\",\"width\":0.5},\"pattern\":{\"fillmode\":\"overlay\",\"size\":10,\"solidity\":0.2}},\"type\":\"barpolar\"}],\"pie\":[{\"automargin\":true,\"type\":\"pie\"}]},\"layout\":{\"autotypenumbers\":\"strict\",\"colorway\":[\"#636efa\",\"#EF553B\",\"#00cc96\",\"#ab63fa\",\"#FFA15A\",\"#19d3f3\",\"#FF6692\",\"#B6E880\",\"#FF97FF\",\"#FECB52\"],\"font\":{\"color\":\"#f2f5fa\"},\"hovermode\":\"closest\",\"hoverlabel\":{\"align\":\"left\"},\"paper_bgcolor\":\"rgb(17,17,17)\",\"plot_bgcolor\":\"rgb(17,17,17)\",\"polar\":{\"bgcolor\":\"rgb(17,17,17)\",\"angularaxis\":{\"gridcolor\":\"#506784\",\"linecolor\":\"#506784\",\"ticks\":\"\"},\"radialaxis\":{\"gridcolor\":\"#506784\",\"linecolor\":\"#506784\",\"ticks\":\"\"}},\"ternary\":{\"bgcolor\":\"rgb(17,17,17)\",\"aaxis\":{\"gridcolor\":\"#506784\",\"linecolor\":\"#506784\",\"ticks\":\"\"},\"baxis\":{\"gridcolor\":\"#506784\",\"linecolor\":\"#506784\",\"ticks\":\"\"},\"caxis\":{\"gridcolor\":\"#506784\",\"linecolor\":\"#506784\",\"ticks\":\"\"}},\"coloraxis\":{\"colorbar\":{\"outlinewidth\":0,\"ticks\":\"\"}},\"colorscale\":{\"sequential\":[[0.0,\"#0d0887\"],[0.1111111111111111,\"#46039f\"],[0.2222222222222222,\"#7201a8\"],[0.3333333333333333,\"#9c179e\"],[0.4444444444444444,\"#bd3786\"],[0.5555555555555556,\"#d8576b\"],[0.6666666666666666,\"#ed7953\"],[0.7777777777777778,\"#fb9f3a\"],[0.8888888888888888,\"#fdca26\"],[1.0,\"#f0f921\"]],\"sequentialminus\":[[0.0,\"#0d0887\"],[0.1111111111111111,\"#46039f\"],[0.2222222222222222,\"#7201a8\"],[0.3333333333333333,\"#9c179e\"],[0.4444444444444444,\"#bd3786\"],[0.5555555555555556,\"#d8576b\"],[0.6666666666666666,\"#ed7953\"],[0.7777777777777778,\"#fb9f3a\"],[0.8888888888888888,\"#fdca26\"],[1.0,\"#f0f921\"]],\"diverging\":[[0,\"#8e0152\"],[0.1,\"#c51b7d\"],[0.2,\"#de77ae\"],[0.3,\"#f1b6da\"],[0.4,\"#fde0ef\"],[0.5,\"#f7f7f7\"],[0.6,\"#e6f5d0\"],[0.7,\"#b8e186\"],[0.8,\"#7fbc41\"],[0.9,\"#4d9221\"],[1,\"#276419\"]]},\"xaxis\":{\"gridcolor\":\"#283442\",\"linecolor\":\"#506784\",\"ticks\":\"\",\"title\":{\"standoff\":15},\"zerolinecolor\":\"#283442\",\"automargin\":true,\"zerolinewidth\":2},\"yaxis\":{\"gridcolor\":\"#283442\",\"linecolor\":\"#506784\",\"ticks\":\"\",\"title\":{\"standoff\":15},\"zerolinecolor\":\"#283442\",\"automargin\":true,\"zerolinewidth\":2},\"scene\":{\"xaxis\":{\"backgroundcolor\":\"rgb(17,17,17)\",\"gridcolor\":\"#506784\",\"linecolor\":\"#506784\",\"showbackground\":true,\"ticks\":\"\",\"zerolinecolor\":\"#C8D4E3\",\"gridwidth\":2},\"yaxis\":{\"backgroundcolor\":\"rgb(17,17,17)\",\"gridcolor\":\"#506784\",\"linecolor\":\"#506784\",\"showbackground\":true,\"ticks\":\"\",\"zerolinecolor\":\"#C8D4E3\",\"gridwidth\":2},\"zaxis\":{\"backgroundcolor\":\"rgb(17,17,17)\",\"gridcolor\":\"#506784\",\"linecolor\":\"#506784\",\"showbackground\":true,\"ticks\":\"\",\"zerolinecolor\":\"#C8D4E3\",\"gridwidth\":2}},\"shapedefaults\":{\"line\":{\"color\":\"#f2f5fa\"}},\"annotationdefaults\":{\"arrowcolor\":\"#f2f5fa\",\"arrowhead\":0,\"arrowwidth\":1},\"geo\":{\"bgcolor\":\"rgb(17,17,17)\",\"landcolor\":\"rgb(17,17,17)\",\"subunitcolor\":\"#506784\",\"showland\":true,\"showlakes\":true,\"lakecolor\":\"rgb(17,17,17)\"},\"title\":{\"x\":0.05},\"updatemenudefaults\":{\"bgcolor\":\"#506784\",\"borderwidth\":0},\"sliderdefaults\":{\"bgcolor\":\"#C8D4E3\",\"borderwidth\":1,\"bordercolor\":\"rgb(17,17,17)\",\"tickwidth\":0},\"mapbox\":{\"style\":\"dark\"}}},\"coloraxis\":{\"colorbar\":{\"title\":{\"text\":\"color\"}},\"colorscale\":[[0.0,\"rgb(247,251,255)\"],[0.125,\"rgb(222,235,247)\"],[0.25,\"rgb(198,219,239)\"],[0.375,\"rgb(158,202,225)\"],[0.5,\"rgb(107,174,214)\"],[0.625,\"rgb(66,146,198)\"],[0.75,\"rgb(33,113,181)\"],[0.875,\"rgb(8,81,156)\"],[1.0,\"rgb(8,48,107)\"]]},\"legend\":{\"tracegroupgap\":0},\"margin\":{\"t\":60}},                        {\"responsive\": true}                    ).then(function(){\n                            \nvar gd = document.getElementById('725523c4-5b03-48a1-a31f-e64c78100f29');\nvar x = new MutationObserver(function (mutations, observer) {{\n        var display = window.getComputedStyle(gd).display;\n        if (!display || display === 'none') {{\n            console.log([gd, 'removed!']);\n            Plotly.purge(gd);\n            observer.disconnect();\n        }}\n}});\n\n// Listen for the removal of the full notebook cells\nvar notebookContainer = gd.closest('#notebook-container');\nif (notebookContainer) {{\n    x.observe(notebookContainer, {childList: true});\n}}\n\n// Listen for the clearing of the current output cell\nvar outputEl = gd.closest('.output');\nif (outputEl) {{\n    x.observe(outputEl, {childList: true});\n}}\n\n                        })                };                });            </script>        </div>"
     },
     "metadata": {},
     "output_type": "display_data"
    }
   ],
   "source": [
    "# importing required module\n",
    "import plotly.express as px\n",
    "\n",
    "# to have a same origin\n",
    "df_table[\"all\"] = \"Top 50 items\"\n",
    "\n",
    "# creating tree map using plotly\n",
    "fig = px.treemap(df_table.head(50), path=['all', \"items\"], values='incident_count',\n",
    "                  color=df_table[\"incident_count\"].head(50), hover_data=['items'],\n",
    "                  color_continuous_scale='Blues',\n",
    "                )\n",
    "# ploting the treemap\n",
    "fig.show()"
   ],
   "metadata": {
    "collapsed": false
   }
  },
  {
   "cell_type": "code",
   "execution_count": 7,
   "outputs": [
    {
     "data": {
      "text/plain": "    asparagus  almonds  antioxydant juice  asparagus  avocado  babies food  \\\n0       False    False              False      False    False        False   \n1       False    False              False      False    False        False   \n2       False    False              False      False     True        False   \n3       False    False              False      False    False        False   \n4       False    False              False      False    False        False   \n\n   bacon  barbecue sauce  black tea  blueberries  ...  turkey  vegetables mix  \\\n0  False           False      False        False  ...   False           False   \n1  False           False      False        False  ...   False           False   \n2  False           False      False        False  ...    True           False   \n3  False           False      False        False  ...   False           False   \n4  False           False      False        False  ...   False           False   \n\n   water spray  white wine  whole weat flour  whole wheat pasta  \\\n0        False       False             False              False   \n1        False       False             False              False   \n2        False       False             False              False   \n3        False       False             False              False   \n4        False       False             False              False   \n\n   whole wheat rice   yams  yogurt cake  zucchini  \n0             False  False        False     False  \n1             False  False        False     False  \n2             False  False        False     False  \n3              True  False        False     False  \n4             False  False        False     False  \n\n[5 rows x 121 columns]",
      "text/html": "<div>\n<style scoped>\n    .dataframe tbody tr th:only-of-type {\n        vertical-align: middle;\n    }\n\n    .dataframe tbody tr th {\n        vertical-align: top;\n    }\n\n    .dataframe thead th {\n        text-align: right;\n    }\n</style>\n<table border=\"1\" class=\"dataframe\">\n  <thead>\n    <tr style=\"text-align: right;\">\n      <th></th>\n      <th>asparagus</th>\n      <th>almonds</th>\n      <th>antioxydant juice</th>\n      <th>asparagus</th>\n      <th>avocado</th>\n      <th>babies food</th>\n      <th>bacon</th>\n      <th>barbecue sauce</th>\n      <th>black tea</th>\n      <th>blueberries</th>\n      <th>...</th>\n      <th>turkey</th>\n      <th>vegetables mix</th>\n      <th>water spray</th>\n      <th>white wine</th>\n      <th>whole weat flour</th>\n      <th>whole wheat pasta</th>\n      <th>whole wheat rice</th>\n      <th>yams</th>\n      <th>yogurt cake</th>\n      <th>zucchini</th>\n    </tr>\n  </thead>\n  <tbody>\n    <tr>\n      <th>0</th>\n      <td>False</td>\n      <td>False</td>\n      <td>False</td>\n      <td>False</td>\n      <td>False</td>\n      <td>False</td>\n      <td>False</td>\n      <td>False</td>\n      <td>False</td>\n      <td>False</td>\n      <td>...</td>\n      <td>False</td>\n      <td>False</td>\n      <td>False</td>\n      <td>False</td>\n      <td>False</td>\n      <td>False</td>\n      <td>False</td>\n      <td>False</td>\n      <td>False</td>\n      <td>False</td>\n    </tr>\n    <tr>\n      <th>1</th>\n      <td>False</td>\n      <td>False</td>\n      <td>False</td>\n      <td>False</td>\n      <td>False</td>\n      <td>False</td>\n      <td>False</td>\n      <td>False</td>\n      <td>False</td>\n      <td>False</td>\n      <td>...</td>\n      <td>False</td>\n      <td>False</td>\n      <td>False</td>\n      <td>False</td>\n      <td>False</td>\n      <td>False</td>\n      <td>False</td>\n      <td>False</td>\n      <td>False</td>\n      <td>False</td>\n    </tr>\n    <tr>\n      <th>2</th>\n      <td>False</td>\n      <td>False</td>\n      <td>False</td>\n      <td>False</td>\n      <td>True</td>\n      <td>False</td>\n      <td>False</td>\n      <td>False</td>\n      <td>False</td>\n      <td>False</td>\n      <td>...</td>\n      <td>True</td>\n      <td>False</td>\n      <td>False</td>\n      <td>False</td>\n      <td>False</td>\n      <td>False</td>\n      <td>False</td>\n      <td>False</td>\n      <td>False</td>\n      <td>False</td>\n    </tr>\n    <tr>\n      <th>3</th>\n      <td>False</td>\n      <td>False</td>\n      <td>False</td>\n      <td>False</td>\n      <td>False</td>\n      <td>False</td>\n      <td>False</td>\n      <td>False</td>\n      <td>False</td>\n      <td>False</td>\n      <td>...</td>\n      <td>False</td>\n      <td>False</td>\n      <td>False</td>\n      <td>False</td>\n      <td>False</td>\n      <td>False</td>\n      <td>True</td>\n      <td>False</td>\n      <td>False</td>\n      <td>False</td>\n    </tr>\n    <tr>\n      <th>4</th>\n      <td>False</td>\n      <td>False</td>\n      <td>False</td>\n      <td>False</td>\n      <td>False</td>\n      <td>False</td>\n      <td>False</td>\n      <td>False</td>\n      <td>False</td>\n      <td>False</td>\n      <td>...</td>\n      <td>False</td>\n      <td>False</td>\n      <td>False</td>\n      <td>False</td>\n      <td>False</td>\n      <td>False</td>\n      <td>False</td>\n      <td>False</td>\n      <td>False</td>\n      <td>False</td>\n    </tr>\n  </tbody>\n</table>\n<p>5 rows × 121 columns</p>\n</div>"
     },
     "execution_count": 7,
     "metadata": {},
     "output_type": "execute_result"
    }
   ],
   "source": [
    "# Transform Every Transaction to Seperate List & Gather Them into Numpy Array\n",
    "transaction = []\n",
    "for i in range(dataset.shape[0]):\n",
    "    transaction.append([str(dataset.values[i,j]) for j in range(dataset.shape[1])])\n",
    "\n",
    "# creating the numpy array of the transactions\n",
    "transaction = np.array(transaction)\n",
    "\n",
    "# importing the required module\n",
    "from mlxtend.preprocessing import TransactionEncoder\n",
    "\n",
    "# initializing the transactionEncoder\n",
    "te = TransactionEncoder()\n",
    "te_ary = te.fit(transaction).transform(transaction)\n",
    "dataset = pd.DataFrame(te_ary, columns=te.columns_)\n",
    "\n",
    "# dataset after encoded\n",
    "dataset.head()"
   ],
   "metadata": {
    "collapsed": false
   }
  },
  {
   "cell_type": "code",
   "execution_count": 9,
   "outputs": [
    {
     "data": {
      "text/plain": "(7500, 30)"
     },
     "execution_count": 9,
     "metadata": {},
     "output_type": "execute_result"
    }
   ],
   "source": [
    "# select top 30 items\n",
    "first30 = df_table[\"items\"].head(30).values\n",
    "\n",
    "# Extract Top 30\n",
    "dataset = dataset.loc[:,first30]\n",
    "\n",
    "# shape of the dataset\n",
    "dataset.shape"
   ],
   "metadata": {
    "collapsed": false
   }
  },
  {
   "cell_type": "code",
   "execution_count": 10,
   "outputs": [
    {
     "data": {
      "text/plain": "    support            itemsets\n0  0.179733              (eggs)\n1  0.087200           (burgers)\n2  0.062533            (turkey)\n3  0.238267     (mineral water)\n4  0.132000         (green tea)\n5  0.129600              (milk)\n6  0.058533  (whole wheat rice)\n7  0.076400    (low fat yogurt)\n8  0.170933      (french fries)\n9  0.050533              (soup)",
      "text/html": "<div>\n<style scoped>\n    .dataframe tbody tr th:only-of-type {\n        vertical-align: middle;\n    }\n\n    .dataframe tbody tr th {\n        vertical-align: top;\n    }\n\n    .dataframe thead th {\n        text-align: right;\n    }\n</style>\n<table border=\"1\" class=\"dataframe\">\n  <thead>\n    <tr style=\"text-align: right;\">\n      <th></th>\n      <th>support</th>\n      <th>itemsets</th>\n    </tr>\n  </thead>\n  <tbody>\n    <tr>\n      <th>0</th>\n      <td>0.179733</td>\n      <td>(eggs)</td>\n    </tr>\n    <tr>\n      <th>1</th>\n      <td>0.087200</td>\n      <td>(burgers)</td>\n    </tr>\n    <tr>\n      <th>2</th>\n      <td>0.062533</td>\n      <td>(turkey)</td>\n    </tr>\n    <tr>\n      <th>3</th>\n      <td>0.238267</td>\n      <td>(mineral water)</td>\n    </tr>\n    <tr>\n      <th>4</th>\n      <td>0.132000</td>\n      <td>(green tea)</td>\n    </tr>\n    <tr>\n      <th>5</th>\n      <td>0.129600</td>\n      <td>(milk)</td>\n    </tr>\n    <tr>\n      <th>6</th>\n      <td>0.058533</td>\n      <td>(whole wheat rice)</td>\n    </tr>\n    <tr>\n      <th>7</th>\n      <td>0.076400</td>\n      <td>(low fat yogurt)</td>\n    </tr>\n    <tr>\n      <th>8</th>\n      <td>0.170933</td>\n      <td>(french fries)</td>\n    </tr>\n    <tr>\n      <th>9</th>\n      <td>0.050533</td>\n      <td>(soup)</td>\n    </tr>\n  </tbody>\n</table>\n</div>"
     },
     "execution_count": 10,
     "metadata": {},
     "output_type": "execute_result"
    }
   ],
   "source": [
    "#Importing Libraries\n",
    "from mlxtend.frequent_patterns import fpgrowth\n",
    "\n",
    "#running the fpgrowth algorithm\n",
    "res=fpgrowth(dataset,min_support=0.05, use_colnames=True)\n",
    "\n",
    "# printing top 10\n",
    "res.head(10)"
   ],
   "metadata": {
    "collapsed": false
   }
  },
  {
   "cell_type": "code",
   "execution_count": 11,
   "outputs": [
    {
     "data": {
      "text/plain": "       antecedents      consequents  antecedent support  consequent support  \\\n0           (eggs)  (mineral water)            0.179733            0.238267   \n1  (mineral water)           (eggs)            0.238267            0.179733   \n2  (mineral water)      (spaghetti)            0.238267            0.174133   \n3      (spaghetti)  (mineral water)            0.174133            0.238267   \n4  (mineral water)      (chocolate)            0.238267            0.163867   \n5      (chocolate)  (mineral water)            0.163867            0.238267   \n\n    support  confidence      lift  leverage  conviction  \n0  0.050933    0.283383  1.189351  0.008109    1.062957  \n1  0.050933    0.213766  1.189351  0.008109    1.043286  \n2  0.059733    0.250699  1.439698  0.018243    1.102184  \n3  0.059733    0.343032  1.439698  0.018243    1.159468  \n4  0.052667    0.221041  1.348907  0.013623    1.073398  \n5  0.052667    0.321400  1.348907  0.013623    1.122506  ",
      "text/html": "<div>\n<style scoped>\n    .dataframe tbody tr th:only-of-type {\n        vertical-align: middle;\n    }\n\n    .dataframe tbody tr th {\n        vertical-align: top;\n    }\n\n    .dataframe thead th {\n        text-align: right;\n    }\n</style>\n<table border=\"1\" class=\"dataframe\">\n  <thead>\n    <tr style=\"text-align: right;\">\n      <th></th>\n      <th>antecedents</th>\n      <th>consequents</th>\n      <th>antecedent support</th>\n      <th>consequent support</th>\n      <th>support</th>\n      <th>confidence</th>\n      <th>lift</th>\n      <th>leverage</th>\n      <th>conviction</th>\n    </tr>\n  </thead>\n  <tbody>\n    <tr>\n      <th>0</th>\n      <td>(eggs)</td>\n      <td>(mineral water)</td>\n      <td>0.179733</td>\n      <td>0.238267</td>\n      <td>0.050933</td>\n      <td>0.283383</td>\n      <td>1.189351</td>\n      <td>0.008109</td>\n      <td>1.062957</td>\n    </tr>\n    <tr>\n      <th>1</th>\n      <td>(mineral water)</td>\n      <td>(eggs)</td>\n      <td>0.238267</td>\n      <td>0.179733</td>\n      <td>0.050933</td>\n      <td>0.213766</td>\n      <td>1.189351</td>\n      <td>0.008109</td>\n      <td>1.043286</td>\n    </tr>\n    <tr>\n      <th>2</th>\n      <td>(mineral water)</td>\n      <td>(spaghetti)</td>\n      <td>0.238267</td>\n      <td>0.174133</td>\n      <td>0.059733</td>\n      <td>0.250699</td>\n      <td>1.439698</td>\n      <td>0.018243</td>\n      <td>1.102184</td>\n    </tr>\n    <tr>\n      <th>3</th>\n      <td>(spaghetti)</td>\n      <td>(mineral water)</td>\n      <td>0.174133</td>\n      <td>0.238267</td>\n      <td>0.059733</td>\n      <td>0.343032</td>\n      <td>1.439698</td>\n      <td>0.018243</td>\n      <td>1.159468</td>\n    </tr>\n    <tr>\n      <th>4</th>\n      <td>(mineral water)</td>\n      <td>(chocolate)</td>\n      <td>0.238267</td>\n      <td>0.163867</td>\n      <td>0.052667</td>\n      <td>0.221041</td>\n      <td>1.348907</td>\n      <td>0.013623</td>\n      <td>1.073398</td>\n    </tr>\n    <tr>\n      <th>5</th>\n      <td>(chocolate)</td>\n      <td>(mineral water)</td>\n      <td>0.163867</td>\n      <td>0.238267</td>\n      <td>0.052667</td>\n      <td>0.321400</td>\n      <td>1.348907</td>\n      <td>0.013623</td>\n      <td>1.122506</td>\n    </tr>\n  </tbody>\n</table>\n</div>"
     },
     "execution_count": 11,
     "metadata": {},
     "output_type": "execute_result"
    }
   ],
   "source": [
    "# importing required module\n",
    "from mlxtend.frequent_patterns import association_rules\n",
    "\n",
    "# creating asssociation rules\n",
    "res=association_rules(res, metric=\"lift\", min_threshold=1)\n",
    "\n",
    "# printing association rules\n",
    "res"
   ],
   "metadata": {
    "collapsed": false
   }
  },
  {
   "cell_type": "code",
   "execution_count": 12,
   "outputs": [
    {
     "data": {
      "text/plain": "       antecedents      consequents  antecedent support  consequent support  \\\n3      (spaghetti)  (mineral water)            0.174133            0.238267   \n5      (chocolate)  (mineral water)            0.163867            0.238267   \n0           (eggs)  (mineral water)            0.179733            0.238267   \n2  (mineral water)      (spaghetti)            0.238267            0.174133   \n4  (mineral water)      (chocolate)            0.238267            0.163867   \n1  (mineral water)           (eggs)            0.238267            0.179733   \n\n    support  confidence      lift  leverage  conviction  \n3  0.059733    0.343032  1.439698  0.018243    1.159468  \n5  0.052667    0.321400  1.348907  0.013623    1.122506  \n0  0.050933    0.283383  1.189351  0.008109    1.062957  \n2  0.059733    0.250699  1.439698  0.018243    1.102184  \n4  0.052667    0.221041  1.348907  0.013623    1.073398  \n1  0.050933    0.213766  1.189351  0.008109    1.043286  ",
      "text/html": "<div>\n<style scoped>\n    .dataframe tbody tr th:only-of-type {\n        vertical-align: middle;\n    }\n\n    .dataframe tbody tr th {\n        vertical-align: top;\n    }\n\n    .dataframe thead th {\n        text-align: right;\n    }\n</style>\n<table border=\"1\" class=\"dataframe\">\n  <thead>\n    <tr style=\"text-align: right;\">\n      <th></th>\n      <th>antecedents</th>\n      <th>consequents</th>\n      <th>antecedent support</th>\n      <th>consequent support</th>\n      <th>support</th>\n      <th>confidence</th>\n      <th>lift</th>\n      <th>leverage</th>\n      <th>conviction</th>\n    </tr>\n  </thead>\n  <tbody>\n    <tr>\n      <th>3</th>\n      <td>(spaghetti)</td>\n      <td>(mineral water)</td>\n      <td>0.174133</td>\n      <td>0.238267</td>\n      <td>0.059733</td>\n      <td>0.343032</td>\n      <td>1.439698</td>\n      <td>0.018243</td>\n      <td>1.159468</td>\n    </tr>\n    <tr>\n      <th>5</th>\n      <td>(chocolate)</td>\n      <td>(mineral water)</td>\n      <td>0.163867</td>\n      <td>0.238267</td>\n      <td>0.052667</td>\n      <td>0.321400</td>\n      <td>1.348907</td>\n      <td>0.013623</td>\n      <td>1.122506</td>\n    </tr>\n    <tr>\n      <th>0</th>\n      <td>(eggs)</td>\n      <td>(mineral water)</td>\n      <td>0.179733</td>\n      <td>0.238267</td>\n      <td>0.050933</td>\n      <td>0.283383</td>\n      <td>1.189351</td>\n      <td>0.008109</td>\n      <td>1.062957</td>\n    </tr>\n    <tr>\n      <th>2</th>\n      <td>(mineral water)</td>\n      <td>(spaghetti)</td>\n      <td>0.238267</td>\n      <td>0.174133</td>\n      <td>0.059733</td>\n      <td>0.250699</td>\n      <td>1.439698</td>\n      <td>0.018243</td>\n      <td>1.102184</td>\n    </tr>\n    <tr>\n      <th>4</th>\n      <td>(mineral water)</td>\n      <td>(chocolate)</td>\n      <td>0.238267</td>\n      <td>0.163867</td>\n      <td>0.052667</td>\n      <td>0.221041</td>\n      <td>1.348907</td>\n      <td>0.013623</td>\n      <td>1.073398</td>\n    </tr>\n    <tr>\n      <th>1</th>\n      <td>(mineral water)</td>\n      <td>(eggs)</td>\n      <td>0.238267</td>\n      <td>0.179733</td>\n      <td>0.050933</td>\n      <td>0.213766</td>\n      <td>1.189351</td>\n      <td>0.008109</td>\n      <td>1.043286</td>\n    </tr>\n  </tbody>\n</table>\n</div>"
     },
     "execution_count": 12,
     "metadata": {},
     "output_type": "execute_result"
    }
   ],
   "source": [
    "# Sort values based on confidence\n",
    "res.sort_values(\"confidence\",ascending=False)"
   ],
   "metadata": {
    "collapsed": false
   }
  },
  {
   "cell_type": "code",
   "execution_count": null,
   "outputs": [],
   "source": [],
   "metadata": {
    "collapsed": false
   }
  }
 ],
 "metadata": {
  "kernelspec": {
   "display_name": "Python 3",
   "language": "python",
   "name": "python3"
  },
  "language_info": {
   "codemirror_mode": {
    "name": "ipython",
    "version": 2
   },
   "file_extension": ".py",
   "mimetype": "text/x-python",
   "name": "python",
   "nbconvert_exporter": "python",
   "pygments_lexer": "ipython2",
   "version": "2.7.6"
  }
 },
 "nbformat": 4,
 "nbformat_minor": 0
}
