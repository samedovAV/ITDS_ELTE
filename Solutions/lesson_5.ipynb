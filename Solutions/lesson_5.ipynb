{
 "cells": [
  {
   "cell_type": "code",
   "execution_count": 15,
   "metadata": {
    "collapsed": true
   },
   "outputs": [
    {
     "name": "stderr",
     "output_type": "stream",
     "text": [
      "/tmp/ipykernel_12508/3421590262.py:20: DeprecationWarning: This function is deprecated. Please call randint(1, 5 + 1) instead\n",
      "  df_new['mark'] = np.random.random_integers(1, 5, len(df_new))\n"
     ]
    }
   ],
   "source": [
    "import pandas as pd\n",
    "import numpy as np\n",
    "\n",
    "# Create a DataFrame from the following data: Names, and group numbers for the students of the course Introduction to Data Science (only practical part). [The data can be fetched from Neptun]. Then do the following:\n",
    "\n",
    "df1 = pd.read_excel('../Datasets/export_2.xlsx', usecols=[0]).assign(group_number=2)\n",
    "df2 = pd.read_excel('../Datasets/export (3).xlsx', usecols=[0]).assign(group_number=3)\n",
    "df3 = pd.read_excel('../Datasets/export (4).xlsx', usecols=[0]).assign(group_number=4)\n",
    "df4 = pd.read_excel('../Datasets/export (5).xlsx', usecols=[0]).assign(group_number=5)\n",
    "df5 = pd.read_excel('../Datasets/export (6).xlsx', usecols=[0]).assign(group_number=6)\n",
    "df6 = pd.read_excel('../Datasets/export (7).xlsx', usecols=[0]).assign(group_number=7)\n",
    "\n",
    "#print(f'{i}')\n",
    "#df2 = pd.read_excel('')\n",
    "\n",
    "df_new = pd.concat([df1, df2, df3, df4, df5, df6]).reset_index(drop=True)\n",
    "\n",
    "# 1. Assign a random mark (between 1 and 5) to each student in a new column called 'mark'.\n",
    "\n",
    "df_new['mark'] = np.random.random_integers(1, 5, len(df_new))\n",
    "\n",
    "# 2. Give every student a unique ID number (starting from 1) in a new column called 'ID'.\n",
    "df_new['ID'] = df_new.index.array"
   ]
  },
  {
   "cell_type": "code",
   "execution_count": 16,
   "outputs": [
    {
     "data": {
      "text/plain": "                    Name  group_number  mark   ID\n0             Ákos Rúzsa             2     1    0\n1    Aleksandr Soshnikov             2     2    1\n2             Andor Kiss             2     3    2\n3            Bence Korpa             2     2    3\n4          Fareed Naouri             2     4    4\n..                   ...           ...   ...  ...\n139         Ulvi Ahmadli             7     4  139\n140         Waleed Saleh             7     1  140\n141             Zihan Li             7     3  141\n142          Zsolt Csibi             7     5  142\n143       Zuzanna Chudek             7     1  143\n\n[144 rows x 4 columns]",
      "text/html": "<div>\n<style scoped>\n    .dataframe tbody tr th:only-of-type {\n        vertical-align: middle;\n    }\n\n    .dataframe tbody tr th {\n        vertical-align: top;\n    }\n\n    .dataframe thead th {\n        text-align: right;\n    }\n</style>\n<table border=\"1\" class=\"dataframe\">\n  <thead>\n    <tr style=\"text-align: right;\">\n      <th></th>\n      <th>Name</th>\n      <th>group_number</th>\n      <th>mark</th>\n      <th>ID</th>\n    </tr>\n  </thead>\n  <tbody>\n    <tr>\n      <th>0</th>\n      <td>Ákos Rúzsa</td>\n      <td>2</td>\n      <td>1</td>\n      <td>0</td>\n    </tr>\n    <tr>\n      <th>1</th>\n      <td>Aleksandr Soshnikov</td>\n      <td>2</td>\n      <td>2</td>\n      <td>1</td>\n    </tr>\n    <tr>\n      <th>2</th>\n      <td>Andor Kiss</td>\n      <td>2</td>\n      <td>3</td>\n      <td>2</td>\n    </tr>\n    <tr>\n      <th>3</th>\n      <td>Bence Korpa</td>\n      <td>2</td>\n      <td>2</td>\n      <td>3</td>\n    </tr>\n    <tr>\n      <th>4</th>\n      <td>Fareed Naouri</td>\n      <td>2</td>\n      <td>4</td>\n      <td>4</td>\n    </tr>\n    <tr>\n      <th>...</th>\n      <td>...</td>\n      <td>...</td>\n      <td>...</td>\n      <td>...</td>\n    </tr>\n    <tr>\n      <th>139</th>\n      <td>Ulvi Ahmadli</td>\n      <td>7</td>\n      <td>4</td>\n      <td>139</td>\n    </tr>\n    <tr>\n      <th>140</th>\n      <td>Waleed Saleh</td>\n      <td>7</td>\n      <td>1</td>\n      <td>140</td>\n    </tr>\n    <tr>\n      <th>141</th>\n      <td>Zihan Li</td>\n      <td>7</td>\n      <td>3</td>\n      <td>141</td>\n    </tr>\n    <tr>\n      <th>142</th>\n      <td>Zsolt Csibi</td>\n      <td>7</td>\n      <td>5</td>\n      <td>142</td>\n    </tr>\n    <tr>\n      <th>143</th>\n      <td>Zuzanna Chudek</td>\n      <td>7</td>\n      <td>1</td>\n      <td>143</td>\n    </tr>\n  </tbody>\n</table>\n<p>144 rows × 4 columns</p>\n</div>"
     },
     "execution_count": 16,
     "metadata": {},
     "output_type": "execute_result"
    }
   ],
   "source": [
    "df_new"
   ],
   "metadata": {
    "collapsed": false
   }
  },
  {
   "cell_type": "code",
   "execution_count": 21,
   "outputs": [
    {
     "data": {
      "text/plain": "['ID', 'Name', 'group_number', 'mark']"
     },
     "execution_count": 21,
     "metadata": {},
     "output_type": "execute_result"
    }
   ],
   "source": [
    "cols = df_new.columns.tolist()\n",
    "cols = [cols[-1]] + cols[:-1]\n",
    "cols"
   ],
   "metadata": {
    "collapsed": false
   }
  },
  {
   "cell_type": "code",
   "execution_count": 22,
   "outputs": [
    {
     "data": {
      "text/plain": "      ID                 Name  group_number  mark\n0      0           Ákos Rúzsa             2     1\n1      1  Aleksandr Soshnikov             2     2\n2      2           Andor Kiss             2     3\n3      3          Bence Korpa             2     2\n4      4        Fareed Naouri             2     4\n..   ...                  ...           ...   ...\n139  139         Ulvi Ahmadli             7     4\n140  140         Waleed Saleh             7     1\n141  141             Zihan Li             7     3\n142  142          Zsolt Csibi             7     5\n143  143       Zuzanna Chudek             7     1\n\n[144 rows x 4 columns]",
      "text/html": "<div>\n<style scoped>\n    .dataframe tbody tr th:only-of-type {\n        vertical-align: middle;\n    }\n\n    .dataframe tbody tr th {\n        vertical-align: top;\n    }\n\n    .dataframe thead th {\n        text-align: right;\n    }\n</style>\n<table border=\"1\" class=\"dataframe\">\n  <thead>\n    <tr style=\"text-align: right;\">\n      <th></th>\n      <th>ID</th>\n      <th>Name</th>\n      <th>group_number</th>\n      <th>mark</th>\n    </tr>\n  </thead>\n  <tbody>\n    <tr>\n      <th>0</th>\n      <td>0</td>\n      <td>Ákos Rúzsa</td>\n      <td>2</td>\n      <td>1</td>\n    </tr>\n    <tr>\n      <th>1</th>\n      <td>1</td>\n      <td>Aleksandr Soshnikov</td>\n      <td>2</td>\n      <td>2</td>\n    </tr>\n    <tr>\n      <th>2</th>\n      <td>2</td>\n      <td>Andor Kiss</td>\n      <td>2</td>\n      <td>3</td>\n    </tr>\n    <tr>\n      <th>3</th>\n      <td>3</td>\n      <td>Bence Korpa</td>\n      <td>2</td>\n      <td>2</td>\n    </tr>\n    <tr>\n      <th>4</th>\n      <td>4</td>\n      <td>Fareed Naouri</td>\n      <td>2</td>\n      <td>4</td>\n    </tr>\n    <tr>\n      <th>...</th>\n      <td>...</td>\n      <td>...</td>\n      <td>...</td>\n      <td>...</td>\n    </tr>\n    <tr>\n      <th>139</th>\n      <td>139</td>\n      <td>Ulvi Ahmadli</td>\n      <td>7</td>\n      <td>4</td>\n    </tr>\n    <tr>\n      <th>140</th>\n      <td>140</td>\n      <td>Waleed Saleh</td>\n      <td>7</td>\n      <td>1</td>\n    </tr>\n    <tr>\n      <th>141</th>\n      <td>141</td>\n      <td>Zihan Li</td>\n      <td>7</td>\n      <td>3</td>\n    </tr>\n    <tr>\n      <th>142</th>\n      <td>142</td>\n      <td>Zsolt Csibi</td>\n      <td>7</td>\n      <td>5</td>\n    </tr>\n    <tr>\n      <th>143</th>\n      <td>143</td>\n      <td>Zuzanna Chudek</td>\n      <td>7</td>\n      <td>1</td>\n    </tr>\n  </tbody>\n</table>\n<p>144 rows × 4 columns</p>\n</div>"
     },
     "execution_count": 22,
     "metadata": {},
     "output_type": "execute_result"
    }
   ],
   "source": [
    "df_new = df_new[cols]\n",
    "df_new"
   ],
   "metadata": {
    "collapsed": false
   }
  },
  {
   "cell_type": "code",
   "execution_count": 24,
   "outputs": [
    {
     "data": {
      "text/plain": "2.8958333333333335"
     },
     "execution_count": 24,
     "metadata": {},
     "output_type": "execute_result"
    }
   ],
   "source": [
    "# 3. Calculate the average mark of the students\n",
    "avg_mark = df_new['mark'].mean()\n",
    "avg_mark"
   ],
   "metadata": {
    "collapsed": false
   }
  },
  {
   "cell_type": "code",
   "execution_count": null,
   "outputs": [],
   "source": [
    "# 4. Calculate the average mark of the students in each group\n",
    "for i in range(df_new.group_number):\n",
    "    df_new.loc[i]"
   ],
   "metadata": {
    "collapsed": false
   }
  }
 ],
 "metadata": {
  "kernelspec": {
   "display_name": "Python 3",
   "language": "python",
   "name": "python3"
  },
  "language_info": {
   "codemirror_mode": {
    "name": "ipython",
    "version": 2
   },
   "file_extension": ".py",
   "mimetype": "text/x-python",
   "name": "python",
   "nbconvert_exporter": "python",
   "pygments_lexer": "ipython2",
   "version": "2.7.6"
  }
 },
 "nbformat": 4,
 "nbformat_minor": 0
}
