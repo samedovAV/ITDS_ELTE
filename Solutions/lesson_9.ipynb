{
 "cells": [
  {
   "cell_type": "code",
   "execution_count": 54,
   "metadata": {
    "collapsed": true
   },
   "outputs": [],
   "source": [
    "import warnings\n",
    "warnings.simplefilter(action='ignore')"
   ]
  },
  {
   "cell_type": "code",
   "execution_count": 55,
   "outputs": [],
   "source": [
    "import random\n",
    "import numpy as np\n",
    "import pandas as pd"
   ],
   "metadata": {
    "collapsed": false
   }
  },
  {
   "cell_type": "code",
   "execution_count": 56,
   "outputs": [],
   "source": [
    "from scipy.sparse import csr_matrix"
   ],
   "metadata": {
    "collapsed": false
   }
  },
  {
   "cell_type": "code",
   "execution_count": 57,
   "outputs": [],
   "source": [
    "from sklearn.neighbors import NearestNeighbors"
   ],
   "metadata": {
    "collapsed": false
   }
  },
  {
   "cell_type": "code",
   "execution_count": 58,
   "outputs": [],
   "source": [
    "df_music_instruments = pd.read_csv('http://snap.stanford.edu/data/amazon/productGraph/categoryFiles/ratings_Musical_Instruments.csv', header=None)\n",
    "df_music_instruments.columns = ['userId', 'productId', 'rating', 'timestamp']"
   ],
   "metadata": {
    "collapsed": false
   }
  },
  {
   "cell_type": "code",
   "execution_count": 93,
   "outputs": [
    {
     "data": {
      "text/plain": "                userId   productId  rating   timestamp\n0       A1YS9MDZP93857  0006428320     3.0  1394496000\n1       A3TS466QBAWB9D  0014072149     5.0  1370476800\n2       A3BUDYITWUSIS7  0041291905     5.0  1381708800\n3       A19K10Z0D2NTZK  0041913574     5.0  1285200000\n4       A14X336IB4JD89  0201891859     1.0  1350432000\n...                ...         ...     ...         ...\n500171   A2XEVARMJP81E  B00LIR7QNS     5.0  1405641600\n500172  A3PAQGM6P87MXO  B00LJD5AUM     5.0  1404518400\n500173  A2KZX7A4XZ4T2W  B00LK7A9SK     5.0  1404518400\n500174   AIDHT6KXOL64T  SMLRBIMX03     5.0  1355788800\n500175  A161I1MHX2G2BR  SMLRBIMX03     4.0  1364860800\n\n[500176 rows x 4 columns]",
      "text/html": "<div>\n<style scoped>\n    .dataframe tbody tr th:only-of-type {\n        vertical-align: middle;\n    }\n\n    .dataframe tbody tr th {\n        vertical-align: top;\n    }\n\n    .dataframe thead th {\n        text-align: right;\n    }\n</style>\n<table border=\"1\" class=\"dataframe\">\n  <thead>\n    <tr style=\"text-align: right;\">\n      <th></th>\n      <th>userId</th>\n      <th>productId</th>\n      <th>rating</th>\n      <th>timestamp</th>\n    </tr>\n  </thead>\n  <tbody>\n    <tr>\n      <th>0</th>\n      <td>A1YS9MDZP93857</td>\n      <td>0006428320</td>\n      <td>3.0</td>\n      <td>1394496000</td>\n    </tr>\n    <tr>\n      <th>1</th>\n      <td>A3TS466QBAWB9D</td>\n      <td>0014072149</td>\n      <td>5.0</td>\n      <td>1370476800</td>\n    </tr>\n    <tr>\n      <th>2</th>\n      <td>A3BUDYITWUSIS7</td>\n      <td>0041291905</td>\n      <td>5.0</td>\n      <td>1381708800</td>\n    </tr>\n    <tr>\n      <th>3</th>\n      <td>A19K10Z0D2NTZK</td>\n      <td>0041913574</td>\n      <td>5.0</td>\n      <td>1285200000</td>\n    </tr>\n    <tr>\n      <th>4</th>\n      <td>A14X336IB4JD89</td>\n      <td>0201891859</td>\n      <td>1.0</td>\n      <td>1350432000</td>\n    </tr>\n    <tr>\n      <th>...</th>\n      <td>...</td>\n      <td>...</td>\n      <td>...</td>\n      <td>...</td>\n    </tr>\n    <tr>\n      <th>500171</th>\n      <td>A2XEVARMJP81E</td>\n      <td>B00LIR7QNS</td>\n      <td>5.0</td>\n      <td>1405641600</td>\n    </tr>\n    <tr>\n      <th>500172</th>\n      <td>A3PAQGM6P87MXO</td>\n      <td>B00LJD5AUM</td>\n      <td>5.0</td>\n      <td>1404518400</td>\n    </tr>\n    <tr>\n      <th>500173</th>\n      <td>A2KZX7A4XZ4T2W</td>\n      <td>B00LK7A9SK</td>\n      <td>5.0</td>\n      <td>1404518400</td>\n    </tr>\n    <tr>\n      <th>500174</th>\n      <td>AIDHT6KXOL64T</td>\n      <td>SMLRBIMX03</td>\n      <td>5.0</td>\n      <td>1355788800</td>\n    </tr>\n    <tr>\n      <th>500175</th>\n      <td>A161I1MHX2G2BR</td>\n      <td>SMLRBIMX03</td>\n      <td>4.0</td>\n      <td>1364860800</td>\n    </tr>\n  </tbody>\n</table>\n<p>500176 rows × 4 columns</p>\n</div>"
     },
     "execution_count": 93,
     "metadata": {},
     "output_type": "execute_result"
    }
   ],
   "source": [
    "df_music_instruments"
   ],
   "metadata": {
    "collapsed": false
   }
  },
  {
   "cell_type": "code",
   "execution_count": 94,
   "outputs": [],
   "source": [
    "# 2. Create a simple recommender system that recommends the highest rated instruments"
   ],
   "metadata": {
    "collapsed": false
   }
  },
  {
   "cell_type": "code",
   "execution_count": 95,
   "outputs": [
    {
     "name": "stdout",
     "output_type": "stream",
     "text": [
      "Number of ratings: 500176\n",
      "Number of unique instruments: 83046\n",
      "Number of unique users: 339231\n",
      "Average ratings per user: 1.47\n",
      "Average ratings per movie: 6.02\n"
     ]
    }
   ],
   "source": [
    "n_instruments = df_music_instruments.productId.unique().shape[0]\n",
    "n_users = df_music_instruments.userId.unique().shape[0]\n",
    "n_ratings = df_music_instruments.rating.shape[0]\n",
    "print(f\"Number of ratings: {n_ratings}\")\n",
    "print(f\"Number of unique instruments: {n_instruments}\")\n",
    "print(f\"Number of unique users: {n_users}\")\n",
    "print(f\"Average ratings per user: {round(n_ratings/n_users, 2)}\")\n",
    "print(f\"Average ratings per movie: {round(n_ratings/n_instruments, 2)}\")"
   ],
   "metadata": {
    "collapsed": false
   }
  },
  {
   "cell_type": "code",
   "execution_count": 96,
   "outputs": [
    {
     "data": {
      "text/plain": "                       userId  n_ratings\n0       A0002382258OFJJ2UYNTR          1\n1       A000744229JN9C72EHIVF          1\n2       A00097363JKNBC4UZRGPX          1\n3       A00116463B7B37ZYMF04A          1\n4       A001211614UB7M3DVLGSE          1\n...                       ...        ...\n339226          AZZWPNME0GQZ2          2\n339227          AZZX23UGJGKTT          4\n339228          AZZXW4PH4OEEK          1\n339229          AZZYI1EW1WY3M          1\n339230          AZZZTAPYKI9RD          1\n\n[339231 rows x 2 columns]",
      "text/html": "<div>\n<style scoped>\n    .dataframe tbody tr th:only-of-type {\n        vertical-align: middle;\n    }\n\n    .dataframe tbody tr th {\n        vertical-align: top;\n    }\n\n    .dataframe thead th {\n        text-align: right;\n    }\n</style>\n<table border=\"1\" class=\"dataframe\">\n  <thead>\n    <tr style=\"text-align: right;\">\n      <th></th>\n      <th>userId</th>\n      <th>n_ratings</th>\n    </tr>\n  </thead>\n  <tbody>\n    <tr>\n      <th>0</th>\n      <td>A0002382258OFJJ2UYNTR</td>\n      <td>1</td>\n    </tr>\n    <tr>\n      <th>1</th>\n      <td>A000744229JN9C72EHIVF</td>\n      <td>1</td>\n    </tr>\n    <tr>\n      <th>2</th>\n      <td>A00097363JKNBC4UZRGPX</td>\n      <td>1</td>\n    </tr>\n    <tr>\n      <th>3</th>\n      <td>A00116463B7B37ZYMF04A</td>\n      <td>1</td>\n    </tr>\n    <tr>\n      <th>4</th>\n      <td>A001211614UB7M3DVLGSE</td>\n      <td>1</td>\n    </tr>\n    <tr>\n      <th>...</th>\n      <td>...</td>\n      <td>...</td>\n    </tr>\n    <tr>\n      <th>339226</th>\n      <td>AZZWPNME0GQZ2</td>\n      <td>2</td>\n    </tr>\n    <tr>\n      <th>339227</th>\n      <td>AZZX23UGJGKTT</td>\n      <td>4</td>\n    </tr>\n    <tr>\n      <th>339228</th>\n      <td>AZZXW4PH4OEEK</td>\n      <td>1</td>\n    </tr>\n    <tr>\n      <th>339229</th>\n      <td>AZZYI1EW1WY3M</td>\n      <td>1</td>\n    </tr>\n    <tr>\n      <th>339230</th>\n      <td>AZZZTAPYKI9RD</td>\n      <td>1</td>\n    </tr>\n  </tbody>\n</table>\n<p>339231 rows × 2 columns</p>\n</div>"
     },
     "execution_count": 96,
     "metadata": {},
     "output_type": "execute_result"
    }
   ],
   "source": [
    "df_user_freq = df_music_instruments[['userId', 'productId']].groupby('userId').count().reset_index()\n",
    "df_user_freq.columns = ['userId', 'n_ratings']\n",
    "df_user_freq"
   ],
   "metadata": {
    "collapsed": false
   }
  },
  {
   "cell_type": "code",
   "execution_count": 97,
   "outputs": [
    {
     "data": {
      "text/plain": "            rating\nproductId         \n0006428320     3.0\n0014072149     5.0\n0041291905     5.0\n0041913574     5.0\n0201891859     1.0\n...            ...\nB00LEWRD80     2.0\nB00LIR7QNS     5.0\nB00LJD5AUM     5.0\nB00LK7A9SK     5.0\nSMLRBIMX03     4.5\n\n[83046 rows x 1 columns]",
      "text/html": "<div>\n<style scoped>\n    .dataframe tbody tr th:only-of-type {\n        vertical-align: middle;\n    }\n\n    .dataframe tbody tr th {\n        vertical-align: top;\n    }\n\n    .dataframe thead th {\n        text-align: right;\n    }\n</style>\n<table border=\"1\" class=\"dataframe\">\n  <thead>\n    <tr style=\"text-align: right;\">\n      <th></th>\n      <th>rating</th>\n    </tr>\n    <tr>\n      <th>productId</th>\n      <th></th>\n    </tr>\n  </thead>\n  <tbody>\n    <tr>\n      <th>0006428320</th>\n      <td>3.0</td>\n    </tr>\n    <tr>\n      <th>0014072149</th>\n      <td>5.0</td>\n    </tr>\n    <tr>\n      <th>0041291905</th>\n      <td>5.0</td>\n    </tr>\n    <tr>\n      <th>0041913574</th>\n      <td>5.0</td>\n    </tr>\n    <tr>\n      <th>0201891859</th>\n      <td>1.0</td>\n    </tr>\n    <tr>\n      <th>...</th>\n      <td>...</td>\n    </tr>\n    <tr>\n      <th>B00LEWRD80</th>\n      <td>2.0</td>\n    </tr>\n    <tr>\n      <th>B00LIR7QNS</th>\n      <td>5.0</td>\n    </tr>\n    <tr>\n      <th>B00LJD5AUM</th>\n      <td>5.0</td>\n    </tr>\n    <tr>\n      <th>B00LK7A9SK</th>\n      <td>5.0</td>\n    </tr>\n    <tr>\n      <th>SMLRBIMX03</th>\n      <td>4.5</td>\n    </tr>\n  </tbody>\n</table>\n<p>83046 rows × 1 columns</p>\n</div>"
     },
     "execution_count": 97,
     "metadata": {},
     "output_type": "execute_result"
    }
   ],
   "source": [
    "df_mean_ratings = df_music_instruments.groupby('productId')[['rating']].mean()\n",
    "df_mean_ratings"
   ],
   "metadata": {
    "collapsed": false
   }
  },
  {
   "cell_type": "code",
   "execution_count": 98,
   "outputs": [
    {
     "data": {
      "text/plain": "<AxesSubplot: >"
     },
     "execution_count": 98,
     "metadata": {},
     "output_type": "execute_result"
    },
    {
     "data": {
      "text/plain": "<Figure size 640x480 with 1 Axes>",
      "image/png": "[encoded data removed]"
     },
     "metadata": {},
     "output_type": "display_data"
    }
   ],
   "source": [
    "df_mean_ratings['rating'].hist()"
   ],
   "metadata": {
    "collapsed": false
   }
  },
  {
   "cell_type": "code",
   "execution_count": 99,
   "outputs": [
    {
     "data": {
      "text/plain": "       productId  rating_x          userId  rating_y   timestamp\n0     0201891859       1.0  A14X336IB4JD89       1.0  1350432000\n1     1423403363       1.0  A2G2DXPFZKG48W       1.0  1298160000\n2     1423403363       1.0  A149OZDGI4VK7P       1.0  1360627200\n3     157560860X       1.0  A36361OBBDOWDQ       1.0  1262908800\n4     6305275432       1.0  A2ZISS0NCMT6FT       1.0  1318982400\n...          ...       ...             ...       ...         ...\n3058  B00KFEZOA2       1.0  A3980S0UCCG9CB       1.0  1405123200\n3059  B00KLLKE04       1.0  A2J6EBTC11X0QR       1.0  1405123200\n3060  B00KMFUCC4       1.0  A29UMYO56IEZ2E       1.0  1403395200\n3061  B00KRAG53E       1.0  A1VC2JTW35ZMFP       1.0  1403049600\n3062  B00KT3516G       1.0  A3587187ZJOI5D       1.0  1404518400\n\n[3063 rows x 5 columns]",
      "text/html": "<div>\n<style scoped>\n    .dataframe tbody tr th:only-of-type {\n        vertical-align: middle;\n    }\n\n    .dataframe tbody tr th {\n        vertical-align: top;\n    }\n\n    .dataframe thead th {\n        text-align: right;\n    }\n</style>\n<table border=\"1\" class=\"dataframe\">\n  <thead>\n    <tr style=\"text-align: right;\">\n      <th></th>\n      <th>productId</th>\n      <th>rating_x</th>\n      <th>userId</th>\n      <th>rating_y</th>\n      <th>timestamp</th>\n    </tr>\n  </thead>\n  <tbody>\n    <tr>\n      <th>0</th>\n      <td>0201891859</td>\n      <td>1.0</td>\n      <td>A14X336IB4JD89</td>\n      <td>1.0</td>\n      <td>1350432000</td>\n    </tr>\n    <tr>\n      <th>1</th>\n      <td>1423403363</td>\n      <td>1.0</td>\n      <td>A2G2DXPFZKG48W</td>\n      <td>1.0</td>\n      <td>1298160000</td>\n    </tr>\n    <tr>\n      <th>2</th>\n      <td>1423403363</td>\n      <td>1.0</td>\n      <td>A149OZDGI4VK7P</td>\n      <td>1.0</td>\n      <td>1360627200</td>\n    </tr>\n    <tr>\n      <th>3</th>\n      <td>157560860X</td>\n      <td>1.0</td>\n      <td>A36361OBBDOWDQ</td>\n      <td>1.0</td>\n      <td>1262908800</td>\n    </tr>\n    <tr>\n      <th>4</th>\n      <td>6305275432</td>\n      <td>1.0</td>\n      <td>A2ZISS0NCMT6FT</td>\n      <td>1.0</td>\n      <td>1318982400</td>\n    </tr>\n    <tr>\n      <th>...</th>\n      <td>...</td>\n      <td>...</td>\n      <td>...</td>\n      <td>...</td>\n      <td>...</td>\n    </tr>\n    <tr>\n      <th>3058</th>\n      <td>B00KFEZOA2</td>\n      <td>1.0</td>\n      <td>A3980S0UCCG9CB</td>\n      <td>1.0</td>\n      <td>1405123200</td>\n    </tr>\n    <tr>\n      <th>3059</th>\n      <td>B00KLLKE04</td>\n      <td>1.0</td>\n      <td>A2J6EBTC11X0QR</td>\n      <td>1.0</td>\n      <td>1405123200</td>\n    </tr>\n    <tr>\n      <th>3060</th>\n      <td>B00KMFUCC4</td>\n      <td>1.0</td>\n      <td>A29UMYO56IEZ2E</td>\n      <td>1.0</td>\n      <td>1403395200</td>\n    </tr>\n    <tr>\n      <th>3061</th>\n      <td>B00KRAG53E</td>\n      <td>1.0</td>\n      <td>A1VC2JTW35ZMFP</td>\n      <td>1.0</td>\n      <td>1403049600</td>\n    </tr>\n    <tr>\n      <th>3062</th>\n      <td>B00KT3516G</td>\n      <td>1.0</td>\n      <td>A3587187ZJOI5D</td>\n      <td>1.0</td>\n      <td>1404518400</td>\n    </tr>\n  </tbody>\n</table>\n<p>3063 rows × 5 columns</p>\n</div>"
     },
     "execution_count": 99,
     "metadata": {},
     "output_type": "execute_result"
    }
   ],
   "source": [
    "df_lowest_rated = df_mean_ratings[df_mean_ratings['rating'] == df_music_instruments['rating'].min()]\n",
    "df_lowest_rated = df_lowest_rated.merge(df_music_instruments, on='productId').reset_index(drop=True)\n",
    "df_lowest_rated"
   ],
   "metadata": {
    "collapsed": false
   }
  },
  {
   "cell_type": "code",
   "execution_count": 100,
   "outputs": [
    {
     "data": {
      "text/plain": "        productId  rating_x          userId  rating_y   timestamp\n0      0014072149       5.0  A3TS466QBAWB9D       5.0  1370476800\n1      0041291905       5.0  A3BUDYITWUSIS7       5.0  1381708800\n2      0041913574       5.0  A19K10Z0D2NTZK       5.0  1285200000\n3      0577088726       5.0  A2HR0IL3TC4CKL       5.0  1371168000\n4      0634050028       5.0  A1BX81N79C9BVT       5.0  1369872000\n...           ...       ...             ...       ...         ...\n54814  B00L75HFOQ       5.0  A1EITL4Y22NWC0       5.0  1405555200\n54815  B00LBEUTN2       5.0  A2B36P2QL36J7U       5.0  1405123200\n54816  B00LIR7QNS       5.0   A2XEVARMJP81E       5.0  1405641600\n54817  B00LJD5AUM       5.0  A3PAQGM6P87MXO       5.0  1404518400\n54818  B00LK7A9SK       5.0  A2KZX7A4XZ4T2W       5.0  1404518400\n\n[54819 rows x 5 columns]",
      "text/html": "<div>\n<style scoped>\n    .dataframe tbody tr th:only-of-type {\n        vertical-align: middle;\n    }\n\n    .dataframe tbody tr th {\n        vertical-align: top;\n    }\n\n    .dataframe thead th {\n        text-align: right;\n    }\n</style>\n<table border=\"1\" class=\"dataframe\">\n  <thead>\n    <tr style=\"text-align: right;\">\n      <th></th>\n      <th>productId</th>\n      <th>rating_x</th>\n      <th>userId</th>\n      <th>rating_y</th>\n      <th>timestamp</th>\n    </tr>\n  </thead>\n  <tbody>\n    <tr>\n      <th>0</th>\n      <td>0014072149</td>\n      <td>5.0</td>\n      <td>A3TS466QBAWB9D</td>\n      <td>5.0</td>\n      <td>1370476800</td>\n    </tr>\n    <tr>\n      <th>1</th>\n      <td>0041291905</td>\n      <td>5.0</td>\n      <td>A3BUDYITWUSIS7</td>\n      <td>5.0</td>\n      <td>1381708800</td>\n    </tr>\n    <tr>\n      <th>2</th>\n      <td>0041913574</td>\n      <td>5.0</td>\n      <td>A19K10Z0D2NTZK</td>\n      <td>5.0</td>\n      <td>1285200000</td>\n    </tr>\n    <tr>\n      <th>3</th>\n      <td>0577088726</td>\n      <td>5.0</td>\n      <td>A2HR0IL3TC4CKL</td>\n      <td>5.0</td>\n      <td>1371168000</td>\n    </tr>\n    <tr>\n      <th>4</th>\n      <td>0634050028</td>\n      <td>5.0</td>\n      <td>A1BX81N79C9BVT</td>\n      <td>5.0</td>\n      <td>1369872000</td>\n    </tr>\n    <tr>\n      <th>...</th>\n      <td>...</td>\n      <td>...</td>\n      <td>...</td>\n      <td>...</td>\n      <td>...</td>\n    </tr>\n    <tr>\n      <th>54814</th>\n      <td>B00L75HFOQ</td>\n      <td>5.0</td>\n      <td>A1EITL4Y22NWC0</td>\n      <td>5.0</td>\n      <td>1405555200</td>\n    </tr>\n    <tr>\n      <th>54815</th>\n      <td>B00LBEUTN2</td>\n      <td>5.0</td>\n      <td>A2B36P2QL36J7U</td>\n      <td>5.0</td>\n      <td>1405123200</td>\n    </tr>\n    <tr>\n      <th>54816</th>\n      <td>B00LIR7QNS</td>\n      <td>5.0</td>\n      <td>A2XEVARMJP81E</td>\n      <td>5.0</td>\n      <td>1405641600</td>\n    </tr>\n    <tr>\n      <th>54817</th>\n      <td>B00LJD5AUM</td>\n      <td>5.0</td>\n      <td>A3PAQGM6P87MXO</td>\n      <td>5.0</td>\n      <td>1404518400</td>\n    </tr>\n    <tr>\n      <th>54818</th>\n      <td>B00LK7A9SK</td>\n      <td>5.0</td>\n      <td>A2KZX7A4XZ4T2W</td>\n      <td>5.0</td>\n      <td>1404518400</td>\n    </tr>\n  </tbody>\n</table>\n<p>54819 rows × 5 columns</p>\n</div>"
     },
     "execution_count": 100,
     "metadata": {},
     "output_type": "execute_result"
    }
   ],
   "source": [
    "df_highest_rated = df_mean_ratings[df_mean_ratings['rating'] == df_music_instruments['rating'].max()]\n",
    "df_highest_rated = df_highest_rated.merge(df_music_instruments, on='productId').reset_index(drop=True)\n",
    "df_highest_rated"
   ],
   "metadata": {
    "collapsed": false
   }
  },
  {
   "cell_type": "code",
   "execution_count": 101,
   "outputs": [],
   "source": [
    "# 3. Create a collaborative filtering system that recommends similar instruments to the one given"
   ],
   "metadata": {
    "collapsed": false
   }
  },
  {
   "cell_type": "code",
   "execution_count": 102,
   "outputs": [
    {
     "name": "stdout",
     "output_type": "stream",
     "text": [
      "Number of users: 339231\n",
      "Number of instruments: 83046\n"
     ]
    }
   ],
   "source": [
    "N = len(df_music_instruments['userId'].unique())\n",
    "M = len(df_music_instruments['productId'].unique())\n",
    "print(f\"Number of users: {N}\")\n",
    "print(f\"Number of instruments: {M}\")"
   ],
   "metadata": {
    "collapsed": false
   }
  },
  {
   "cell_type": "code",
   "execution_count": 103,
   "outputs": [
    {
     "data": {
      "text/plain": "{'A0002382258OFJJ2UYNTR': 0,\n 'A000744229JN9C72EHIVF': 1,\n 'A00097363JKNBC4UZRGPX': 2,\n 'A00116463B7B37ZYMF04A': 3,\n 'A001211614UB7M3DVLGSE': 4,\n 'A00166643JDONYF4HV38R': 5,\n 'A00193422IMFQSHO9557H': 6,\n 'A002211213O7OZD4NB6T4': 7,\n 'A00250322GZSVDCQ44DBA': 8,\n 'A00284702WL8BQHSOK67D': 9,\n 'A0028518312V9G9GA1SDL': 10,\n 'A0031542143934HC9VNXB': 11,\n 'A0032366351NBY5321P69': 12,\n 'A00338543M2OZPUWO9ZRU': 13,\n 'A004176027NXFTHNBG3MW': 14,\n 'A0047322388NOTO4N8SKD': 15,\n 'A00492902HSM8TH90VHIT': 16,\n 'A005127032XQB6G77QFAM': 17,\n 'A005711235SC3Y7BR681Q': 18,\n 'A00585421FNCF6DDYRIE9': 19,\n 'A00593903MCE5GXTAGGNL': 20,\n 'A00602363Q6SMEXZ7XCV4': 21,\n 'A00616742NBLCNOXH3IKE': 22,\n 'A00624361JQ09OIK9ETKL': 23,\n 'A00625243BI8W1SSZNLMD': 24,\n 'A006591110HYB1V32WX5C': 25,\n 'A00673971SSQ4S7W7MSSG': 26,\n 'A007093936II192M9KF38': 27,\n 'A00709991QIAP5LOO93WA': 28,\n 'A00766851QZZUBOVF4JFT': 29,\n 'A00778832TW1B5CZXHRD2': 30,\n 'A00782011FNUYCXRBZEM9': 31,\n 'A0081289HG0BXFQJQUWW': 32,\n 'A00824371061Q7KBYP8U0': 33,\n 'A008487513J0879KNNF0J': 34,\n 'A00856152924YO9ZZ040A': 35,\n 'A00886873DFAGZ9B7NYLL': 36,\n 'A00900892C1M4XYNDNN44': 37,\n 'A00913411DZ5FADRUC3AK': 38,\n 'A00983853NKGIIP9EWCST': 39,\n 'A0099919A30Q9445KCR1': 40,\n 'A0102383IUTQ8E1UUFXZ': 41,\n 'A01036691ZFOFCXBLP2D1': 42,\n 'A0103849GBVWICKXD4T6': 43,\n 'A01068971NQX7IAIF9MXN': 44,\n 'A0108987Z2DKD6QAJ8XY': 45,\n 'A01093051D0MR8J7MZJ7K': 46,\n 'A01113311U1D1SKCKHZ57': 47,\n 'A0114627PIH8EULAQNJA': 48,\n 'A01162992L70ZALE8ADXZ': 49,\n 'A01221611Z7KTGNDVO3J9': 50,\n 'A012386134NCYLCZ2YVC8': 51,\n 'A01325822E2ZM6XY2KRD': 52,\n 'A013489014NZ0E723Q2UV': 53,\n 'A01360981BPBN9V1NLPWI': 54,\n 'A0137880KEOZMASBUFKW': 55,\n 'A013908612VUH8DIZ15HB': 56,\n 'A0139840265YVA2L3W18M': 57,\n 'A01418701N13H98VFAZ38': 58,\n 'A01458943UKX2HCM0VVN0': 59,\n 'A0148968UM59JS3Y8D1M': 60,\n 'A0156594SD99EPTYWUKA': 61,\n 'A01566782ZS7DBXU5Y5ZI': 62,\n 'A01583163GXYNNFEFJW1B': 63,\n 'A0160306286I18U3W91G': 64,\n 'A01664181J9JOP6JFTJ4U': 65,\n 'A01779462MHEEWPXMZKF4': 66,\n 'A0179478QQOMJD8A3KNC': 67,\n 'A01797301SG2P7RORTRO0': 68,\n 'A01866103UOEDBJB9Y5IR': 69,\n 'A0202659KUHIPNV43UAV': 70,\n 'A0203473O4SP37KW4W4R': 71,\n 'A02110191Z0HF2YGV0N6N': 72,\n 'A02134592H83PT34SPSCF': 73,\n 'A02148012DK5ZHI7F5ECL': 74,\n 'A02196236Z4QJMRQADW1': 75,\n 'A02238012XKESSSKP7QMJ': 76,\n 'A022603516GG2JDRGOKJ1': 77,\n 'A02284793VWF6D7PNQIDY': 78,\n 'A02307171QNNEK2WNI2H': 79,\n 'A023184920UBKN41XJT8N': 80,\n 'A0241423D1B7WBRN94SR': 81,\n 'A0246321174T30OWWY0LB': 82,\n 'A02495352B67MDYPCAFDW': 83,\n 'A025477729TTDE170VVE1': 84,\n 'A02553654ORZAIT2HWI4': 85,\n 'A02643303F51BUOR3J400': 86,\n 'A02656761KXZ5THBI7Z2F': 87,\n 'A0268300T7W9PSR4GQ2C': 88,\n 'A02722063LXULTYMNUPWV': 89,\n 'A02722748RYHZ3KJOC8A': 90,\n 'A027434444AAKOCZ6MUZ': 91,\n 'A027662032T2DYP86FPNC': 92,\n 'A0279100VZXR9A2495P4': 93,\n 'A02804961LACYY7Z74EWL': 94,\n 'A02932642ZO34H2S8TD84': 95,\n 'A02986682407H7C71XSBM': 96,\n 'A03008423R3PU0QEL5N0H': 97,\n 'A03053323HVPIUS6CEON1': 98,\n 'A030935825UASXDNUBBMG': 99,\n 'A03156452A45X3ZJH6KEW': 100,\n 'A03173961SEIJJTFLUSNN': 101,\n 'A03177322D67XWBT5P2P0': 102,\n 'A0319772GS3FXLLFSOZ8': 103,\n 'A031982023UPCYJ5NSSH7': 104,\n 'A03208543JNZIHBSWXL16': 105,\n 'A0325424SV5QWZOTSPR4': 106,\n 'A03257501KR69K2523W14': 107,\n 'A03260082O43CYZ8483TS': 108,\n 'A03317052RKDCMKFJPSN9': 109,\n 'A0333471214S6WPUIKP37': 110,\n 'A0335011YNR34FF64J3P': 111,\n 'A0336011OSPCZMKR0MA4': 112,\n 'A03432012XOGOI9WQAOJD': 113,\n 'A03435752QYZ1DJF4651X': 114,\n 'A03441377EON5E0Y7A3': 115,\n 'A0347419QTYOGWVC1VVS': 116,\n 'A03555551WYOSN3CQF4KH': 117,\n 'A03570951ZQB60WH28ATO': 118,\n 'A03587233CVBYY35IOWAG': 119,\n 'A03615793H1HJGD28YQHM': 120,\n 'A036345112EYKHA6FAANL': 121,\n 'A036513549TVB6QSFK04': 122,\n 'A03656793J1MMYZUMW7HT': 123,\n 'A03669591P3R22J094XIE': 124,\n 'A036732525L8BYIFMVAZM': 125,\n 'A037079712WJ4JOAWM4LU': 126,\n 'A03727812K82FFA94RUR7': 127,\n 'A03730191QV2JML3C4YQL': 128,\n 'A03765451LCS41DO5OQ2W': 129,\n 'A03875951RS1YQD6C707J': 130,\n 'A03893431HA9UH9CFEB21': 131,\n 'A03937941MPTMOA6C1PMR': 132,\n 'A03960061YEDO2L2Q4740': 133,\n 'A03962101SYL9IXBU9G7': 134,\n 'A0397186PUWAL6GOASF7': 135,\n 'A0400898QDJDPR9X97QW': 136,\n 'A04012921UPKNJ48KLSLK': 137,\n 'A0403064M7XFW7U76S9H': 138,\n 'A04056002B8POAVGCAXL1': 139,\n 'A04098181D1ULUINOQKQD': 140,\n 'A041023238PB3WA06ZJL2': 141,\n 'A04116083RRN751F1F9U6': 142,\n 'A0421920HBDFD0XYKPH': 143,\n 'A04223822E4NYNYXCD8S3': 144,\n 'A04246163P9KSZFST5F6J': 145,\n 'A04300642YNDWE7BC2NYR': 146,\n 'A04317002165SAUAZYG5Q': 147,\n 'A04333161Q86VC8OKK4PF': 148,\n 'A043634866J4NX2M8NLN': 149,\n 'A044148048P75MDWD0A2': 150,\n 'A044283626HL8LJIENG2J': 151,\n 'A04522882E8CCPGBJB4S3': 152,\n 'A04523701ZTDV9AGO09EC': 153,\n 'A0453738TPU0U580HHN': 154,\n 'A04561483EYOO5BSJ3VEU': 155,\n 'A04561821FB99NP4B7SZZ': 156,\n 'A04571982TOZ35MVNU05N': 157,\n 'A04644952AJMFWHNHPK4T': 158,\n 'A04648693VQX6ELRZAHYZ': 159,\n 'A04651012XMF4R0JSQK4P': 160,\n 'A046643724Z79W75T928O': 161,\n 'A0471159IAQR2UANA6XD': 162,\n 'A0473259F6GQNBD88IYN': 163,\n 'A04746953FX7FJX3D0JSA': 164,\n 'A04751212T325INNKRF5I': 165,\n 'A0479243235SDZMO484K': 166,\n 'A04809719KJHPX0G1J9U': 167,\n 'A0484025D8293E44P6M7': 168,\n 'A0487111323U00PT21DAT': 169,\n 'A048721926FTOFTU16LOO': 170,\n 'A048796318M8Y5SVIRZY8': 171,\n 'A048917314JRHX7K62Z36': 172,\n 'A04903313X9F09VES8AM': 173,\n 'A04949373MY3OK6HK695R': 174,\n 'A0495629390Z2PFJDHKMU': 175,\n 'A0500379275UQW5ZDVRP1': 176,\n 'A050088329SHNDTPMK5P2': 177,\n 'A05019592OEL0Y8K48S80': 178,\n 'A050221121VYY2VHJRVXQ': 179,\n 'A05039072BTS8XOPJKBXB': 180,\n 'A05045273EP8R2W87N0OG': 181,\n 'A05054933SN1B37CAH4KS': 182,\n 'A0505759QKSPHMZRAO20': 183,\n 'A0508779FEO1DUNOSQNX': 184,\n 'A05113752PZBDNDXAMF77': 185,\n 'A05118232KJ2MKNH3CL5K': 186,\n 'A05124562SG4NDRMP2LUB': 187,\n 'A05140352II24L2853A8Z': 188,\n 'A0514759LV0816NYEP8P': 189,\n 'A0520305HPIU38CLT2TH': 190,\n 'A05239511R20CKCTKQ565': 191,\n 'A0526234GM78CN1F77O5': 192,\n 'A05270967G3DU4T806HA': 193,\n 'A0530246EKZYJNU6PSVN': 194,\n 'A05308642XSSXXC1V7HS6': 195,\n 'A053366219CE90ZJL01L3': 196,\n 'A05341303SYWY76D3QTCE': 197,\n 'A053491628IYB59XLDQ06': 198,\n 'A05374422YAOUWKPVJ5A4': 199,\n 'A05433981BNNLI4HG2V8R': 200,\n 'A05434242PMPAAU2UN4JG': 201,\n 'A05485522PDGPLHTFEHOE': 202,\n 'A05497642ZG7Q3C87AEKF': 203,\n 'A0556928392120CL45BAG': 204,\n 'A05620541P8FQFE43NHAM': 205,\n 'A05689703OLNQZ1T70AGR': 206,\n 'A05708741BDCLHZJR0JFG': 207,\n 'A05715982B7SSTFW17X55': 208,\n 'A0573500K1RSFO1LSY42': 209,\n 'A057373427WXLKW2PKELS': 210,\n 'A05766243K9KWOLS93RT9': 211,\n 'A05787651MZDDJ83X7GYH': 212,\n 'A0579928YPQI57R537VZ': 213,\n 'A0580760KQ42MRO444AL': 214,\n 'A05812083BW9322UWTPFS': 215,\n 'A058193610FJ3FR74IOUP': 216,\n 'A05891803UED9K1GXUTGF': 217,\n 'A0590985195HLNJ0KN2RZ': 218,\n 'A05912011LKFDTOBERDEZ': 219,\n 'A0600727NK5MAF66IOY5': 220,\n 'A0602489S9C6EVXEOJI1': 221,\n 'A060341735DGIVP8HTQIM': 222,\n 'A060470519U8MH6GFLW5U': 223,\n 'A06074591BRSHTSHU5EMR': 224,\n 'A06082352U41QQ1A6NK8W': 225,\n 'A06123573RLWGA57HE60D': 226,\n 'A06172691R0AX9I44CKPS': 227,\n 'A06179831UEJC53HF58SX': 228,\n 'A06286152D4UO4N215GQN': 229,\n 'A06449943D4WBLU1R8MU7': 230,\n 'A06503551SMDJMAP1ZLVK': 231,\n 'A06512531ZWXPHZ342QYR': 232,\n 'A0656536K97X969EJTGS': 233,\n 'A06662542P9IP59TYGWO6': 234,\n 'A06669542DOBF78RBVFQI': 235,\n 'A06670062IIQLRXNQG6JH': 236,\n 'A06673682TAW1ZZODLS0': 237,\n 'A066818029ZY58QNRJ3WS': 238,\n 'A067117036DSDCV4E4Q60': 239,\n 'A06723503NNKE10US3844': 240,\n 'A06725623KRPV2JYHM92I': 241,\n 'A0673460Y9P704SDV9L': 242,\n 'A0676022282XBHHA8SYLX': 243,\n 'A06766882LAGR0E3JCKH2': 244,\n 'A068492619ALPXD5IG2AV': 245,\n 'A068510418E9CCS26O5GP': 246,\n 'A068571818GRCQ41DN9NB': 247,\n 'A068672020MCAXOD3VDTM': 248,\n 'A0692014218PXY8KEL0HZ': 249,\n 'A06925643F16KB136LW3K': 250,\n 'A06926482QG822LBACQB3': 251,\n 'A0695356P6HX42V37Y7Y': 252,\n 'A070192029LVGMKAZQKT2': 253,\n 'A07091132POHH4H99ZLJE': 254,\n 'A071507218REPKM1M79QX': 255,\n 'A07174841RGRQKY2T93WK': 256,\n 'A0720622H67YG6H1K33S': 257,\n 'A0722157S2OT3SAJ0UZ4': 258,\n 'A07254933IBDAIWG9CUMC': 259,\n 'A0726191M0XKFQIH3AF7': 260,\n 'A072790532J3XUIC7ATA5': 261,\n 'A0728441NQ5GRXT7TTNG': 262,\n 'A07314252KCMAX4ECWVD6': 263,\n 'A073283532GOCECBW27NS': 264,\n 'A0736251ASWRHSOZFVLW': 265,\n 'A07385732J994XUFKQUUP': 266,\n 'A0744335V48TOG5ZD8O9': 267,\n 'A07469531OFA5X5K4IXOS': 268,\n 'A07499853IEY9W6J55507': 269,\n 'A075028919GR927FB04SL': 270,\n 'A0757975VXDYT4O0HAGT': 271,\n 'A0758071RUGYXSG4I8XJ': 272,\n 'A07682653MD8OYWYRLJAJ': 273,\n 'A07708292VIM0NQDU9OAT': 274,\n 'A07757242U01IL7PUFZL7': 275,\n 'A07758743BS51FAZVGXAT': 276,\n 'A077692925RNTOA3UMXBY': 277,\n 'A07770391TAJXRA9C8M2D': 278,\n 'A07787611QOC4WBRQT4V3': 279,\n 'A07862511STGPEI2OG8XT': 280,\n 'A07865442XT0VEAVPSGX1': 281,\n 'A07865802BORZ4TJ3TW67': 282,\n 'A07906742X2Y7JFCQQZSO': 283,\n 'A07960842IJ093X6R4366': 284,\n 'A07961442OVXEW0GVNUET': 285,\n 'A080166414O60IDBZEUJH': 286,\n 'A08037442PN3Q30IROMYA': 287,\n 'A08103901FFQGM5CCCCRA': 288,\n 'A0811314Z3EJU9MLB0FS': 289,\n 'A081471034IKH2CZKVX31': 290,\n 'A08151882MYMRGWIB0QM8': 291,\n 'A08161909WK3HU7UYTMW': 292,\n 'A08175042IIUW4UAZ3SVO': 293,\n 'A081990624EENRNH4BJLK': 294,\n 'A08209261V1RLO9TOZ3Q7': 295,\n 'A0821988L6UGHC3Z9D3Q': 296,\n 'A082296228NN6AXHOUTO8': 297,\n 'A08247422DE1BJU2V83VS': 298,\n 'A08250901Y9Z65JJ1J6FW': 299,\n 'A082799239XMMYGDRVA77': 300,\n 'A082932839HBAYETOKDM1': 301,\n 'A08302943S4DW3X9MFQPY': 302,\n 'A08310561MBU88ZZ465FI': 303,\n 'A0833006NJW9KRF77ZFY': 304,\n 'A08373202RU4SF86OJAI9': 305,\n 'A0837668UI5E2BD74D8F': 306,\n 'A08404673O0MPFFC8XZZR': 307,\n 'A08417183L1479SBHX8OW': 308,\n 'A08420321RFTN39X532XA': 309,\n 'A0842176B1H5CCO1N1RA': 310,\n 'A08484662JYIN293GO18': 311,\n 'A0856989LJ95V6TB0VRO': 312,\n 'A08579852L8EEFFBPYADW': 313,\n 'A085969913PPYQX9MGCJ4': 314,\n 'A086197923M3RJJE9C98G': 315,\n 'A0866441FY6X704UGHJE': 316,\n 'A087049330YZ7JZMK563L': 317,\n 'A0882267H0AW4UOUDXH9': 318,\n 'A08823773EI284FSZWYMZ': 319,\n 'A08859291IKHEAYRQA747': 320,\n 'A0886289VFHQ362RR3SS': 321,\n 'A08889571VIC590KN0WB': 322,\n 'A0890119SIO56RPW13XE': 323,\n 'A08909732OGLEJRK2L4E6': 324,\n 'A089252721N5KO3842MKJ': 325,\n 'A08925272QNTOYV50FOQV': 326,\n 'A0892893CVUOSA04Q1AB': 327,\n 'A089543336B2HF35WZZ6S': 328,\n 'A08994231UD3NPD71GV1X': 329,\n 'A09010058EEDKWSAY4P': 330,\n 'A090679024NE5QDZ3OPP7': 331,\n 'A0909307KYYS0F2NNSI0': 332,\n 'A09109152HKAJDLWWV6HV': 333,\n 'A09112253UJAALKV5MMIB': 334,\n 'A09114653A5OQAPZ7F32X': 335,\n 'A0911955PQ5ZNP3GJIQK': 336,\n 'A09137971DOVCY1WPO8OS': 337,\n 'A09138092J89ITBGK5GFR': 338,\n 'A09151771XCBU491CYA7Q': 339,\n 'A09181783TP7F6Y3JCKFI': 340,\n 'A09186881G957PBPP3FXK': 341,\n 'A0920190DNG10SQI393G': 342,\n 'A09218563DMEWJ7H75KA6': 343,\n 'A09373322M9CVA2HG77DN': 344,\n 'A0939364AD2BAI7E69UR': 345,\n 'A0940732RLDXN6YHW2XT': 346,\n 'A09431701BI31P0WDZ49P': 347,\n 'A09445263IOIL6D8YRI2K': 348,\n 'A09446042Q8APICK4EBMK': 349,\n 'A0955928C2RRWOWZN7UC': 350,\n 'A09570042FDMW0375GCJ4': 351,\n 'A09597122XCP11R5HFRI3': 352,\n 'A09603182NEXDPM4P75H4': 353,\n 'A0963424ZA4TVBG0J6EM': 354,\n 'A096475227OR0PMIUPWTG': 355,\n 'A09662627RVV2XN6SK7H': 356,\n 'A09714373BHDNY9RV4WRG': 357,\n 'A09732881SZBO7U5IO6N5': 358,\n 'A0974716151RD427AXNIT': 359,\n 'A09800282R3PCJ2LVV53V': 360,\n 'A0986037105JLW28LJ888': 361,\n 'A098810914LKO0RC65I2Q': 362,\n 'A09899451IM4ZNZEJQXHO': 363,\n 'A0992633I2XTZL1LVX7Q': 364,\n 'A099280716ZEH5UPWAN4A': 365,\n 'A09935073BAU4GHRSQKNC': 366,\n 'A09961833U9WPD90DQUX5': 367,\n 'A099898949AFPOGMFDCB': 368,\n 'A10007C3HQWI9L': 369,\n 'A1000JVXWQZ8SK': 370,\n 'A10015733JD0KGH2DCBCH': 371,\n 'A1002LOWA9IRSF': 372,\n 'A1002Y6C57URKI': 373,\n 'A1003CUBPYM3DE': 374,\n 'A1003D3M3KJQLB': 375,\n 'A1003FD66KZIA1': 376,\n 'A10044ECXDUVKS': 377,\n 'A1004703RC79J9': 378,\n 'A1004HHMSDY5IP': 379,\n 'A1005332P0RIWL': 380,\n 'A10063PJ5C9WQQ': 381,\n 'A1006KI6I99EDK': 382,\n 'A10070Q18J3B5F': 383,\n 'A10078IJIJ00J7': 384,\n 'A1008EEMWRT7DD': 385,\n 'A1008ULQSWI006': 386,\n 'A1009AQEHQNBXT': 387,\n 'A1009VX6WY3WK3': 388,\n 'A100ALUJWBXF0Y': 389,\n 'A100BB14TTDNGI': 390,\n 'A100BB8D2BVA20': 391,\n 'A100BPKUKWO6AP': 392,\n 'A100BSN682LAUI': 393,\n 'A100C1XA92Z43': 394,\n 'A100CI63VYPL5A': 395,\n 'A100D02XXTI37O': 396,\n 'A100DHET9S5DR7': 397,\n 'A100E8XJMJ608W': 398,\n 'A100EDINDKQYK6': 399,\n 'A100FCDZV5ABSB': 400,\n 'A100FFHHKNVXJC': 401,\n 'A100G6N0OTQ2TU': 402,\n 'A100HDF4SPCDZ5': 403,\n 'A100HFKNLJYCEM': 404,\n 'A100HNWBUEX9NF': 405,\n 'A100JCBNALJFAW': 406,\n 'A100K4O1RCPFKP': 407,\n 'A100L4G2U3KZ2': 408,\n 'A100L918633LUO': 409,\n 'A100LXXCNHX2CF': 410,\n 'A100M7AFILKA3C': 411,\n 'A100MO2Q70ZU3K': 412,\n 'A100MVTN6GZWGA': 413,\n 'A100NFBVIDGAZ5': 414,\n 'A100NSS1BOBSFU': 415,\n 'A100O2QOVBLBJT': 416,\n 'A100O5QLORBZRO': 417,\n 'A100ODIAPJ7H7H': 418,\n 'A100PF169JLGMU': 419,\n 'A100PMRWNCLN9Z': 420,\n 'A100Q4D30E596B': 421,\n 'A100QDIJL476F3': 422,\n 'A100QQI48IS6UH': 423,\n 'A100QR5KRL0JCK': 424,\n 'A100S1JQ5XK960': 425,\n 'A100SRVEMVQJ69': 426,\n 'A100STMN7BADN9': 427,\n 'A100SU96TE5QH8': 428,\n 'A100SUV3XECR18': 429,\n 'A100TBE764975I': 430,\n 'A100TCEB7KB4B': 431,\n 'A100TXZ1N3J8O1': 432,\n 'A100UQZ9JI26KX': 433,\n 'A100US6QVOOXLX': 434,\n 'A100V5EZ4ZKNBX': 435,\n 'A100V7SKXH85S7': 436,\n 'A100VN5OWT7PNC': 437,\n 'A100W7Y3HP5KO8': 438,\n 'A100XFMUAA2NF8': 439,\n 'A100Y6NUM32W3I': 440,\n 'A100YW95T0IP5Y': 441,\n 'A100Z32V1KHIVY': 442,\n 'A100ZFSVWJ644W': 443,\n 'A100ZQDV7L8PVV': 444,\n 'A1010EFN7MDEA7': 445,\n 'A1011O2T8JFS8S': 446,\n 'A1011OB3OECJ72': 447,\n 'A10121631NFYB72RN3NRV': 448,\n 'A1012K3Y06CEDE': 449,\n 'A101603336HUTI54CPOLI': 450,\n 'A1016A0KJP464V': 451,\n 'A1016EFJZN9WZU': 452,\n 'A1016Q5UDME15Z': 453,\n 'A1016TVMFO5HZS': 454,\n 'A10175A6ID42EL': 455,\n 'A1017QGAZ436W4': 456,\n 'A1017YES0WYUYJ': 457,\n 'A10188ZNGYMKII': 458,\n 'A1018N5XNG9R50': 459,\n 'A1018THTAPZQ6H': 460,\n 'A1018V8SA2VQL5': 461,\n 'A1018ZW6IPSI7Y': 462,\n 'A10195ZWPZZ4MS': 463,\n 'A10196PN01O3SP': 464,\n 'A1019VFAUBCQCD': 465,\n 'A101A17MDCS5U7': 466,\n 'A101A5HAADYZMO': 467,\n 'A101AE2FDSU3JS': 468,\n 'A101AENIWYBBS0': 469,\n 'A101AJQ1R51ZQ9': 470,\n 'A101BHR9J6H882': 471,\n 'A101BS3OMIWUW5': 472,\n 'A101C57T2C0TXS': 473,\n 'A101C8YPYJ29CG': 474,\n 'A101C99CG8EFUH': 475,\n 'A101CQOLSOYTRM': 476,\n 'A101D9K4GWJUC8': 477,\n 'A101DLE48J8BJ8': 478,\n 'A101DVF74XJ747': 479,\n 'A101EWEF3YS3JQ': 480,\n 'A101FW9MOKOIM4': 481,\n 'A101GBWDF6X64R': 482,\n 'A101HQR8HFHLS': 483,\n 'A101HV8FYRIOA0': 484,\n 'A101IN56LWHJUD': 485,\n 'A101IXW3H1DI7G': 486,\n 'A101J9RMH6P3LL': 487,\n 'A101JMMLX8K4NY': 488,\n 'A101KWAURID3E5': 489,\n 'A101NL7V1MIIF4': 490,\n 'A101O57XL3E7ME': 491,\n 'A101OAAMZYWQ3U': 492,\n 'A101OB93XKOXX6': 493,\n 'A101OE0F4EO2AE': 494,\n 'A101OIVFJ74ULS': 495,\n 'A101PMDV0TEOIO': 496,\n 'A101QHOAXJ5R4D': 497,\n 'A101QS0LMYXT0V': 498,\n 'A101QWW7PVEL5I': 499,\n 'A101R8VTVP8ZL9': 500,\n 'A101S1TFEQ557': 501,\n 'A101S1Z26DD300': 502,\n 'A101S7WF0AFUR3': 503,\n 'A101SX4120QPJ': 504,\n 'A101TWH46XJTK5': 505,\n 'A101TXL4Y864V0': 506,\n 'A101UMMRGQJJ7X': 507,\n 'A101V6QG2D667': 508,\n 'A101VM4IWQZWV': 509,\n 'A101VMANS0MMNV': 510,\n 'A101VR21DXSWB6': 511,\n 'A101VSPH78P5VH': 512,\n 'A101W0CWYQCTIJ': 513,\n 'A101W59H2NCJ8F': 514,\n 'A101WODPHK7IZI': 515,\n 'A101X8PQ3F2NMA': 516,\n 'A101YAN14U82KG': 517,\n 'A101YASOZQA7BJ': 518,\n 'A101YG6FT2UWGH': 519,\n 'A101YRBE4QNJ1C': 520,\n 'A101ZU0K6A0I22': 521,\n 'A101ZW34GYEKV4': 522,\n 'A10212DG4WXSRO': 523,\n 'A1022693M5G0S3BAX1SW': 524,\n 'A1022GGY91NTXH': 525,\n 'A1022R52JDJVMA': 526,\n 'A1022UZT96SGY9': 527,\n 'A102367316CGZIX5IXG1N': 528,\n 'A10246813P3P7X1XVJ6TJ': 529,\n 'A1025FNQ3CIR2E': 530,\n 'A1025I0CBERRYL': 531,\n 'A10262053B5F30IS8PS9N': 532,\n 'A1026A2FUVQLBI': 533,\n 'A1026UYNLRN0IT': 534,\n 'A1027CVQAWFCMY': 535,\n 'A1027NZR7O9IZ2': 536,\n 'A10282912TAF3WXAPRJY4': 537,\n 'A1028IG71L1S08': 538,\n 'A10299UXJFKOM5': 539,\n 'A1029ESOR657OQ': 540,\n 'A1029HHT0XZKKB': 541,\n 'A102A31XWEI5P1': 542,\n 'A102BEJ99SBWYT': 543,\n 'A102CMA4OONDOD': 544,\n 'A102DJ94IGMEOT': 545,\n 'A102DQY1C3HJKN': 546,\n 'A102E74E3LKE0Z': 547,\n 'A102EXIR8MWSNW': 548,\n 'A102F7EHNVW30Q': 549,\n 'A102FOKZ1VNY8I': 550,\n 'A102H9QPH46HT3': 551,\n 'A102IDUF4ZSYU0': 552,\n 'A102IPC1J7PKPJ': 553,\n 'A102K396ZVQUVW': 554,\n 'A102L9XAV4MGC7': 555,\n 'A102LDKT42LCCD': 556,\n 'A102LF3V9D41ZV': 557,\n 'A102LKKQ4PBL5G': 558,\n 'A102LNYBQ0U9QV': 559,\n 'A102LR8KJE6UZZ': 560,\n 'A102M5YT84IEW7': 561,\n 'A102MK78XH84JN': 562,\n 'A102MQDQK2UP4D': 563,\n 'A102MSXBRMV2CV': 564,\n 'A102MU2PNK70J': 565,\n 'A102MU6ZC9H1N6': 566,\n 'A102NCWLMHDPG3': 567,\n 'A102NKLXRT5KEM': 568,\n 'A102NMTIRGGPYO': 569,\n 'A102O382457B2E': 570,\n 'A102O3XCF4PJAY': 571,\n 'A102OOT12PLJ4N': 572,\n 'A102PC4WQJVR96': 573,\n 'A102QGQGT2W4VK': 574,\n 'A102QLCPAKCRLJ': 575,\n 'A102SDBNUQ6W72': 576,\n 'A102U8331KK8EQ': 577,\n 'A102X305E5VUNO': 578,\n 'A102X8AK6D7KIP': 579,\n 'A102X8CNVNLINY': 580,\n 'A102XDGS8UAPD9': 581,\n 'A102XSIAHXDUIU': 582,\n 'A102XSQH2IW56B': 583,\n 'A102YPKU95XP8H': 584,\n 'A102YR6KY326EL': 585,\n 'A102ZNYAM9849T': 586,\n 'A10309091W2YL6KDN57L': 587,\n 'A1030ERS9YBZGO': 588,\n 'A103199LUPCVAF': 589,\n 'A1031R8HD3E4GL': 590,\n 'A1032FGBBIHKK7': 591,\n 'A1032OW52M17PI': 592,\n 'A10347831VU4T51SAQYY7': 593,\n 'A1034RC23LKOR1': 594,\n 'A10352YHIF42WA': 595,\n 'A1035L9GXRCVPF': 596,\n 'A1035T8EUHMJ0J': 597,\n 'A103636828B6F6YOU8Q7D': 598,\n 'A1036BADKDKUDM': 599,\n 'A1037XYZYW5UGM': 600,\n 'A103979529MRJY0U56QI4': 601,\n 'A1039IDBKKACJ8': 602,\n 'A1039ITZN5UUSO': 603,\n 'A103A7DAB2CPTN': 604,\n 'A103AK3IBDQY1H': 605,\n 'A103AQM2D30NQ': 606,\n 'A103BZ2GJD2114': 607,\n 'A103C1AVBZ592J': 608,\n 'A103C9XP3PXMQC': 609,\n 'A103D07PVCE9RC': 610,\n 'A103D1J827ZHI2': 611,\n 'A103DSGWA3BCYZ': 612,\n 'A103ESFXL63GO7': 613,\n 'A103ESKPAPIZZX': 614,\n 'A103F2VNND9IFZ': 615,\n 'A103FJLCYC7X8S': 616,\n 'A103FPM7ABVMAW': 617,\n 'A103FRVNTHZUR7': 618,\n 'A103FSOEF5ELTU': 619,\n 'A103GO0WQTUCVB': 620,\n 'A103HHPA12NSM8': 621,\n 'A103HIAZF1KWI3': 622,\n 'A103HJ42JGVT9N': 623,\n 'A103HQ12X7S6QZ': 624,\n 'A103HU7CY2MGCT': 625,\n 'A103IFX7QOF31W': 626,\n 'A103ILUZONAP98': 627,\n 'A103IPKD149SDX': 628,\n 'A103J6PJP8KDDM': 629,\n 'A103K3VHFI6B5N': 630,\n 'A103K8J790HHT4': 631,\n 'A103KKO3WNW60S': 632,\n 'A103KNDW8GN92L': 633,\n 'A103M0UVZQBMVF': 634,\n 'A103MTBB6KNZEB': 635,\n 'A103N8CP4OMQ08': 636,\n 'A103NS6EXIQD1O': 637,\n 'A103NTY2D6DK0Y': 638,\n 'A103O8Z1A2CBOK': 639,\n 'A103OKC2ATXDTD': 640,\n 'A103OQ3QRX5JP7': 641,\n 'A103PM0IVL7U72': 642,\n 'A103QK4F5V0VNN': 643,\n 'A103QWBT5IV9PP': 644,\n 'A103RKY5TI1890': 645,\n 'A103SX99J2O22P': 646,\n 'A103T4L14A5O42': 647,\n 'A103T54BDOKS5L': 648,\n 'A103TW8KWPKZT2': 649,\n 'A103V4ZA0OLWA4': 650,\n 'A103WAYBNNRYBU': 651,\n 'A103WYBAWMAA59': 652,\n 'A103XAWI7KNEJ4': 653,\n 'A103YFXEZIMI9': 654,\n 'A103Z3UXM0W2Q4': 655,\n 'A103ZG6ASSR7UT': 656,\n 'A103ZP3C9AQJVW': 657,\n 'A1040ZZ4UKL71B': 658,\n 'A1041053SID37WN8GTT8': 659,\n 'A10413V4LNFNOP': 660,\n 'A1041TEHGZHEBT': 661,\n 'A104308937RNMYKUB33K6': 662,\n 'A10433552JTYJDWFXLOSQ': 663,\n 'A1043HRK5LQH2X': 664,\n 'A1043TRZ652RNF': 665,\n 'A1044552RZX7FQ': 666,\n 'A104568D8610BB': 667,\n 'A1045QB1JNQ8W0': 668,\n 'A10471FSILZ25C': 669,\n 'A10472NTV1723S': 670,\n 'A1047HEENF4C0C': 671,\n 'A1047NOJFS75Z0': 672,\n 'A1047NZ5ZYPJQV': 673,\n 'A1047V7QSM3X8W': 674,\n 'A1048B2CXZ5WVX': 675,\n 'A1049B0RS95K7B': 676,\n 'A104BR9X1GDN41': 677,\n 'A104CMC7G6OBYF': 678,\n 'A104COLP1Q64PT': 679,\n 'A104COOLU3W30V': 680,\n 'A104CPGM0N64I6': 681,\n 'A104D3DISNETJX': 682,\n 'A104DFZY1NUE1D': 683,\n 'A104DKV0EIIMQ1': 684,\n 'A104ERMD14L675': 685,\n 'A104F020W3LCWP': 686,\n 'A104FEDJNPUIPS': 687,\n 'A104FNMC1ICOW9': 688,\n 'A104FPCARJYVPP': 689,\n 'A104FWJM2BJKS1': 690,\n 'A104GB50AALRTW': 691,\n 'A104GK7OUPJPAQ': 692,\n 'A104GLKB0BC0X4': 693,\n 'A104GS6OGWE0AX': 694,\n 'A104HFD9NCZUMJ': 695,\n 'A104IC5V4VCAAB': 696,\n 'A104IE9P4YZBAF': 697,\n 'A104ILW4D33Z60': 698,\n 'A104JASKVIPY9Q': 699,\n 'A104JQV6FH2WQE': 700,\n 'A104L7JBK5AIAF': 701,\n 'A104L7XOMLVBI3': 702,\n 'A104M4QGBHP8DI': 703,\n 'A104MZG2F330I7': 704,\n 'A104NG0VJ30VKY': 705,\n 'A104NUT5P0FWS': 706,\n 'A104OINZQOX31V': 707,\n 'A104OKDIVTM5YZ': 708,\n 'A104OKT9VCVMJ2': 709,\n 'A104P6EPCH2P6P': 710,\n 'A104Q8QU91EIYH': 711,\n 'A104QPYFSZGZVR': 712,\n 'A104R2YIOUZ6WP': 713,\n 'A104RG4S8E6NCQ': 714,\n 'A104SG9QZ92UAH': 715,\n 'A104SQWM01BQHP': 716,\n 'A104STXVC74S6D': 717,\n 'A104U7VVSOAPSG': 718,\n 'A104VALKZUUS5E': 719,\n 'A104VHIMHTA3V9': 720,\n 'A104VHQ06KFLDT': 721,\n 'A104VQ911MAVH0': 722,\n 'A104WR7WLRF7VZ': 723,\n 'A104WWMX6H4TOK': 724,\n 'A104X189RAE7OX': 725,\n 'A104X9O9S9HB7K': 726,\n 'A104XDJGNKWCWI': 727,\n 'A104YQ40YXEXAW': 728,\n 'A104ZWV5PBJ7FJ': 729,\n 'A104ZYDRF17XWV': 730,\n 'A10505TPARG26P': 731,\n 'A1050EZMMGGZF4': 732,\n 'A1050LUQKPNM0C': 733,\n 'A1051DZKMQ5DY6': 734,\n 'A1052RZLD6C59V': 735,\n 'A1053FTN33BOLV': 736,\n 'A1054K1QBUD0FD': 737,\n 'A10562CQXZ5ORC': 738,\n 'A1057LZKDX63Y2': 739,\n 'A1057PTJ38ZCW1': 740,\n 'A1057XNJ111NE': 741,\n 'A10584T58O3B5Y': 742,\n 'A105872J20A4GZ': 743,\n 'A1058IW0NGKIAP': 744,\n 'A1058LG6ALALQM': 745,\n 'A10596UHL0NJB3': 746,\n 'A1059B8IKETQRM': 747,\n 'A1059SXDMUSBID': 748,\n 'A105AEZM1UCAT5': 749,\n 'A105AFFMJUGPPF': 750,\n 'A105ATGVO26YDX': 751,\n 'A105B7QW50Z1YN': 752,\n 'A105CCUHQHHFPT': 753,\n 'A105CD173605H': 754,\n 'A105ENMJVA1IDF': 755,\n 'A105FQRZOF90TS': 756,\n 'A105GA2IK09GYF': 757,\n 'A105H90X1MODYW': 758,\n 'A105I5QZ9YIZDW': 759,\n 'A105IG3831RU1T': 760,\n 'A105II2H7XGRTY': 761,\n 'A105J14SAH39P5': 762,\n 'A105J4AR8FSY8D': 763,\n 'A105J8NV0EXHV6': 764,\n 'A105JLNR2RT5NY': 765,\n 'A105KVPD7XHGZ8': 766,\n 'A105LM9H8HK6ZK': 767,\n 'A105MU0E88X9R8': 768,\n 'A105MZZUGEA6M6': 769,\n 'A105N49DIVVTVS': 770,\n 'A105NURWX0URUU': 771,\n 'A105NYBCG0956N': 772,\n 'A105OCSP35YJG9': 773,\n 'A105PA6B39V8JL': 774,\n 'A105QINWYQUR27': 775,\n 'A105QSK7K46UPP': 776,\n 'A105RFJQ9NLFS6': 777,\n 'A105RNR6XXJCYS': 778,\n 'A105S06NRS9205': 779,\n 'A105S56ODHGJEK': 780,\n 'A105SIY2R624MG': 781,\n 'A105T1O83DO85C': 782,\n 'A105T4HRFRL343': 783,\n 'A105TB31RBNZNL': 784,\n 'A105TYUW1LE8GB': 785,\n 'A105UEC4OWVF9': 786,\n 'A105UGDRLYUKTR': 787,\n 'A105VAL1IO2EJA': 788,\n 'A105WAKG51N0P': 789,\n 'A105XF6EXT9WSM': 790,\n 'A105XH2NXIQEIM': 791,\n 'A105XON067FLNL': 792,\n 'A105Y4QWONINWI': 793,\n 'A105YHQ31WEONB': 794,\n 'A105ZFBIAN11CW': 795,\n 'A1060Q2A9MM6WX': 796,\n 'A1060TU3IGU2UJ': 797,\n 'A10613AZVJSR1F': 798,\n 'A1061F4W6KO9J': 799,\n 'A1062KI3NS0E17': 800,\n 'A1062MMI1NZDS4': 801,\n 'A106371J26C9XZ': 802,\n 'A10639WG76TLS4': 803,\n 'A1063IF943QEXO': 804,\n 'A1063QKK60JVNY': 805,\n 'A1063RG4DO7UKB': 806,\n 'A106490NNJN950': 807,\n 'A10655J4U1VYCD': 808,\n 'A10664DKXC5O2E': 809,\n 'A1066Q2YA60QSN': 810,\n 'A10672VB617TB5': 811,\n 'A1067JSWVC9Q49': 812,\n 'A1068HDLR5V3H8': 813,\n 'A1069883CQJUM': 814,\n 'A1069Q5XE7AMEP': 815,\n 'A1069VTVOKB5D3': 816,\n 'A106AGKJWLEOVP': 817,\n 'A106AHIAOG5OTX': 818,\n 'A106BESWHSVSO9': 819,\n 'A106C0BDYQ3G9R': 820,\n 'A106CL1RCHIK4M': 821,\n 'A106CRD2OC9A5E': 822,\n 'A106DIHYYQT9ZL': 823,\n 'A106DQNHWO54L4': 824,\n 'A106EVM8SM16CB': 825,\n 'A106F4NW8I6PFV': 826,\n 'A106FRRWYC0UXB': 827,\n 'A106G4V5JDCI51': 828,\n 'A106G9E3RHNVY5': 829,\n 'A106GQ2LWVAHDK': 830,\n 'A106H0S6S0FF9Y': 831,\n 'A106HFD8R1314X': 832,\n 'A106HZIL4PK1BI': 833,\n 'A106I4L6VCH4ZA': 834,\n 'A106IHT1AVNCYA': 835,\n 'A106JUJ9BZRJF4': 836,\n 'A106JZ9Q6PT9KW': 837,\n 'A106KSV1I8CO0C': 838,\n 'A106LIOVB7ISDX': 839,\n 'A106MNO7PYG1WL': 840,\n 'A106O09BNZ3U9J': 841,\n 'A106Q875S4JSFM': 842,\n 'A106QZOFF74RWF': 843,\n 'A106QZZV2E3HZT': 844,\n 'A106T3MOL2AR8C': 845,\n 'A106T6T9MPRCXP': 846,\n 'A106U7T82FCZOB': 847,\n 'A106U9OGZDU5BL': 848,\n 'A106VDX5T424XQ': 849,\n 'A106X8LY6YDHWB': 850,\n 'A106YYP4C5UMCZ': 851,\n 'A106Z12KBISN1Q': 852,\n 'A106ZBMLEMX4F5': 853,\n 'A106ZCP7RSXMRU': 854,\n 'A10705GKJY3YW6': 855,\n 'A1070HI5UPCYEG': 856,\n 'A1072AX9UC9NV9': 857,\n 'A1072PMSQGYP7C': 858,\n 'A1072Q1O6YB3NY': 859,\n 'A1073CB21UBQS5': 860,\n 'A1073D7KGG68K2': 861,\n 'A1073V4LAYVJ76': 862,\n 'A1075KAEDV40HV': 863,\n 'A1075MZNVRMSEO': 864,\n 'A1075NTSI7NRLJ': 865,\n 'A1076FNA1AJR34': 866,\n 'A1077UFXT5RG0X': 867,\n 'A107800YKKRSPC': 868,\n 'A107876TPNDZ4R': 869,\n 'A1078L9AXZRGT7': 870,\n 'A1078R7MN9T5G': 871,\n 'A1078WPVT5XZ1': 872,\n 'A10794K5QL58P8': 873,\n 'A10797DSC7KI4Q': 874,\n 'A1079L3M2RZZPQ': 875,\n 'A1079YEXLVPBVT': 876,\n 'A107A5Y4NUS3RV': 877,\n 'A107A9UMYISEIE': 878,\n 'A107AFI516Q8GU': 879,\n 'A107ANX6TV4JK7': 880,\n 'A107ASYG6HHAM1': 881,\n 'A107B9956J83E2': 882,\n 'A107B9W9XZYKUN': 883,\n 'A107C6XHEWELEO': 884,\n 'A107CCT14VECQR': 885,\n 'A107CG69SCI2U1': 886,\n 'A107CTGSINY3GJ': 887,\n 'A107DX3NEA44O2': 888,\n 'A107F33J9YNI42': 889,\n 'A107G4JL41VXN4': 890,\n 'A107H59ALJDQES': 891,\n 'A107HV5XHZH7LF': 892,\n 'A107IZIWIDCF4U': 893,\n 'A107J296F3K9PU': 894,\n 'A107JAMBOKM7HX': 895,\n 'A107K0RXGGH5X': 896,\n 'A107K10JTO8NSH': 897,\n 'A107KAG385VY9E': 898,\n 'A107LO7H1TYNM6': 899,\n 'A107M7P2W6KK5E': 900,\n 'A107MBAHQG4JUN': 901,\n 'A107MZDLLUULAS': 902,\n 'A107NSAPYMPZJY': 903,\n 'A107OUIPAJEN68': 904,\n 'A107P2XE53KM83': 905,\n 'A107PA58OVENYL': 906,\n 'A107PT5KETBET7': 907,\n 'A107Q0HWIRIL2S': 908,\n 'A107Q3N85F1130': 909,\n 'A107Q4OMXSWSYO': 910,\n 'A107QB1OZQZR45': 911,\n 'A107QP1HEZHGMO': 912,\n 'A107QXXGH39W0Y': 913,\n 'A107S01AEQUEFP': 914,\n 'A107T12FW39R9A': 915,\n 'A107TD8TLFKAE8': 916,\n 'A107TFQD0E8OZ8': 917,\n 'A107TW8HAZBA7T': 918,\n 'A107W0RHUQV8XZ': 919,\n 'A107WA5392SNB5': 920,\n 'A107WHYGGXX3K1': 921,\n 'A107WMX9C9FCNX': 922,\n 'A107WSJZXEPD3Z': 923,\n 'A107XJGM1W2GYO': 924,\n 'A107XK6EES3FO7': 925,\n 'A107XSTQFGP104': 926,\n 'A1080475OF1UH3': 927,\n 'A1080G5EY0YLXX': 928,\n 'A1080S66TVH9C0': 929,\n 'A1081IKJX2W0FD': 930,\n 'A1081INBYPMBKS': 931,\n 'A1081M4WFWEKFX': 932,\n 'A10821XXZQCJ4I': 933,\n 'A1082B1DKDXR7F': 934,\n 'A1082YEKNQCUJ1': 935,\n 'A1083DS18CMN3': 936,\n 'A1083N8MV3EJ63': 937,\n 'A108421W3GEVO1': 938,\n 'A10843ZCPG2PN8': 939,\n 'A1084V1QHIWV53': 940,\n 'A1085104QD7DYV': 941,\n 'A10852ITR2R10P': 942,\n 'A1085KFZTB0M74': 943,\n 'A10863JFWTM2DY': 944,\n 'A1086881L6LU58': 945,\n 'A1086R0BP5OJH8': 946,\n 'A1086UFOXW96NA': 947,\n 'A108735PV7KDPK': 948,\n 'A1087O3G61J7EV': 949,\n 'A1087UR1OESGN2': 950,\n 'A1087Y8RJ4D422': 951,\n 'A10887KYT95A68': 952,\n 'A1088JGMWLCO6R': 953,\n 'A1088P1C236FZE': 954,\n 'A1088YVXH4U2EU': 955,\n 'A1089Y2X4SU1A3': 956,\n 'A108A1OBU22T7P': 957,\n 'A108A421PC6MH3': 958,\n 'A108AIZD8MTRC9': 959,\n 'A108AVBCDDC5GN': 960,\n 'A108AVZFCZ3UWD': 961,\n 'A108CSMXMF5075': 962,\n 'A108CTTAPABE64': 963,\n 'A108CYGG799KD0': 964,\n 'A108EBWJU5NUYZ': 965,\n 'A108EEYSHGDL6O': 966,\n 'A108EJK2YTYDTI': 967,\n 'A108FKKFOPFX4Y': 968,\n 'A108G65QCVAP2Q': 969,\n 'A108GOZ37A7B75': 970,\n 'A108I7OWZZ0XGU': 971,\n 'A108IGGFNUNBKY': 972,\n 'A108IZVJBPQVD0': 973,\n 'A108KG1APWO9U2': 974,\n 'A108KWH7TUSWEA': 975,\n 'A108LXBJXGQFPH': 976,\n 'A108LZ9D4TXEQ4': 977,\n 'A108MEKIVSMXTY': 978,\n 'A108N19AR941FD': 979,\n 'A108NYWMTVDVXP': 980,\n 'A108OUQL7G2CVH': 981,\n 'A108OV2OODF304': 982,\n 'A108P33MBHGP08': 983,\n 'A108PDQOPP01S2': 984,\n 'A108QGGKWC051K': 985,\n 'A108RP07Y6GDO0': 986,\n 'A108RTL4X020LD': 987,\n 'A108RX4EQV2PKA': 988,\n 'A108SMAMSSOMFL': 989,\n 'A108T3Q2N5KLAA': 990,\n 'A108T91VLW9RH6': 991,\n 'A108TSS06UWF1': 992,\n 'A108U74FDH5F35': 993,\n 'A108UF7GX80MB9': 994,\n 'A108VD7BIX9PIA': 995,\n 'A108VWRTJ1BT2T': 996,\n 'A108W5NGSQKXKI': 997,\n 'A108W6IORNDIUM': 998,\n 'A108X196RJYBXE': 999,\n ...}"
     },
     "execution_count": 103,
     "metadata": {},
     "output_type": "execute_result"
    }
   ],
   "source": [
    "user_mapper = dict(zip(np.unique(df_music_instruments[\"userId\"]), list(range(N))))\n",
    "instruments_mapper = dict(zip(np.unique(df_music_instruments[\"productId\"]), list(range(M))))\n",
    "user_mapper"
   ],
   "metadata": {
    "collapsed": false
   }
  },
  {
   "cell_type": "code",
   "execution_count": 104,
   "outputs": [
    {
     "data": {
      "text/plain": "{'0006428320': 0,\n '0014072149': 1,\n '0041291905': 2,\n '0041913574': 3,\n '0201891859': 4,\n '0577088726': 5,\n '0634029231': 6,\n '0634029347': 7,\n '0634029355': 8,\n '0634029363': 9,\n '0634050028': 10,\n '0634055429': 11,\n '0634055534': 12,\n '0634061801': 13,\n '0634065459': 14,\n '0739003755': 15,\n '0739037986': 16,\n '0739040251': 17,\n '0739040308': 18,\n '0739040375': 19,\n '0739042726': 20,\n '0739045032': 21,\n '0739045067': 22,\n '0739046500': 23,\n '0739048287': 24,\n '073904852X': 25,\n '0739051210': 26,\n '0739055224': 27,\n '0739056247': 28,\n '0739057561': 29,\n '0739059068': 30,\n '0739059114': 31,\n '0739060287': 32,\n '0739064525': 33,\n '0739069713': 34,\n '0739075934': 35,\n '0739076744': 36,\n '0739079883': 37,\n '0756028566': 38,\n '0757931847': 39,\n '0757990894': 40,\n '0767851013': 41,\n '0786615303': 42,\n '0849428866': 43,\n '0849706807': 44,\n '0849707692': 45,\n '0849734339': 46,\n '0849756677': 47,\n '0849757487': 48,\n '0881881037': 49,\n '0930948246': 50,\n '0975681753': 51,\n '0976054809': 52,\n '0976605805': 53,\n '0976615355': 54,\n '0977875652': 55,\n '1384719342': 56,\n '1417030321': 57,\n '1423403363': 58,\n '1423465180': 59,\n '1423480686': 60,\n '1423494148': 61,\n '1423499158': 62,\n '1557832846': 63,\n '1562241885': 64,\n '156224213X': 65,\n '1562242563': 66,\n '1570587094': 67,\n '1571666311': 68,\n '157166632X': 69,\n '157560860X': 70,\n '1617310239': 71,\n '1886997217': 72,\n '1888743093': 73,\n '1891747215': 74,\n '1892597551': 75,\n '189388404X': 76,\n '1925542475': 77,\n '1932537260': 78,\n '1932703195': 79,\n '1933098465': 80,\n '3542861359': 81,\n '3795776090': 82,\n '3905477351': 83,\n '5714000064': 84,\n '6025006350': 85,\n '6025006369': 86,\n '6025006377': 87,\n '6025006385': 88,\n '6025006393': 89,\n '6025006407': 90,\n '630251228X': 91,\n '6302531810': 92,\n '6302598834': 93,\n '6303111904': 94,\n '6305082286': 95,\n '6305082340': 96,\n '6305275432': 97,\n '630527553X': 98,\n '6305275696': 99,\n '6305276595': 100,\n '6305276641': 101,\n '6305276692': 102,\n '6305838534': 103,\n '7108022419': 104,\n '7109111938': 105,\n '7109113205': 106,\n '7505722085': 107,\n '7806558780': 108,\n '8805002917': 109,\n '9792372326': 110,\n '9868238854': 111,\n 'B0000000P3': 112,\n 'B0000000PB': 113,\n 'B000000135': 114,\n 'B0000001IQ': 115,\n 'B0000001JY': 116,\n 'B0000001L6': 117,\n 'B000000233': 118,\n 'B0000002DY': 119,\n 'B0000002L1': 120,\n 'B0000002RE': 121,\n 'B000000407': 122,\n 'B0000004X5': 123,\n 'B0000005GI': 124,\n 'B0000005HD': 125,\n 'B0000005HW': 126,\n 'B0000005I2': 127,\n 'B0000006DZ': 128,\n 'B00000079L': 129,\n 'B0000007F7': 130,\n 'B0000007W5': 131,\n 'B0000007XT': 132,\n 'B000000836': 133,\n 'B00000083H': 134,\n 'B00000085F': 135,\n 'B00000086U': 136,\n 'B00000086V': 137,\n 'B0000008BR': 138,\n 'B0000008D7': 139,\n 'B0000008DH': 140,\n 'B0000008FF': 141,\n 'B0000008GO': 142,\n 'B0000008J8': 143,\n 'B0000008KR': 144,\n 'B0000008KV': 145,\n 'B0000008LR': 146,\n 'B0000008P7': 147,\n 'B0000008QI': 148,\n 'B0000008UV': 149,\n 'B0000008VF': 150,\n 'B0000008VJ': 151,\n 'B0000008X2': 152,\n 'B000000906': 153,\n 'B000000919': 154,\n 'B000000931': 155,\n 'B000000956': 156,\n 'B0000009HH': 157,\n 'B0000009K4': 158,\n 'B000000A4C': 159,\n 'B000000A4H': 160,\n 'B000000A4N': 161,\n 'B000000A50': 162,\n 'B000000A61': 163,\n 'B000000A6C': 164,\n 'B000000A87': 165,\n 'B000000A8E': 166,\n 'B000000A9H': 167,\n 'B000000A9I': 168,\n 'B000000A9W': 169,\n 'B000000AD1': 170,\n 'B000000AEX': 171,\n 'B000000AFL': 172,\n 'B000000AGC': 173,\n 'B000000AH8': 174,\n 'B000000AHH': 175,\n 'B000000AIZ': 176,\n 'B000000AKC': 177,\n 'B000000AKH': 178,\n 'B000000AMF': 179,\n 'B000000AMS': 180,\n 'B000000APG': 181,\n 'B000000ARE': 182,\n 'B000000ATC': 183,\n 'B000000AUU': 184,\n 'B000000AYI': 185,\n 'B000000AYL': 186,\n 'B000000AZ1': 187,\n 'B000000AZ2': 188,\n 'B000000AZ5': 189,\n 'B000000AZA': 190,\n 'B000000B0W': 191,\n 'B000000B0X': 192,\n 'B000000B24': 193,\n 'B000000B28': 194,\n 'B000000B2Y': 195,\n 'B000000BCI': 196,\n 'B000000BDY': 197,\n 'B000000BEA': 198,\n 'B000000C3P': 199,\n 'B000000C7B': 200,\n 'B000000CGM': 201,\n 'B000000CV0': 202,\n 'B000000CZW': 203,\n 'B000000D34': 204,\n 'B000000D7A': 205,\n 'B000000D7U': 206,\n 'B000000DJU': 207,\n 'B000000DPB': 208,\n 'B000000DUF': 209,\n 'B000000DV7': 210,\n 'B000000DZQ': 211,\n 'B000000E0E': 212,\n 'B000000EH9': 213,\n 'B000000EI6': 214,\n 'B000000EIJ': 215,\n 'B000000EJM': 216,\n 'B000000ETZ': 217,\n 'B000000EU4': 218,\n 'B000000F0C': 219,\n 'B000000F0R': 220,\n 'B000000F6B': 221,\n 'B000000F8V': 222,\n 'B000000FAG': 223,\n 'B000000FED': 224,\n 'B000000FFJ': 225,\n 'B000000FWE': 226,\n 'B000000G64': 227,\n 'B000000G8P': 228,\n 'B000000GY9': 229,\n 'B000000I5M': 230,\n 'B000000I5U': 231,\n 'B000000I77': 232,\n 'B000000J2B': 233,\n 'B000000J2F': 234,\n 'B000000J2J': 235,\n 'B000000J2K': 236,\n 'B000000J2L': 237,\n 'B000000J31': 238,\n 'B000000J32': 239,\n 'B000000J3G': 240,\n 'B000000J3L': 241,\n 'B000000J42': 242,\n 'B000000J45': 243,\n 'B000000J4G': 244,\n 'B000000J4H': 245,\n 'B000000J4I': 246,\n 'B000000J4J': 247,\n 'B000000J4K': 248,\n 'B000000J4U': 249,\n 'B000000J4W': 250,\n 'B000000J51': 251,\n 'B000000J58': 252,\n 'B000000J5J': 253,\n 'B000000J5U': 254,\n 'B000000J6Y': 255,\n 'B000000J70': 256,\n 'B000000J80': 257,\n 'B000000J83': 258,\n 'B000000J8B': 259,\n 'B000000J8F': 260,\n 'B000000J8R': 261,\n 'B000000J8S': 262,\n 'B000000J91': 263,\n 'B000000J9T': 264,\n 'B000000JAW': 265,\n 'B000000JAX': 266,\n 'B000000JAY': 267,\n 'B000000JB3': 268,\n 'B000000JBD': 269,\n 'B000000JBS': 270,\n 'B000000JCJ': 271,\n 'B000000JD0': 272,\n 'B000000JD1': 273,\n 'B000000JD2': 274,\n 'B000000JD6': 275,\n 'B000000JDG': 276,\n 'B000000JDT': 277,\n 'B000000JDU': 278,\n 'B000000JDZ': 279,\n 'B000000JEH': 280,\n 'B000000JEO': 281,\n 'B000000JEW': 282,\n 'B000000JEY': 283,\n 'B000000JF4': 284,\n 'B000000JFF': 285,\n 'B000000JG0': 286,\n 'B000000JG3': 287,\n 'B000000JG5': 288,\n 'B000000JGU': 289,\n 'B000000JHK': 290,\n 'B000000JHO': 291,\n 'B000000JHU': 292,\n 'B000000JI2': 293,\n 'B000000JI7': 294,\n 'B000000JIT': 295,\n 'B000000JM7': 296,\n 'B000000JM8': 297,\n 'B000000JPE': 298,\n 'B000000M7Z': 299,\n 'B000000MH9': 300,\n 'B000000MOE': 301,\n 'B000000NDP': 302,\n 'B000000NXZ': 303,\n 'B000000NYI': 304,\n 'B000000O2B': 305,\n 'B000000P29': 306,\n 'B000000PEP': 307,\n 'B000000QEM': 308,\n 'B000000QF9': 309,\n 'B000000QVD': 310,\n 'B000000R3I': 311,\n 'B000000RE3': 312,\n 'B000000RGX': 313,\n 'B000000RT9': 314,\n 'B000000S06': 315,\n 'B000000S1M': 316,\n 'B000000S4K': 317,\n 'B000000SBF': 318,\n 'B000000T9O': 319,\n 'B000000TOL': 320,\n 'B000000VEL': 321,\n 'B000000WC3': 322,\n 'B000000WLT': 323,\n 'B000000WMI': 324,\n 'B000000WQ8': 325,\n 'B000000WR7': 326,\n 'B000000WRB': 327,\n 'B000000WSM': 328,\n 'B000000WVY': 329,\n 'B000000WWH': 330,\n 'B000000WY9': 331,\n 'B000000XEZ': 332,\n 'B000000YXC': 333,\n 'B000000Z0B': 334,\n 'B000000Z3I': 335,\n 'B000000Z7Z': 336,\n 'B000000Z95': 337,\n 'B000000ZND': 338,\n 'B000000ZON': 339,\n 'B000000ZPL': 340,\n 'B000000ZQN': 341,\n 'B000000ZR1': 342,\n 'B00000107D': 343,\n 'B0000010K0': 344,\n 'B0000010W8': 345,\n 'B0000011JY': 346,\n 'B0000011LB': 347,\n 'B0000011X9': 348,\n 'B0000012EE': 349,\n 'B0000012EJ': 350,\n 'B0000012PR': 351,\n 'B0000012UW': 352,\n 'B0000012VH': 353,\n 'B0000012VI': 354,\n 'B0000012VJ': 355,\n 'B0000012VN': 356,\n 'B0000012VR': 357,\n 'B0000012W0': 358,\n 'B0000012WJ': 359,\n 'B0000012WK': 360,\n 'B0000012WN': 361,\n 'B000001399': 362,\n 'B0000013EE': 363,\n 'B0000013EK': 364,\n 'B0000013IS': 365,\n 'B0000013JG': 366,\n 'B0000013L4': 367,\n 'B0000013M1': 368,\n 'B0000013O7': 369,\n 'B0000013OB': 370,\n 'B0000013OL': 371,\n 'B0000013P6': 372,\n 'B0000013PE': 373,\n 'B0000013Q4': 374,\n 'B0000013QD': 375,\n 'B0000013QG': 376,\n 'B0000013R3': 377,\n 'B0000013R7': 378,\n 'B0000013RN': 379,\n 'B0000013SC': 380,\n 'B0000013SE': 381,\n 'B0000013SG': 382,\n 'B0000013SH': 383,\n 'B0000013T5': 384,\n 'B0000013TM': 385,\n 'B0000013TQ': 386,\n 'B0000013UC': 387,\n 'B0000013V8': 388,\n 'B0000013V9': 389,\n 'B0000013VD': 390,\n 'B0000013WA': 391,\n 'B0000013WE': 392,\n 'B0000013WF': 393,\n 'B0000013WG': 394,\n 'B0000013XD': 395,\n 'B0000013XJ': 396,\n 'B0000013Y3': 397,\n 'B0000013Z1': 398,\n 'B00000141I': 399,\n 'B00000143B': 400,\n 'B00000143C': 401,\n 'B00000143M': 402,\n 'B000001442': 403,\n 'B000001443': 404,\n 'B00000145R': 405,\n 'B000001463': 406,\n 'B00000146A': 407,\n 'B00000147S': 408,\n 'B00000148F': 409,\n 'B000001492': 410,\n 'B00000149G': 411,\n 'B0000014A6': 412,\n 'B0000014AE': 413,\n 'B0000014AS': 414,\n 'B0000014AU': 415,\n 'B0000014AZ': 416,\n 'B0000014B2': 417,\n 'B0000014CD': 418,\n 'B0000014CJ': 419,\n 'B0000014CZ': 420,\n 'B0000014D2': 421,\n 'B0000014DA': 422,\n 'B0000014DF': 423,\n 'B0000014DU': 424,\n 'B0000014DX': 425,\n 'B0000014DY': 426,\n 'B0000014E4': 427,\n 'B0000014EA': 428,\n 'B0000014EL': 429,\n 'B0000014ES': 430,\n 'B0000014EX': 431,\n 'B0000014F9': 432,\n 'B0000014FB': 433,\n 'B0000014FH': 434,\n 'B0000014FR': 435,\n 'B0000014G1': 436,\n 'B0000014G4': 437,\n 'B0000014GA': 438,\n 'B0000014GE': 439,\n 'B0000014GG': 440,\n 'B0000014GS': 441,\n 'B0000014GT': 442,\n 'B0000014H1': 443,\n 'B0000014HF': 444,\n 'B0000014KR': 445,\n 'B0000014L5': 446,\n 'B0000014NI': 447,\n 'B0000014OR': 448,\n 'B0000015BV': 449,\n 'B0000015D2': 450,\n 'B00000160T': 451,\n 'B000001631': 452,\n 'B00000163X': 453,\n 'B00000165Z': 454,\n 'B00000166J': 455,\n 'B00000167D': 456,\n 'B000001689': 457,\n 'B00000168A': 458,\n 'B00000168L': 459,\n 'B00000169P': 460,\n 'B0000016BR': 461,\n 'B0000016BZ': 462,\n 'B0000016CM': 463,\n 'B0000016CX': 464,\n 'B0000016EI': 465,\n 'B0000016EY': 466,\n 'B0000016EZ': 467,\n 'B0000016FH': 468,\n 'B0000016FS': 469,\n 'B0000016GC': 470,\n 'B0000016GO': 471,\n 'B0000016GP': 472,\n 'B0000016H5': 473,\n 'B0000016I2': 474,\n 'B0000016IF': 475,\n 'B0000016IJ': 476,\n 'B0000016JD': 477,\n 'B0000016JF': 478,\n 'B0000016K8': 479,\n 'B0000016KA': 480,\n 'B0000016KH': 481,\n 'B0000016KK': 482,\n 'B0000016KO': 483,\n 'B0000016L6': 484,\n 'B0000016LO': 485,\n 'B0000016M2': 486,\n 'B0000016MF': 487,\n 'B0000016MI': 488,\n 'B0000016MS': 489,\n 'B0000016NG': 490,\n 'B0000016NK': 491,\n 'B0000016NT': 492,\n 'B0000016OP': 493,\n 'B0000016PM': 494,\n 'B0000016PT': 495,\n 'B00000174T': 496,\n 'B000001757': 497,\n 'B00000178B': 498,\n 'B00000178L': 499,\n 'B0000017AK': 500,\n 'B0000017AV': 501,\n 'B0000017WZ': 502,\n 'B0000017X1': 503,\n 'B00000181W': 504,\n 'B000001886': 505,\n 'B0000018IC': 506,\n 'B0000018II': 507,\n 'B0000018TZ': 508,\n 'B00000190Z': 509,\n 'B0000019BS': 510,\n 'B0000019NP': 511,\n 'B0000019RX': 512,\n 'B000001A22': 513,\n 'B000001A5T': 514,\n 'B000001ATH': 515,\n 'B000001B19': 516,\n 'B000001BHQ': 517,\n 'B000001BKM': 518,\n 'B000001C0E': 519,\n 'B000001C3S': 520,\n 'B000001C6Y': 521,\n 'B000001CCY': 522,\n 'B000001CYR': 523,\n 'B000001D84': 524,\n 'B000001DDT': 525,\n 'B000001DE0': 526,\n 'B000001DET': 527,\n 'B000001DF4': 528,\n 'B000001DIN': 529,\n 'B000001G67': 530,\n 'B000001G6F': 531,\n 'B000001G87': 532,\n 'B000001G9R': 533,\n 'B000001GB5': 534,\n 'B000001GEX': 535,\n 'B000001GF3': 536,\n 'B000001GGB': 537,\n 'B000001GGS': 538,\n 'B000001GHH': 539,\n 'B000001GI2': 540,\n 'B000001GIK': 541,\n 'B000001GMX': 542,\n 'B000001GN8': 543,\n 'B000001GRI': 544,\n 'B000001IEW': 545,\n 'B000001IGG': 546,\n 'B000001IY0': 547,\n 'B000001IZ0': 548,\n 'B000001K4I': 549,\n 'B000001K5M': 550,\n 'B000001K5R': 551,\n 'B000001K5S': 552,\n 'B000001K73': 553,\n 'B000001KCG': 554,\n 'B000001KCH': 555,\n 'B000001LZG': 556,\n 'B000001MDC': 557,\n 'B000001O9M': 558,\n 'B000001O9U': 559,\n 'B000001OJ0': 560,\n 'B000001PJH': 561,\n 'B000001Q3J': 562,\n 'B000001Q6U': 563,\n 'B000001Q87': 564,\n 'B000001Q8D': 565,\n 'B000001Q8P': 566,\n 'B000001Q9T': 567,\n 'B000001QA4': 568,\n 'B000001QIU': 569,\n 'B000001QJS': 570,\n 'B000001QXB': 571,\n 'B000001QZJ': 572,\n 'B000001R01': 573,\n 'B000001RPE': 574,\n 'B000001RRK': 575,\n 'B000001RTB': 576,\n 'B000001RUJ': 577,\n 'B000001RV3': 578,\n 'B000001RVG': 579,\n 'B000001RVK': 580,\n 'B000001RVT': 581,\n 'B000001RWV': 582,\n 'B000001RWW': 583,\n 'B000001RXG': 584,\n 'B000001RXQ': 585,\n 'B000001RZC': 586,\n 'B000001S00': 587,\n 'B000001S1N': 588,\n 'B000001S31': 589,\n 'B000001S9I': 590,\n 'B000001SGY': 591,\n 'B000001TB5': 592,\n 'B000001TR7': 593,\n 'B000001U0P': 594,\n 'B000001ULZ': 595,\n 'B000001UM0': 596,\n 'B000001UPQ': 597,\n 'B000001UQK': 598,\n 'B000001USP': 599,\n 'B000001UZS': 600,\n 'B000001V64': 601,\n 'B000001XI2': 602,\n 'B000001XML': 603,\n 'B000001XT0': 604,\n 'B000001XV5': 605,\n 'B000001XWE': 606,\n 'B000001XX9': 607,\n 'B000001XXQ': 608,\n 'B000001XYH': 609,\n 'B000001XZI': 610,\n 'B000001YKY': 611,\n 'B000001Z51': 612,\n 'B000001ZHB': 613,\n 'B000001ZHU': 614,\n 'B000001ZKK': 615,\n 'B000001ZL9': 616,\n 'B000001ZM5': 617,\n 'B000001ZON': 618,\n 'B000001ZP0': 619,\n 'B000001ZRI': 620,\n 'B000001ZYV': 621,\n 'B00000203X': 622,\n 'B0000020BU': 623,\n 'B0000020OF': 624,\n 'B0000020T0': 625,\n 'B0000021G0': 626,\n 'B0000021G2': 627,\n 'B0000021GO': 628,\n 'B0000021GP': 629,\n 'B0000021HU': 630,\n 'B0000021HV': 631,\n 'B0000021I5': 632,\n 'B000002299': 633,\n 'B00000229E': 634,\n 'B00000229M': 635,\n 'B0000022A8': 636,\n 'B0000022BJ': 637,\n 'B0000023HW': 638,\n 'B0000023MN': 639,\n 'B0000023N8': 640,\n 'B0000023NE': 641,\n 'B0000023OO': 642,\n 'B0000023PL': 643,\n 'B0000023Q3': 644,\n 'B0000023Q4': 645,\n 'B0000023Q5': 646,\n 'B0000023R1': 647,\n 'B0000023RF': 648,\n 'B0000023RI': 649,\n 'B0000023S0': 650,\n 'B00000241E': 651,\n 'B00000243D': 652,\n 'B0000024D2': 653,\n 'B0000025PT': 654,\n 'B0000026PV': 655,\n 'B00000275T': 656,\n 'B0000027J6': 657,\n 'B0000028XL': 658,\n 'B00000296V': 659,\n 'B0000029UW': 660,\n 'B000002A4A': 661,\n 'B000002A8J': 662,\n 'B000002A8P': 663,\n 'B000002A93': 664,\n 'B000002A9C': 665,\n 'B000002APP': 666,\n 'B000002AUF': 667,\n 'B000002AVQ': 668,\n 'B000002DHM': 669,\n 'B000002DLJ': 670,\n 'B000002DOM': 671,\n 'B000002DR5': 672,\n 'B000002DUV': 673,\n 'B000002G36': 674,\n 'B000002GBS': 675,\n 'B000002GR2': 676,\n 'B000002GRS': 677,\n 'B000002GRT': 678,\n 'B000002GVG': 679,\n 'B000002HT5': 680,\n 'B000002IK0': 681,\n 'B000002K41': 682,\n 'B000002LB7': 683,\n 'B000002MS7': 684,\n 'B000002NNX': 685,\n 'B000002NP8': 686,\n 'B000002NQW': 687,\n 'B000002NRP': 688,\n 'B000002NTM': 689,\n 'B000002NTO': 690,\n 'B000002NTZ': 691,\n 'B000002NU9': 692,\n 'B000002R2A': 693,\n 'B000002RZ4': 694,\n 'B000002S4P': 695,\n 'B000002SDI': 696,\n 'B000002SMB': 697,\n 'B000002SO0': 698,\n 'B000002T5Q': 699,\n 'B000002XZ6': 700,\n 'B000002ZE7': 701,\n 'B000002ZEV': 702,\n 'B000002ZFR': 703,\n 'B000002ZLE': 704,\n 'B000002ZMY': 705,\n 'B000002ZNH': 706,\n 'B000002ZSM': 707,\n 'B000002ZXE': 708,\n 'B000002ZYN': 709,\n 'B000002ZZ2': 710,\n 'B00000300R': 711,\n 'B000003033': 712,\n 'B00000303S': 713,\n 'B00000304F': 714,\n 'B00000304M': 715,\n 'B000003051': 716,\n 'B00000306Y': 717,\n 'B000003080': 718,\n 'B0000030AY': 719,\n 'B0000030AZ': 720,\n 'B0000030B1': 721,\n 'B0000030B2': 722,\n 'B0000030B3': 723,\n 'B0000030C6': 724,\n 'B0000030FJ': 725,\n 'B0000030GE': 726,\n 'B0000030HL': 727,\n 'B0000030JP': 728,\n 'B0000030JY': 729,\n 'B0000030PV': 730,\n 'B0000030QX': 731,\n 'B0000030S9': 732,\n 'B0000030V7': 733,\n 'B0000031FZ': 734,\n 'B0000031LC': 735,\n 'B0000031LX': 736,\n 'B0000034LX': 737,\n 'B0000034NJ': 738,\n 'B0000034SJ': 739,\n 'B0000034Z7': 740,\n 'B000003548': 741,\n 'B0000035OJ': 742,\n 'B0000035PH': 743,\n 'B0000035PN': 744,\n 'B0000035V9': 745,\n 'B0000035VC': 746,\n 'B0000035VL': 747,\n 'B0000035VZ': 748,\n 'B0000035XL': 749,\n 'B0000035Y6': 750,\n 'B00000365K': 751,\n 'B00000371D': 752,\n 'B00000371T': 753,\n 'B00000376W': 754,\n 'B00000377Z': 755,\n 'B00000378G': 756,\n 'B000003794': 757,\n 'B00000379F': 758,\n 'B00000379H': 759,\n 'B0000037B4': 760,\n 'B0000037B9': 761,\n 'B0000037BZ': 762,\n 'B0000037DG': 763,\n 'B0000037DT': 764,\n 'B0000037F7': 765,\n 'B0000037FJ': 766,\n 'B0000037GV': 767,\n 'B0000037HL': 768,\n 'B0000037IJ': 769,\n 'B0000037IW': 770,\n 'B0000037JJ': 771,\n 'B0000037K8': 772,\n 'B0000037LC': 773,\n 'B0000037LJ': 774,\n 'B0000038K9': 775,\n 'B0000038KN': 776,\n 'B0000038KU': 777,\n 'B0000038KY': 778,\n 'B0000038L8': 779,\n 'B0000039XV': 780,\n 'B0000039Y4': 781,\n 'B000003A4S': 782,\n 'B000003B9T': 783,\n 'B000003BAT': 784,\n 'B000003BAZ': 785,\n 'B000003BB3': 786,\n 'B000003BBO': 787,\n 'B000003BBT': 788,\n 'B000003BCB': 789,\n 'B000003BLU': 790,\n 'B000003CAL': 791,\n 'B000003CAU': 792,\n 'B000003CG4': 793,\n 'B000003CYI': 794,\n 'B000003D08': 795,\n 'B000003D1U': 796,\n 'B000003D26': 797,\n 'B000003D9I': 798,\n 'B000003DFX': 799,\n 'B000003DSA': 800,\n 'B000003DVR': 801,\n 'B000003E6B': 802,\n 'B000003E95': 803,\n 'B000003EPP': 804,\n 'B000003ES0': 805,\n 'B000003F4J': 806,\n 'B000003FG2': 807,\n 'B000003FOS': 808,\n 'B000003GEE': 809,\n 'B000003GI5': 810,\n 'B000003GIF': 811,\n 'B000003GIN': 812,\n 'B000003GJH': 813,\n 'B000003GJK': 814,\n 'B000003GJO': 815,\n 'B000003H9D': 816,\n 'B000003HAL': 817,\n 'B000003IBY': 818,\n 'B000003IYN': 819,\n 'B000003IZH': 820,\n 'B000003J00': 821,\n 'B000003J05': 822,\n 'B000003J3H': 823,\n 'B000003J9W': 824,\n 'B000003JPK': 825,\n 'B000003JPP': 826,\n 'B000003JPV': 827,\n 'B000003JSF': 828,\n 'B000003L1B': 829,\n 'B000003LAE': 830,\n 'B000003LIC': 831,\n 'B000003LJ8': 832,\n 'B000003LJG': 833,\n 'B000003LK0': 834,\n 'B000003LK4': 835,\n 'B000003LL2': 836,\n 'B000003LLE': 837,\n 'B000003LY7': 838,\n 'B000003M6S': 839,\n 'B000003NM3': 840,\n 'B000003NPV': 841,\n 'B000003OAN': 842,\n 'B000003OBB': 843,\n 'B000003ON3': 844,\n 'B000003ONK': 845,\n 'B000003OPT': 846,\n 'B000003OZC': 847,\n 'B000003QJ4': 848,\n 'B000003QV7': 849,\n 'B000003S7K': 850,\n 'B000003SNA': 851,\n 'B000003ST0': 852,\n 'B000003TK8': 853,\n 'B000003TKH': 854,\n 'B000003TKL': 855,\n 'B000003TQE': 856,\n 'B000003UO5': 857,\n 'B000003UUW': 858,\n 'B000003UXS': 859,\n 'B000003W3C': 860,\n 'B000003XHT': 861,\n 'B000003XO4': 862,\n 'B000003XOD': 863,\n 'B000003Y2V': 864,\n 'B000003Y6D': 865,\n 'B000003Y6F': 866,\n 'B000003Y6I': 867,\n 'B000003Z0O': 868,\n 'B000003ZAH': 869,\n 'B000003ZCD': 870,\n 'B000003ZU5': 871,\n 'B000003ZZ2': 872,\n 'B00000402U': 873,\n 'B00000403H': 874,\n 'B000004189': 875,\n 'B000004197': 876,\n 'B0000041CY': 877,\n 'B0000041DM': 878,\n 'B0000041LB': 879,\n 'B0000042QC': 880,\n 'B00000442Y': 881,\n 'B000004430': 882,\n 'B000004439': 883,\n 'B00000443Y': 884,\n 'B00000445W': 885,\n 'B000004469': 886,\n 'B00000446G': 887,\n 'B0000044CY': 888,\n 'B0000044LP': 889,\n 'B0000044MV': 890,\n 'B0000044N0': 891,\n 'B0000044N1': 892,\n 'B0000044TV': 893,\n 'B0000044V7': 894,\n 'B0000044W3': 895,\n 'B0000044WM': 896,\n 'B0000044X5': 897,\n 'B0000044XF': 898,\n 'B00000451S': 899,\n 'B00000452N': 900,\n 'B000004536': 901,\n 'B000004540': 902,\n 'B0000045TQ': 903,\n 'B0000045VA': 904,\n 'B00000463O': 905,\n 'B00000465V': 906,\n 'B00000465Y': 907,\n 'B0000046T8': 908,\n 'B00000475S': 909,\n 'B0000047SJ': 910,\n 'B00000485H': 911,\n 'B00000488E': 912,\n 'B0000049KH': 913,\n 'B0000049LT': 914,\n 'B0000049MF': 915,\n 'B0000049NM': 916,\n 'B0000049OF': 917,\n 'B0000049OY': 918,\n 'B0000049P7': 919,\n 'B0000049Q4': 920,\n 'B0000049QQ': 921,\n 'B0000049QR': 922,\n 'B0000049RJ': 923,\n 'B0000049VX': 924,\n 'B0000049XD': 925,\n 'B000004A2R': 926,\n 'B000004A3K': 927,\n 'B000004A3N': 928,\n 'B000004AGL': 929,\n 'B000004AGO': 930,\n 'B000004BE7': 931,\n 'B000004BFW': 932,\n 'B000004BHD': 933,\n 'B000004BHP': 934,\n 'B000004BI4': 935,\n 'B000004BKX': 936,\n 'B000004BNF': 937,\n 'B000004CKR': 938,\n 'B000004CRG': 939,\n 'B0000057F6': 940,\n 'B0000057MU': 941,\n 'B0000057SV': 942,\n 'B0000057SZ': 943,\n 'B0000057TD': 944,\n 'B0000057WA': 945,\n 'B0000057WN': 946,\n 'B0000057XA': 947,\n 'B0000057XN': 948,\n 'B0000057XZ': 949,\n 'B0000057YJ': 950,\n 'B0000057ZX': 951,\n 'B0000058HD': 952,\n 'B0000058QO': 953,\n 'B0000058R9': 954,\n 'B0000058RD': 955,\n 'B0000058UZ': 956,\n 'B00000590D': 957,\n 'B00000590Z': 958,\n 'B000005911': 959,\n 'B00000597R': 960,\n 'B00000598K': 961,\n 'B0000059EH': 962,\n 'B0000059KY': 963,\n 'B0000059UV': 964,\n 'B000005A8B': 965,\n 'B000005ANZ': 966,\n 'B000005AOR': 967,\n 'B000005AQ0': 968,\n 'B000005AQ3': 969,\n 'B000005AQC': 970,\n 'B000005AQD': 971,\n 'B000005AQI': 972,\n 'B000005AQX': 973,\n 'B000005ARF': 974,\n 'B000005B7O': 975,\n 'B000005BA4': 976,\n 'B000005BIB': 977,\n 'B000005BIT': 978,\n 'B000005BIU': 979,\n 'B000005BY3': 980,\n 'B000005CMU': 981,\n 'B000005CVA': 982,\n 'B000005D6S': 983,\n 'B000005DAJ': 984,\n 'B000005E3O': 985,\n 'B000005E86': 986,\n 'B000005E8X': 987,\n 'B000005FLD': 988,\n 'B000005FNI': 989,\n 'B000005FPC': 990,\n 'B000005FZS': 991,\n 'B000005FZV': 992,\n 'B000005G3I': 993,\n 'B000005G3R': 994,\n 'B000005G3V': 995,\n 'B000005G3Y': 996,\n 'B000005GGA': 997,\n 'B000005H9K': 998,\n 'B000005HN8': 999,\n ...}"
     },
     "execution_count": 104,
     "metadata": {},
     "output_type": "execute_result"
    }
   ],
   "source": [
    "instruments_mapper"
   ],
   "metadata": {
    "collapsed": false
   }
  },
  {
   "cell_type": "code",
   "execution_count": 108,
   "outputs": [
    {
     "ename": "MemoryError",
     "evalue": "Unable to allocate 210. GiB for an array with shape (83046, 339231) and data type float64",
     "output_type": "error",
     "traceback": [
      "\u001B[0;31m---------------------------------------------------------------------------\u001B[0m",
      "\u001B[0;31mMemoryError\u001B[0m                               Traceback (most recent call last)",
      "Cell \u001B[0;32mIn [108], line 4\u001B[0m\n\u001B[1;32m      2\u001B[0m instrument_index \u001B[38;5;241m=\u001B[39m [instruments_mapper[i] \u001B[38;5;28;01mfor\u001B[39;00m i \u001B[38;5;129;01min\u001B[39;00m df_music_instruments[\u001B[38;5;124m'\u001B[39m\u001B[38;5;124mproductId\u001B[39m\u001B[38;5;124m'\u001B[39m]]\n\u001B[1;32m      3\u001B[0m X \u001B[38;5;241m=\u001B[39m csr_matrix((df_music_instruments[\u001B[38;5;124m\"\u001B[39m\u001B[38;5;124mrating\u001B[39m\u001B[38;5;124m\"\u001B[39m], (instrument_index, user_index)), shape\u001B[38;5;241m=\u001B[39m(M, N))\n\u001B[0;32m----> 4\u001B[0m df_X \u001B[38;5;241m=\u001B[39m pd\u001B[38;5;241m.\u001B[39mDataFrame(\u001B[43mX\u001B[49m\u001B[38;5;241;43m.\u001B[39;49m\u001B[43mtoarray\u001B[49m\u001B[43m(\u001B[49m\u001B[43m)\u001B[49m)\n\u001B[1;32m      5\u001B[0m df_X\n",
      "File \u001B[0;32m~/PycharmProjects/IDTS/venv/lib/python3.9/site-packages/scipy/sparse/_compressed.py:1051\u001B[0m, in \u001B[0;36m_cs_matrix.toarray\u001B[0;34m(self, order, out)\u001B[0m\n\u001B[1;32m   1049\u001B[0m \u001B[38;5;28;01mif\u001B[39;00m out \u001B[38;5;129;01mis\u001B[39;00m \u001B[38;5;28;01mNone\u001B[39;00m \u001B[38;5;129;01mand\u001B[39;00m order \u001B[38;5;129;01mis\u001B[39;00m \u001B[38;5;28;01mNone\u001B[39;00m:\n\u001B[1;32m   1050\u001B[0m     order \u001B[38;5;241m=\u001B[39m \u001B[38;5;28mself\u001B[39m\u001B[38;5;241m.\u001B[39m_swap(\u001B[38;5;124m'\u001B[39m\u001B[38;5;124mcf\u001B[39m\u001B[38;5;124m'\u001B[39m)[\u001B[38;5;241m0\u001B[39m]\n\u001B[0;32m-> 1051\u001B[0m out \u001B[38;5;241m=\u001B[39m \u001B[38;5;28;43mself\u001B[39;49m\u001B[38;5;241;43m.\u001B[39;49m\u001B[43m_process_toarray_args\u001B[49m\u001B[43m(\u001B[49m\u001B[43morder\u001B[49m\u001B[43m,\u001B[49m\u001B[43m \u001B[49m\u001B[43mout\u001B[49m\u001B[43m)\u001B[49m\n\u001B[1;32m   1052\u001B[0m \u001B[38;5;28;01mif\u001B[39;00m \u001B[38;5;129;01mnot\u001B[39;00m (out\u001B[38;5;241m.\u001B[39mflags\u001B[38;5;241m.\u001B[39mc_contiguous \u001B[38;5;129;01mor\u001B[39;00m out\u001B[38;5;241m.\u001B[39mflags\u001B[38;5;241m.\u001B[39mf_contiguous):\n\u001B[1;32m   1053\u001B[0m     \u001B[38;5;28;01mraise\u001B[39;00m \u001B[38;5;167;01mValueError\u001B[39;00m(\u001B[38;5;124m'\u001B[39m\u001B[38;5;124mOutput array must be C or F contiguous\u001B[39m\u001B[38;5;124m'\u001B[39m)\n",
      "File \u001B[0;32m~/PycharmProjects/IDTS/venv/lib/python3.9/site-packages/scipy/sparse/_base.py:1298\u001B[0m, in \u001B[0;36mspmatrix._process_toarray_args\u001B[0;34m(self, order, out)\u001B[0m\n\u001B[1;32m   1296\u001B[0m     \u001B[38;5;28;01mreturn\u001B[39;00m out\n\u001B[1;32m   1297\u001B[0m \u001B[38;5;28;01melse\u001B[39;00m:\n\u001B[0;32m-> 1298\u001B[0m     \u001B[38;5;28;01mreturn\u001B[39;00m \u001B[43mnp\u001B[49m\u001B[38;5;241;43m.\u001B[39;49m\u001B[43mzeros\u001B[49m\u001B[43m(\u001B[49m\u001B[38;5;28;43mself\u001B[39;49m\u001B[38;5;241;43m.\u001B[39;49m\u001B[43mshape\u001B[49m\u001B[43m,\u001B[49m\u001B[43m \u001B[49m\u001B[43mdtype\u001B[49m\u001B[38;5;241;43m=\u001B[39;49m\u001B[38;5;28;43mself\u001B[39;49m\u001B[38;5;241;43m.\u001B[39;49m\u001B[43mdtype\u001B[49m\u001B[43m,\u001B[49m\u001B[43m \u001B[49m\u001B[43morder\u001B[49m\u001B[38;5;241;43m=\u001B[39;49m\u001B[43morder\u001B[49m\u001B[43m)\u001B[49m\n",
      "\u001B[0;31mMemoryError\u001B[0m: Unable to allocate 210. GiB for an array with shape (83046, 339231) and data type float64"
     ]
    }
   ],
   "source": [
    "user_index = [user_mapper[i] for i in df_music_instruments['userId']]\n",
    "instrument_index = [instruments_mapper[i] for i in df_music_instruments['productId']]\n",
    "X = csr_matrix((df_music_instruments[\"rating\"], (instrument_index, user_index)), shape=(M, N))\n",
    "df_X = pd.DataFrame(X.toarray())\n",
    "df_X"
   ],
   "metadata": {
    "collapsed": false
   }
  },
  {
   "cell_type": "code",
   "execution_count": null,
   "outputs": [],
   "source": [
    "product_id = random.randint(0, n_instruments)\n",
    "res = df_music_instruments.loc[df_music_instruments['productId'] == df_music_instruments['productId'].unique()[product_id]]\n",
    "res"
   ],
   "metadata": {
    "collapsed": false
   }
  },
  {
   "cell_type": "code",
   "execution_count": null,
   "outputs": [],
   "source": [
    "res = str(res.productId.values[0])\n",
    "res"
   ],
   "metadata": {
    "collapsed": false
   }
  },
  {
   "cell_type": "code",
   "execution_count": null,
   "outputs": [],
   "source": [
    "def find_similar_instruments(movie_id, X, k):\n",
    "    neighbour_ids = []\n",
    "    product_idx = instruments_mapper[res]\n",
    "    product_vec = X[product_idx]\n",
    "    k=10\n",
    "    knn = NearestNeighbors(n_neighbors=k+1, algorithm=\"brute\", metric=\"cosine\")\n",
    "    knn.fit(X)\n",
    "    product_vec = product_vec.reshape(1, -1)\n",
    "    neighbour = knn.kneighbors(product_vec, return_distance=False)\n",
    "\n",
    "    product_inv_mapper = dict(zip(list(range(M)), np.unique(df_music_instruments['productId'])))\n",
    "\n",
    "    for i in range(0, k):\n",
    "        n = neighbour.item(i)\n",
    "        neighbour_ids.append(product_inv_mapper[n])\n",
    "    neighbour_ids.pop(0)\n",
    "    return neighbour_ids"
   ],
   "metadata": {
    "collapsed": false
   }
  },
  {
   "cell_type": "code",
   "execution_count": null,
   "outputs": [],
   "source": [
    "product_id = 'B00134MTQ0'\n",
    "similar_ids = find_similar_instruments(product_id, X, k=10)\n",
    "print(similar_ids)"
   ],
   "metadata": {
    "collapsed": false
   }
  },
  {
   "cell_type": "code",
   "execution_count": null,
   "outputs": [],
   "source": [
    "rated = df_music_instruments.loc[df_music_instruments['productId'] == product_id]\n",
    "rated"
   ],
   "metadata": {
    "collapsed": false
   }
  },
  {
   "cell_type": "code",
   "execution_count": 89,
   "outputs": [
    {
     "ename": "MemoryError",
     "evalue": "Unable to allocate 210. GiB for an array with shape (83046, 339231) and data type float64",
     "output_type": "error",
     "traceback": [
      "\u001B[0;31m---------------------------------------------------------------------------\u001B[0m",
      "\u001B[0;31mMemoryError\u001B[0m                               Traceback (most recent call last)",
      "Cell \u001B[0;32mIn [89], line 4\u001B[0m\n\u001B[1;32m      2\u001B[0m instrument_index \u001B[38;5;241m=\u001B[39m [instruments_mapper[i] \u001B[38;5;28;01mfor\u001B[39;00m i \u001B[38;5;129;01min\u001B[39;00m df_music_instruments[\u001B[38;5;124m'\u001B[39m\u001B[38;5;124mproductId\u001B[39m\u001B[38;5;124m'\u001B[39m]]\n\u001B[1;32m      3\u001B[0m X \u001B[38;5;241m=\u001B[39m csr_matrix((df_music_instruments[\u001B[38;5;124m\"\u001B[39m\u001B[38;5;124mrating\u001B[39m\u001B[38;5;124m\"\u001B[39m], (instrument_index, user_index)), shape\u001B[38;5;241m=\u001B[39m(M, N))\n\u001B[0;32m----> 4\u001B[0m df_X \u001B[38;5;241m=\u001B[39m pd\u001B[38;5;241m.\u001B[39mDataFrame(\u001B[43mX\u001B[49m\u001B[38;5;241;43m.\u001B[39;49m\u001B[43mtoarray\u001B[49m\u001B[43m(\u001B[49m\u001B[43m)\u001B[49m)\n\u001B[1;32m      6\u001B[0m df_X_T \u001B[38;5;241m=\u001B[39m df_X\u001B[38;5;241m.\u001B[39mT\u001B[38;5;241m.\u001B[39mcopy()\n\u001B[1;32m      7\u001B[0m df_X_T[\u001B[38;5;124m'\u001B[39m\u001B[38;5;124muserBias\u001B[39m\u001B[38;5;124m'\u001B[39m] \u001B[38;5;241m=\u001B[39m df_X_T[df_X_T\u001B[38;5;241m!=\u001B[39m\u001B[38;5;241m0\u001B[39m]\u001B[38;5;241m.\u001B[39mmean(numeric_only\u001B[38;5;241m=\u001B[39m\u001B[38;5;28;01mTrue\u001B[39;00m, axis\u001B[38;5;241m=\u001B[39m\u001B[38;5;241m1\u001B[39m)\n",
      "File \u001B[0;32m~/PycharmProjects/IDTS/venv/lib/python3.9/site-packages/scipy/sparse/_compressed.py:1051\u001B[0m, in \u001B[0;36m_cs_matrix.toarray\u001B[0;34m(self, order, out)\u001B[0m\n\u001B[1;32m   1049\u001B[0m \u001B[38;5;28;01mif\u001B[39;00m out \u001B[38;5;129;01mis\u001B[39;00m \u001B[38;5;28;01mNone\u001B[39;00m \u001B[38;5;129;01mand\u001B[39;00m order \u001B[38;5;129;01mis\u001B[39;00m \u001B[38;5;28;01mNone\u001B[39;00m:\n\u001B[1;32m   1050\u001B[0m     order \u001B[38;5;241m=\u001B[39m \u001B[38;5;28mself\u001B[39m\u001B[38;5;241m.\u001B[39m_swap(\u001B[38;5;124m'\u001B[39m\u001B[38;5;124mcf\u001B[39m\u001B[38;5;124m'\u001B[39m)[\u001B[38;5;241m0\u001B[39m]\n\u001B[0;32m-> 1051\u001B[0m out \u001B[38;5;241m=\u001B[39m \u001B[38;5;28;43mself\u001B[39;49m\u001B[38;5;241;43m.\u001B[39;49m\u001B[43m_process_toarray_args\u001B[49m\u001B[43m(\u001B[49m\u001B[43morder\u001B[49m\u001B[43m,\u001B[49m\u001B[43m \u001B[49m\u001B[43mout\u001B[49m\u001B[43m)\u001B[49m\n\u001B[1;32m   1052\u001B[0m \u001B[38;5;28;01mif\u001B[39;00m \u001B[38;5;129;01mnot\u001B[39;00m (out\u001B[38;5;241m.\u001B[39mflags\u001B[38;5;241m.\u001B[39mc_contiguous \u001B[38;5;129;01mor\u001B[39;00m out\u001B[38;5;241m.\u001B[39mflags\u001B[38;5;241m.\u001B[39mf_contiguous):\n\u001B[1;32m   1053\u001B[0m     \u001B[38;5;28;01mraise\u001B[39;00m \u001B[38;5;167;01mValueError\u001B[39;00m(\u001B[38;5;124m'\u001B[39m\u001B[38;5;124mOutput array must be C or F contiguous\u001B[39m\u001B[38;5;124m'\u001B[39m)\n",
      "File \u001B[0;32m~/PycharmProjects/IDTS/venv/lib/python3.9/site-packages/scipy/sparse/_base.py:1298\u001B[0m, in \u001B[0;36mspmatrix._process_toarray_args\u001B[0;34m(self, order, out)\u001B[0m\n\u001B[1;32m   1296\u001B[0m     \u001B[38;5;28;01mreturn\u001B[39;00m out\n\u001B[1;32m   1297\u001B[0m \u001B[38;5;28;01melse\u001B[39;00m:\n\u001B[0;32m-> 1298\u001B[0m     \u001B[38;5;28;01mreturn\u001B[39;00m \u001B[43mnp\u001B[49m\u001B[38;5;241;43m.\u001B[39;49m\u001B[43mzeros\u001B[49m\u001B[43m(\u001B[49m\u001B[38;5;28;43mself\u001B[39;49m\u001B[38;5;241;43m.\u001B[39;49m\u001B[43mshape\u001B[49m\u001B[43m,\u001B[49m\u001B[43m \u001B[49m\u001B[43mdtype\u001B[49m\u001B[38;5;241;43m=\u001B[39;49m\u001B[38;5;28;43mself\u001B[39;49m\u001B[38;5;241;43m.\u001B[39;49m\u001B[43mdtype\u001B[49m\u001B[43m,\u001B[49m\u001B[43m \u001B[49m\u001B[43morder\u001B[49m\u001B[38;5;241;43m=\u001B[39;49m\u001B[43morder\u001B[49m\u001B[43m)\u001B[49m\n",
      "\u001B[0;31mMemoryError\u001B[0m: Unable to allocate 210. GiB for an array with shape (83046, 339231) and data type float64"
     ]
    }
   ],
   "source": [
    "user_index = [user_mapper[i] for i in df_music_instruments['userId']]\n",
    "instrument_index = [instruments_mapper[i] for i in df_music_instruments['productId']]\n",
    "X = csr_matrix((df_music_instruments[\"rating\"], (instrument_index, user_index)), shape=(M, N))\n",
    "df_X = pd.DataFrame(X.toarray())\n",
    "\n",
    "df_X_T = df_X.T.copy()\n",
    "df_X_T['userBias'] = df_X_T[df_X_T!=0].mean(numeric_only=True, axis=1)\n",
    "df_X_T"
   ],
   "metadata": {
    "collapsed": false
   }
  },
  {
   "cell_type": "code",
   "execution_count": 88,
   "outputs": [
    {
     "ename": "NameError",
     "evalue": "name 'df_X_T' is not defined",
     "output_type": "error",
     "traceback": [
      "\u001B[0;31m---------------------------------------------------------------------------\u001B[0m",
      "\u001B[0;31mNameError\u001B[0m                                 Traceback (most recent call last)",
      "Cell \u001B[0;32mIn [88], line 1\u001B[0m\n\u001B[0;32m----> 1\u001B[0m usrBias \u001B[38;5;241m=\u001B[39m \u001B[43mdf_X_T\u001B[49m\u001B[38;5;241m.\u001B[39miloc[rated[\u001B[38;5;124m\"\u001B[39m\u001B[38;5;124muserId\u001B[39m\u001B[38;5;124m\"\u001B[39m]\u001B[38;5;241m.\u001B[39mvalues][\u001B[38;5;124m\"\u001B[39m\u001B[38;5;124muserBias\u001B[39m\u001B[38;5;124m\"\u001B[39m]\n\u001B[1;32m      2\u001B[0m usrBias \u001B[38;5;241m=\u001B[39m usrBias\u001B[38;5;241m.\u001B[39mreset_index(drop\u001B[38;5;241m=\u001B[39m\u001B[38;5;28;01mTrue\u001B[39;00m)\n\u001B[1;32m      3\u001B[0m usrBias\n",
      "\u001B[0;31mNameError\u001B[0m: name 'df_X_T' is not defined"
     ]
    }
   ],
   "source": [
    "usrBias = df_X_T.iloc[rated[\"userId\"].values][\"userBias\"]\n",
    "usrBias = usrBias.reset_index(drop=True)\n",
    "usrBias"
   ],
   "metadata": {
    "collapsed": false
   }
  },
  {
   "cell_type": "code",
   "execution_count": 90,
   "outputs": [
    {
     "data": {
      "text/plain": "           userId   productId  rating   timestamp\n0  A1A05QGI4TU03P  B00134MTQ0     5.0  1297728000\n1  A17YP2PBM5UZIE  B00134MTQ0     5.0  1234396800\n2  A11XKY4EIU2KNR  B00134MTQ0     5.0  1209427200\n3  A10EMAECWBNUD7  B00134MTQ0     5.0  1206057600\n4  A1B3M5F5W3S7EP  B00134MTQ0     5.0  1271894400\n5  A3361KTY53AP68  B00134MTQ0     4.0  1333584000\n6  A2TITUUC6WRT07  B00134MTQ0     4.0  1257465600",
      "text/html": "<div>\n<style scoped>\n    .dataframe tbody tr th:only-of-type {\n        vertical-align: middle;\n    }\n\n    .dataframe tbody tr th {\n        vertical-align: top;\n    }\n\n    .dataframe thead th {\n        text-align: right;\n    }\n</style>\n<table border=\"1\" class=\"dataframe\">\n  <thead>\n    <tr style=\"text-align: right;\">\n      <th></th>\n      <th>userId</th>\n      <th>productId</th>\n      <th>rating</th>\n      <th>timestamp</th>\n    </tr>\n  </thead>\n  <tbody>\n    <tr>\n      <th>0</th>\n      <td>A1A05QGI4TU03P</td>\n      <td>B00134MTQ0</td>\n      <td>5.0</td>\n      <td>1297728000</td>\n    </tr>\n    <tr>\n      <th>1</th>\n      <td>A17YP2PBM5UZIE</td>\n      <td>B00134MTQ0</td>\n      <td>5.0</td>\n      <td>1234396800</td>\n    </tr>\n    <tr>\n      <th>2</th>\n      <td>A11XKY4EIU2KNR</td>\n      <td>B00134MTQ0</td>\n      <td>5.0</td>\n      <td>1209427200</td>\n    </tr>\n    <tr>\n      <th>3</th>\n      <td>A10EMAECWBNUD7</td>\n      <td>B00134MTQ0</td>\n      <td>5.0</td>\n      <td>1206057600</td>\n    </tr>\n    <tr>\n      <th>4</th>\n      <td>A1B3M5F5W3S7EP</td>\n      <td>B00134MTQ0</td>\n      <td>5.0</td>\n      <td>1271894400</td>\n    </tr>\n    <tr>\n      <th>5</th>\n      <td>A3361KTY53AP68</td>\n      <td>B00134MTQ0</td>\n      <td>4.0</td>\n      <td>1333584000</td>\n    </tr>\n    <tr>\n      <th>6</th>\n      <td>A2TITUUC6WRT07</td>\n      <td>B00134MTQ0</td>\n      <td>4.0</td>\n      <td>1257465600</td>\n    </tr>\n  </tbody>\n</table>\n</div>"
     },
     "execution_count": 90,
     "metadata": {},
     "output_type": "execute_result"
    }
   ],
   "source": [
    "df_rated = rated.reset_index(drop=True)\n",
    "df_rated"
   ],
   "metadata": {
    "collapsed": false
   }
  },
  {
   "cell_type": "code",
   "execution_count": 91,
   "outputs": [
    {
     "ename": "NameError",
     "evalue": "name 'usrBias' is not defined",
     "output_type": "error",
     "traceback": [
      "\u001B[0;31m---------------------------------------------------------------------------\u001B[0m",
      "\u001B[0;31mNameError\u001B[0m                                 Traceback (most recent call last)",
      "Cell \u001B[0;32mIn [91], line 1\u001B[0m\n\u001B[0;32m----> 1\u001B[0m filtering \u001B[38;5;241m=\u001B[39m df_rated[\u001B[38;5;124m\"\u001B[39m\u001B[38;5;124mrating\u001B[39m\u001B[38;5;124m\"\u001B[39m]\u001B[38;5;241m>\u001B[39m\u001B[38;5;241m=\u001B[39m\u001B[43musrBias\u001B[49m\n\u001B[1;32m      2\u001B[0m filtering\n",
      "\u001B[0;31mNameError\u001B[0m: name 'usrBias' is not defined"
     ]
    }
   ],
   "source": [
    "filtering = df_rated[\"rating\"]>=usrBias\n",
    "filtering"
   ],
   "metadata": {
    "collapsed": false
   }
  },
  {
   "cell_type": "code",
   "execution_count": 92,
   "outputs": [
    {
     "ename": "NameError",
     "evalue": "name 'filtering' is not defined",
     "output_type": "error",
     "traceback": [
      "\u001B[0;31m---------------------------------------------------------------------------\u001B[0m",
      "\u001B[0;31mNameError\u001B[0m                                 Traceback (most recent call last)",
      "Cell \u001B[0;32mIn [92], line 1\u001B[0m\n\u001B[0;32m----> 1\u001B[0m recommend \u001B[38;5;241m=\u001B[39m df_rated\u001B[38;5;241m.\u001B[39mloc[\u001B[43mfiltering\u001B[49m]\n\u001B[1;32m      3\u001B[0m \u001B[38;5;28mprint\u001B[39m(recommend)\n",
      "\u001B[0;31mNameError\u001B[0m: name 'filtering' is not defined"
     ]
    }
   ],
   "source": [
    "recommend = df_rated.loc[filtering]\n",
    "\n",
    "print(recommend)"
   ],
   "metadata": {
    "collapsed": false
   }
  },
  {
   "cell_type": "code",
   "execution_count": null,
   "outputs": [],
   "source": [],
   "metadata": {
    "collapsed": false
   }
  }
 ],
 "metadata": {
  "kernelspec": {
   "display_name": "Python 3",
   "language": "python",
   "name": "python3"
  },
  "language_info": {
   "codemirror_mode": {
    "name": "ipython",
    "version": 2
   },
   "file_extension": ".py",
   "mimetype": "text/x-python",
   "name": "python",
   "nbconvert_exporter": "python",
   "pygments_lexer": "ipython2",
   "version": "2.7.6"
  }
 },
 "nbformat": 4,
 "nbformat_minor": 0
}
