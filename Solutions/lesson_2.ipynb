{
 "cells": [
  {
   "cell_type": "code",
   "execution_count": 14,
   "metadata": {
    "collapsed": true
   },
   "outputs": [
    {
     "name": "stdout",
     "output_type": "stream",
     "text": [
      "[[1. 1. 1. 1. 1.]\n",
      " [1. 0. 0. 0. 1.]\n",
      " [1. 0. 0. 0. 1.]\n",
      " [1. 0. 0. 0. 1.]\n",
      " [1. 1. 1. 1. 1.]]\n"
     ]
    }
   ],
   "source": [
    "import numpy as np\n",
    "\n",
    "# Create a 2D array of shape 5x5 with all zeros and 1 on the border\n",
    "x = np.ones((5,5))\n",
    "x[1:4, 1:4] = 0\n",
    "print(x)"
   ]
  },
  {
   "cell_type": "code",
   "execution_count": 15,
   "outputs": [
    {
     "name": "stdout",
     "output_type": "stream",
     "text": [
      "[[1. 0. 0. 0. 0.]\n",
      " [0. 1. 0. 0. 0.]\n",
      " [0. 0. 1. 0. 0.]\n",
      " [0. 0. 0. 1. 0.]\n",
      " [0. 0. 0. 0. 1.]]\n"
     ]
    }
   ],
   "source": [
    "# Create a 2D array of shape 5x5 with all zeros and 1 on the diagonal\n",
    "x = np.zeros((5,5))\n",
    "np.fill_diagonal(x, 1)\n",
    "print(x)\n",
    "np.eye(5)\n",
    "np.identity(5)"
   ],
   "metadata": {
    "collapsed": false
   }
  },
  {
   "cell_type": "code",
   "execution_count": 19,
   "outputs": [
    {
     "name": "stdout",
     "output_type": "stream",
     "text": [
      "169989444\n"
     ]
    }
   ],
   "source": [
    "# Write a function that takes 2 arrays (A and B) as an input and return the element-wise square of the dot product of two input vectors\n",
    "x1 = np.random.randint(10, size=5)\n",
    "print(x1)\n",
    "x2 = np.random.randint(10, size=5)\n",
    "print(x2)\n",
    "def get_element_wise_square(a, b):\n",
    "    return np.square(np.dot(a, b))\n",
    "print(get_element_wise_square(x1, x2))"
   ],
   "metadata": {
    "collapsed": false
   }
  },
  {
   "cell_type": "code",
   "execution_count": 31,
   "outputs": [
    {
     "name": "stdout",
     "output_type": "stream",
     "text": [
      "[9 7 8 3 5]\n",
      "[1 5 7 0]\n"
     ]
    },
    {
     "data": {
      "text/plain": "'error'"
     },
     "execution_count": 31,
     "metadata": {},
     "output_type": "execute_result"
    }
   ],
   "source": [
    "# Write a function that takes 2 arrays (A and B) of the same shape as in input and return the following:\n",
    "# - The element-wise square of sum A and B\n",
    "# - The element-wise square of difference of A and B\n",
    "# - The sum of element-wise square of A and B\n",
    "# - The difference of element-wise square of A and B\n",
    "x1 = np.random.randint(10, size=5)\n",
    "print(x1)\n",
    "x2 = np.random.randint(10, size=5)\n",
    "print(x2)\n",
    "def work_with_arrays(a, b):\n",
    "    if a.shape != b.shape:\n",
    "        return 'error'\n",
    "\n",
    "    task_a = np.square(np.add(a, b))\n",
    "    print(task_a)\n",
    "\n",
    "    task_b = np.square(np.subtract(a, b))\n",
    "    print(task_b)\n",
    "\n",
    "    task_c = np.add(np.square(a), np.square(b))\n",
    "    print(task_c)\n",
    "\n",
    "    task_d = np.subtract(np.square(a), np.square(b))\n",
    "    print(task_d)\n",
    "\n",
    "work_with_arrays(x1, x2)"
   ],
   "metadata": {
    "collapsed": false
   }
  }
 ],
 "metadata": {
  "kernelspec": {
   "display_name": "Python 3",
   "language": "python",
   "name": "python3"
  },
  "language_info": {
   "codemirror_mode": {
    "name": "ipython",
    "version": 2
   },
   "file_extension": ".py",
   "mimetype": "text/x-python",
   "name": "python",
   "nbconvert_exporter": "python",
   "pygments_lexer": "ipython2",
   "version": "2.7.6"
  }
 },
 "nbformat": 4,
 "nbformat_minor": 0
}
